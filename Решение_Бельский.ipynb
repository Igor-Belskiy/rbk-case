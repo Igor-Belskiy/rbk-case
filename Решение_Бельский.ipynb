{
  "nbformat": 4,
  "nbformat_minor": 0,
  "metadata": {
    "colab": {
      "name": "Решение Бельский.ipynb",
      "provenance": [],
      "collapsed_sections": [
        "La0tGMdXhszT",
        "uh7cGA1sj7p_",
        "S4de-Jd4kWRw",
        "bQKqinV49kCl"
      ],
      "authorship_tag": "ABX9TyN5Xh0BMdtR1o3iuG5n4/Ad",
      "include_colab_link": true
    },
    "kernelspec": {
      "name": "python3",
      "display_name": "Python 3"
    },
    "language_info": {
      "name": "python"
    },
    "gpuClass": "standard",
    "accelerator": "GPU"
  },
  "cells": [
    {
      "cell_type": "markdown",
      "metadata": {
        "id": "view-in-github",
        "colab_type": "text"
      },
      "source": [
        "<a href=\"https://colab.research.google.com/github/Igor-Belskiy/rbk-case/blob/main/%D0%A0%D0%B5%D1%88%D0%B5%D0%BD%D0%B8%D0%B5_%D0%91%D0%B5%D0%BB%D1%8C%D1%81%D0%BA%D0%B8%D0%B9.ipynb\" target=\"_parent\"><img src=\"https://colab.research.google.com/assets/colab-badge.svg\" alt=\"Open In Colab\"/></a>"
      ]
    },
    {
      "cell_type": "code",
      "execution_count": null,
      "metadata": {
        "id": "qNSrQ0ATkHFQ"
      },
      "outputs": [],
      "source": [
        "import numpy as np   # для работы с данными\n",
        "import pandas as pd   # для работы с таблицами\n",
        "import time    # Импортируем библиотеку time\n",
        "from datetime import datetime    # Для обработки дат\n",
        "import re\n",
        "\n",
        "import matplotlib.pyplot as plt #Отрисовка графиков\n",
        "\n",
        "from tensorflow.keras.preprocessing.text import Tokenizer   # Методы для работы с текстами и преоборазвания их в последовательности\n",
        "from tensorflow.keras import utils  # для работы с категориальными данными\n",
        "from tensorflow.keras.optimizers import Adam #Оптимизатор\n",
        "from tensorflow.keras.models import Sequential, Model #Два варианты моделей\n",
        "from tensorflow.keras.layers import concatenate, Input, Dense, Dropout, BatchNormalization, Flatten, Conv1D, Conv2D, LSTM, GlobalMaxPooling1D, MaxPooling1D, RepeatVector #Стандартные слои\n",
        "from tensorflow.keras.utils import plot_model     # Для отрисовки моделей\n",
        "\n",
        "from sklearn.preprocessing import StandardScaler, MinMaxScaler #Нормировщики\n",
        "from sklearn.model_selection import train_test_split  # Для раздения выборки на тестовую и обучающую"
      ]
    },
    {
      "cell_type": "markdown",
      "source": [
        "# Загрузка данных"
      ],
      "metadata": {
        "id": "IcP4AUMumaXI"
      }
    },
    {
      "cell_type": "code",
      "source": [
        "from google_drive_downloader import GoogleDriveDownloader as gdd   # для загрузки с гугл-драйва в колабораторию\n",
        "\n",
        "# Копию бучающег и тестовог датасета предварительно загрузил к себе на гугл-диск\n",
        "# и Колабораторию загружаю их напрямую уже со своего диска (досутуп отркыт для всех по ссылке)\n",
        "\n",
        "gdd.download_file_from_google_drive(file_id='1OJs8ZLeKe1BflJMGWM5QLbsbMHCiWhJ7', \n",
        "                                    dest_path='/content/test_dataset_test.csv', \n",
        "                                    showsize=True,\n",
        "                                    overwrite=True) #Скачиваем тестовый датасет\n",
        "\n",
        "gdd.download_file_from_google_drive(file_id='1sIbebBPuT3YC6OC-uUP8Q7i3YUJfS2Ad', \n",
        "                                    dest_path='/content/train_dataset_train.csv', \n",
        "                                    showsize=True,\n",
        "                                    overwrite=True) #Скачиваем тренировочный датасет"
      ],
      "metadata": {
        "id": "VOqghYs-eiCf",
        "colab": {
          "base_uri": "https://localhost:8080/"
        },
        "outputId": "52d2ffab-e7b9-45f4-abaa-66f9ecf8c91f"
      },
      "execution_count": null,
      "outputs": [
        {
          "output_type": "stream",
          "name": "stdout",
          "text": [
            "Downloading 1OJs8ZLeKe1BflJMGWM5QLbsbMHCiWhJ7 into /content/test_dataset_test.csv... \n",
            "1.2 MiB Done.\n",
            "Downloading 1sIbebBPuT3YC6OC-uUP8Q7i3YUJfS2Ad into /content/train_dataset_train.csv... \n",
            "2.9 MiB Done.\n"
          ]
        }
      ]
    },
    {
      "cell_type": "code",
      "source": [
        "df_test = pd.read_csv('/content/test_dataset_test.csv', index_col= 0)\n",
        "\n",
        "df_train = pd.read_csv('/content/train_dataset_train.csv', index_col= 0)"
      ],
      "metadata": {
        "id": "aZZaNl2hiVGl"
      },
      "execution_count": null,
      "outputs": []
    },
    {
      "cell_type": "code",
      "source": [
        "df_train.columns"
      ],
      "metadata": {
        "colab": {
          "base_uri": "https://localhost:8080/"
        },
        "id": "u230DE89mWBK",
        "outputId": "2d485e95-a59a-4e71-83e2-02ddaa7407a0"
      },
      "execution_count": null,
      "outputs": [
        {
          "output_type": "execute_result",
          "data": {
            "text/plain": [
              "Index(['title', 'publish_date', 'session', 'authors', 'ctr', 'category',\n",
              "       'tags', 'views', 'depth', 'full_reads_percent'],\n",
              "      dtype='object')"
            ]
          },
          "metadata": {},
          "execution_count": 4
        }
      ]
    },
    {
      "cell_type": "code",
      "source": [
        "df_train.shape[0]"
      ],
      "metadata": {
        "colab": {
          "base_uri": "https://localhost:8080/"
        },
        "id": "MtN2cqBQRvJ_",
        "outputId": "ced9b19b-2f36-43ca-f9c2-a7412ffb51a4"
      },
      "execution_count": null,
      "outputs": [
        {
          "output_type": "execute_result",
          "data": {
            "text/plain": [
              "7000"
            ]
          },
          "metadata": {},
          "execution_count": 5
        }
      ]
    },
    {
      "cell_type": "markdown",
      "source": [
        "# Предварительный осмотр данных"
      ],
      "metadata": {
        "id": "BOgkvPRcmRdD"
      }
    },
    {
      "cell_type": "code",
      "source": [
        "df_train.info()"
      ],
      "metadata": {
        "colab": {
          "base_uri": "https://localhost:8080/"
        },
        "id": "a8qsfQQUlIys",
        "outputId": "1692790d-0d3e-417d-9f56-c9d5f525fd42"
      },
      "execution_count": null,
      "outputs": [
        {
          "output_type": "stream",
          "name": "stdout",
          "text": [
            "<class 'pandas.core.frame.DataFrame'>\n",
            "Index: 7000 entries, 624ac09c9a7947db3d80c98eIDE7mtH4RBqGn-8MXfGffQ to 627f1c089a794743b070ff73hVvdVmFxS2SlZ2_lECDEow\n",
            "Data columns (total 10 columns):\n",
            " #   Column              Non-Null Count  Dtype  \n",
            "---  ------              --------------  -----  \n",
            " 0   title               7000 non-null   object \n",
            " 1   publish_date        7000 non-null   object \n",
            " 2   session             7000 non-null   object \n",
            " 3   authors             7000 non-null   object \n",
            " 4   ctr                 7000 non-null   float64\n",
            " 5   category            7000 non-null   object \n",
            " 6   tags                7000 non-null   object \n",
            " 7   views               7000 non-null   int64  \n",
            " 8   depth               7000 non-null   float64\n",
            " 9   full_reads_percent  7000 non-null   float64\n",
            "dtypes: float64(3), int64(1), object(6)\n",
            "memory usage: 601.6+ KB\n"
          ]
        }
      ]
    },
    {
      "cell_type": "code",
      "source": [
        "df_train.head()"
      ],
      "metadata": {
        "colab": {
          "base_uri": "https://localhost:8080/",
          "height": 666
        },
        "id": "mnQ6D6WqjctG",
        "outputId": "e5320d17-3622-45a7-e0ec-566f0452dbcb"
      },
      "execution_count": null,
      "outputs": [
        {
          "output_type": "execute_result",
          "data": {
            "text/plain": [
              "                                                                                            title  \\\n",
              "document_id                                                                                         \n",
              "624ac09c9a7947db3d80c98eIDE7mtH4RBqGn-8MXfGffQ  Европейский банк развития приостановил доступ ...   \n",
              "620f6b899a7947701cf489e1KtVJsteHStO5oditt3Uvzw  Кремль назвал регулярным процессом учебные зап...   \n",
              "620730cf9a7947ab96a44e27hk7puWJwSziw0m3sfTkKWA  Госсекретарь Швеции заявила о нежелании вступа...   \n",
              "6262a5889a79470b78c9ca307UKY2SSZTjCcjhwBzxw37w  Песков назвал прагматичной выдачу лицензии Газ...   \n",
              "626678929a79477ca0101568wuMYES90REuV5YhrN75IXg  В Хабаровске задержали главу филиала РАНХиГС п...   \n",
              "\n",
              "                                                       publish_date  \\\n",
              "document_id                                                           \n",
              "624ac09c9a7947db3d80c98eIDE7mtH4RBqGn-8MXfGffQ  2022-04-04 10:29:44   \n",
              "620f6b899a7947701cf489e1KtVJsteHStO5oditt3Uvzw  2022-02-18 10:00:39   \n",
              "620730cf9a7947ab96a44e27hk7puWJwSziw0m3sfTkKWA  2022-02-12 04:24:02   \n",
              "6262a5889a79470b78c9ca307UKY2SSZTjCcjhwBzxw37w  2022-04-22 13:24:55   \n",
              "626678929a79477ca0101568wuMYES90REuV5YhrN75IXg  2022-04-25 10:42:23   \n",
              "\n",
              "                                                               session  \\\n",
              "document_id                                                              \n",
              "624ac09c9a7947db3d80c98eIDE7mtH4RBqGn-8MXfGffQ  IDE7mtH4RBqGn-8MXfGffQ   \n",
              "620f6b899a7947701cf489e1KtVJsteHStO5oditt3Uvzw  KtVJsteHStO5oditt3Uvzw   \n",
              "620730cf9a7947ab96a44e27hk7puWJwSziw0m3sfTkKWA  hk7puWJwSziw0m3sfTkKWA   \n",
              "6262a5889a79470b78c9ca307UKY2SSZTjCcjhwBzxw37w  7UKY2SSZTjCcjhwBzxw37w   \n",
              "626678929a79477ca0101568wuMYES90REuV5YhrN75IXg  wuMYES90REuV5YhrN75IXg   \n",
              "\n",
              "                                                                                          authors  \\\n",
              "document_id                                                                                         \n",
              "624ac09c9a7947db3d80c98eIDE7mtH4RBqGn-8MXfGffQ                                                 []   \n",
              "620f6b899a7947701cf489e1KtVJsteHStO5oditt3Uvzw  ['54244e01cbb20f03076b236d','5878a2ec9a7947e53...   \n",
              "620730cf9a7947ab96a44e27hk7puWJwSziw0m3sfTkKWA                                                 []   \n",
              "6262a5889a79470b78c9ca307UKY2SSZTjCcjhwBzxw37w                                                 []   \n",
              "626678929a79477ca0101568wuMYES90REuV5YhrN75IXg                                                 []   \n",
              "\n",
              "                                                  ctr  \\\n",
              "document_id                                             \n",
              "624ac09c9a7947db3d80c98eIDE7mtH4RBqGn-8MXfGffQ  1.580   \n",
              "620f6b899a7947701cf489e1KtVJsteHStO5oditt3Uvzw  1.853   \n",
              "620730cf9a7947ab96a44e27hk7puWJwSziw0m3sfTkKWA  0.000   \n",
              "6262a5889a79470b78c9ca307UKY2SSZTjCcjhwBzxw37w  0.000   \n",
              "626678929a79477ca0101568wuMYES90REuV5YhrN75IXg  0.000   \n",
              "\n",
              "                                                                category  \\\n",
              "document_id                                                                \n",
              "624ac09c9a7947db3d80c98eIDE7mtH4RBqGn-8MXfGffQ  5409f11ce063da9c8b588a18   \n",
              "620f6b899a7947701cf489e1KtVJsteHStO5oditt3Uvzw  5409f11ce063da9c8b588a12   \n",
              "620730cf9a7947ab96a44e27hk7puWJwSziw0m3sfTkKWA  5409f11ce063da9c8b588a12   \n",
              "6262a5889a79470b78c9ca307UKY2SSZTjCcjhwBzxw37w  5409f11ce063da9c8b588a12   \n",
              "626678929a79477ca0101568wuMYES90REuV5YhrN75IXg  5433e5decbb20f277b20eca9   \n",
              "\n",
              "                                                                                             tags  \\\n",
              "document_id                                                                                         \n",
              "624ac09c9a7947db3d80c98eIDE7mtH4RBqGn-8MXfGffQ  ['55928d339a794751dc8303d6', '542d1e28cbb20f86...   \n",
              "620f6b899a7947701cf489e1KtVJsteHStO5oditt3Uvzw  ['549d25df9a794775979561d2', '58abcf539a7947f1...   \n",
              "620730cf9a7947ab96a44e27hk7puWJwSziw0m3sfTkKWA  ['5430f451cbb20f73931ecd05', '5409f15de063daa0...   \n",
              "6262a5889a79470b78c9ca307UKY2SSZTjCcjhwBzxw37w  ['5409f297e063daa0f408b11c', '545caa9ecbb20f36...   \n",
              "626678929a79477ca0101568wuMYES90REuV5YhrN75IXg  ['5409f42ae063daa0f408b5d7', '585c20e19a79470e...   \n",
              "\n",
              "                                                views  depth  \\\n",
              "document_id                                                    \n",
              "624ac09c9a7947db3d80c98eIDE7mtH4RBqGn-8MXfGffQ  20460  1.134   \n",
              "620f6b899a7947701cf489e1KtVJsteHStO5oditt3Uvzw  19038  1.142   \n",
              "620730cf9a7947ab96a44e27hk7puWJwSziw0m3sfTkKWA  51151  1.185   \n",
              "6262a5889a79470b78c9ca307UKY2SSZTjCcjhwBzxw37w   3782  1.053   \n",
              "626678929a79477ca0101568wuMYES90REuV5YhrN75IXg   3065  1.063   \n",
              "\n",
              "                                                full_reads_percent  \n",
              "document_id                                                         \n",
              "624ac09c9a7947db3d80c98eIDE7mtH4RBqGn-8MXfGffQ              35.850  \n",
              "620f6b899a7947701cf489e1KtVJsteHStO5oditt3Uvzw              38.355  \n",
              "620730cf9a7947ab96a44e27hk7puWJwSziw0m3sfTkKWA              36.424  \n",
              "6262a5889a79470b78c9ca307UKY2SSZTjCcjhwBzxw37w              30.169  \n",
              "626678929a79477ca0101568wuMYES90REuV5YhrN75IXg              34.617  "
            ],
            "text/html": [
              "\n",
              "  <div id=\"df-b752baeb-911c-4a95-b457-257a6040db5f\">\n",
              "    <div class=\"colab-df-container\">\n",
              "      <div>\n",
              "<style scoped>\n",
              "    .dataframe tbody tr th:only-of-type {\n",
              "        vertical-align: middle;\n",
              "    }\n",
              "\n",
              "    .dataframe tbody tr th {\n",
              "        vertical-align: top;\n",
              "    }\n",
              "\n",
              "    .dataframe thead th {\n",
              "        text-align: right;\n",
              "    }\n",
              "</style>\n",
              "<table border=\"1\" class=\"dataframe\">\n",
              "  <thead>\n",
              "    <tr style=\"text-align: right;\">\n",
              "      <th></th>\n",
              "      <th>title</th>\n",
              "      <th>publish_date</th>\n",
              "      <th>session</th>\n",
              "      <th>authors</th>\n",
              "      <th>ctr</th>\n",
              "      <th>category</th>\n",
              "      <th>tags</th>\n",
              "      <th>views</th>\n",
              "      <th>depth</th>\n",
              "      <th>full_reads_percent</th>\n",
              "    </tr>\n",
              "    <tr>\n",
              "      <th>document_id</th>\n",
              "      <th></th>\n",
              "      <th></th>\n",
              "      <th></th>\n",
              "      <th></th>\n",
              "      <th></th>\n",
              "      <th></th>\n",
              "      <th></th>\n",
              "      <th></th>\n",
              "      <th></th>\n",
              "      <th></th>\n",
              "    </tr>\n",
              "  </thead>\n",
              "  <tbody>\n",
              "    <tr>\n",
              "      <th>624ac09c9a7947db3d80c98eIDE7mtH4RBqGn-8MXfGffQ</th>\n",
              "      <td>Европейский банк развития приостановил доступ ...</td>\n",
              "      <td>2022-04-04 10:29:44</td>\n",
              "      <td>IDE7mtH4RBqGn-8MXfGffQ</td>\n",
              "      <td>[]</td>\n",
              "      <td>1.580</td>\n",
              "      <td>5409f11ce063da9c8b588a18</td>\n",
              "      <td>['55928d339a794751dc8303d6', '542d1e28cbb20f86...</td>\n",
              "      <td>20460</td>\n",
              "      <td>1.134</td>\n",
              "      <td>35.850</td>\n",
              "    </tr>\n",
              "    <tr>\n",
              "      <th>620f6b899a7947701cf489e1KtVJsteHStO5oditt3Uvzw</th>\n",
              "      <td>Кремль назвал регулярным процессом учебные зап...</td>\n",
              "      <td>2022-02-18 10:00:39</td>\n",
              "      <td>KtVJsteHStO5oditt3Uvzw</td>\n",
              "      <td>['54244e01cbb20f03076b236d','5878a2ec9a7947e53...</td>\n",
              "      <td>1.853</td>\n",
              "      <td>5409f11ce063da9c8b588a12</td>\n",
              "      <td>['549d25df9a794775979561d2', '58abcf539a7947f1...</td>\n",
              "      <td>19038</td>\n",
              "      <td>1.142</td>\n",
              "      <td>38.355</td>\n",
              "    </tr>\n",
              "    <tr>\n",
              "      <th>620730cf9a7947ab96a44e27hk7puWJwSziw0m3sfTkKWA</th>\n",
              "      <td>Госсекретарь Швеции заявила о нежелании вступа...</td>\n",
              "      <td>2022-02-12 04:24:02</td>\n",
              "      <td>hk7puWJwSziw0m3sfTkKWA</td>\n",
              "      <td>[]</td>\n",
              "      <td>0.000</td>\n",
              "      <td>5409f11ce063da9c8b588a12</td>\n",
              "      <td>['5430f451cbb20f73931ecd05', '5409f15de063daa0...</td>\n",
              "      <td>51151</td>\n",
              "      <td>1.185</td>\n",
              "      <td>36.424</td>\n",
              "    </tr>\n",
              "    <tr>\n",
              "      <th>6262a5889a79470b78c9ca307UKY2SSZTjCcjhwBzxw37w</th>\n",
              "      <td>Песков назвал прагматичной выдачу лицензии Газ...</td>\n",
              "      <td>2022-04-22 13:24:55</td>\n",
              "      <td>7UKY2SSZTjCcjhwBzxw37w</td>\n",
              "      <td>[]</td>\n",
              "      <td>0.000</td>\n",
              "      <td>5409f11ce063da9c8b588a12</td>\n",
              "      <td>['5409f297e063daa0f408b11c', '545caa9ecbb20f36...</td>\n",
              "      <td>3782</td>\n",
              "      <td>1.053</td>\n",
              "      <td>30.169</td>\n",
              "    </tr>\n",
              "    <tr>\n",
              "      <th>626678929a79477ca0101568wuMYES90REuV5YhrN75IXg</th>\n",
              "      <td>В Хабаровске задержали главу филиала РАНХиГС п...</td>\n",
              "      <td>2022-04-25 10:42:23</td>\n",
              "      <td>wuMYES90REuV5YhrN75IXg</td>\n",
              "      <td>[]</td>\n",
              "      <td>0.000</td>\n",
              "      <td>5433e5decbb20f277b20eca9</td>\n",
              "      <td>['5409f42ae063daa0f408b5d7', '585c20e19a79470e...</td>\n",
              "      <td>3065</td>\n",
              "      <td>1.063</td>\n",
              "      <td>34.617</td>\n",
              "    </tr>\n",
              "  </tbody>\n",
              "</table>\n",
              "</div>\n",
              "      <button class=\"colab-df-convert\" onclick=\"convertToInteractive('df-b752baeb-911c-4a95-b457-257a6040db5f')\"\n",
              "              title=\"Convert this dataframe to an interactive table.\"\n",
              "              style=\"display:none;\">\n",
              "        \n",
              "  <svg xmlns=\"http://www.w3.org/2000/svg\" height=\"24px\"viewBox=\"0 0 24 24\"\n",
              "       width=\"24px\">\n",
              "    <path d=\"M0 0h24v24H0V0z\" fill=\"none\"/>\n",
              "    <path d=\"M18.56 5.44l.94 2.06.94-2.06 2.06-.94-2.06-.94-.94-2.06-.94 2.06-2.06.94zm-11 1L8.5 8.5l.94-2.06 2.06-.94-2.06-.94L8.5 2.5l-.94 2.06-2.06.94zm10 10l.94 2.06.94-2.06 2.06-.94-2.06-.94-.94-2.06-.94 2.06-2.06.94z\"/><path d=\"M17.41 7.96l-1.37-1.37c-.4-.4-.92-.59-1.43-.59-.52 0-1.04.2-1.43.59L10.3 9.45l-7.72 7.72c-.78.78-.78 2.05 0 2.83L4 21.41c.39.39.9.59 1.41.59.51 0 1.02-.2 1.41-.59l7.78-7.78 2.81-2.81c.8-.78.8-2.07 0-2.86zM5.41 20L4 18.59l7.72-7.72 1.47 1.35L5.41 20z\"/>\n",
              "  </svg>\n",
              "      </button>\n",
              "      \n",
              "  <style>\n",
              "    .colab-df-container {\n",
              "      display:flex;\n",
              "      flex-wrap:wrap;\n",
              "      gap: 12px;\n",
              "    }\n",
              "\n",
              "    .colab-df-convert {\n",
              "      background-color: #E8F0FE;\n",
              "      border: none;\n",
              "      border-radius: 50%;\n",
              "      cursor: pointer;\n",
              "      display: none;\n",
              "      fill: #1967D2;\n",
              "      height: 32px;\n",
              "      padding: 0 0 0 0;\n",
              "      width: 32px;\n",
              "    }\n",
              "\n",
              "    .colab-df-convert:hover {\n",
              "      background-color: #E2EBFA;\n",
              "      box-shadow: 0px 1px 2px rgba(60, 64, 67, 0.3), 0px 1px 3px 1px rgba(60, 64, 67, 0.15);\n",
              "      fill: #174EA6;\n",
              "    }\n",
              "\n",
              "    [theme=dark] .colab-df-convert {\n",
              "      background-color: #3B4455;\n",
              "      fill: #D2E3FC;\n",
              "    }\n",
              "\n",
              "    [theme=dark] .colab-df-convert:hover {\n",
              "      background-color: #434B5C;\n",
              "      box-shadow: 0px 1px 3px 1px rgba(0, 0, 0, 0.15);\n",
              "      filter: drop-shadow(0px 1px 2px rgba(0, 0, 0, 0.3));\n",
              "      fill: #FFFFFF;\n",
              "    }\n",
              "  </style>\n",
              "\n",
              "      <script>\n",
              "        const buttonEl =\n",
              "          document.querySelector('#df-b752baeb-911c-4a95-b457-257a6040db5f button.colab-df-convert');\n",
              "        buttonEl.style.display =\n",
              "          google.colab.kernel.accessAllowed ? 'block' : 'none';\n",
              "\n",
              "        async function convertToInteractive(key) {\n",
              "          const element = document.querySelector('#df-b752baeb-911c-4a95-b457-257a6040db5f');\n",
              "          const dataTable =\n",
              "            await google.colab.kernel.invokeFunction('convertToInteractive',\n",
              "                                                     [key], {});\n",
              "          if (!dataTable) return;\n",
              "\n",
              "          const docLinkHtml = 'Like what you see? Visit the ' +\n",
              "            '<a target=\"_blank\" href=https://colab.research.google.com/notebooks/data_table.ipynb>data table notebook</a>'\n",
              "            + ' to learn more about interactive tables.';\n",
              "          element.innerHTML = '';\n",
              "          dataTable['output_type'] = 'display_data';\n",
              "          await google.colab.output.renderOutput(dataTable, element);\n",
              "          const docLink = document.createElement('div');\n",
              "          docLink.innerHTML = docLinkHtml;\n",
              "          element.appendChild(docLink);\n",
              "        }\n",
              "      </script>\n",
              "    </div>\n",
              "  </div>\n",
              "  "
            ]
          },
          "metadata": {},
          "execution_count": 7
        }
      ]
    },
    {
      "cell_type": "code",
      "source": [
        "df_test.head()"
      ],
      "metadata": {
        "colab": {
          "base_uri": "https://localhost:8080/",
          "height": 596
        },
        "id": "kD9TQC7qk5yS",
        "outputId": "581d93de-6f79-427e-890d-b0c4706cfa58"
      },
      "execution_count": null,
      "outputs": [
        {
          "output_type": "execute_result",
          "data": {
            "text/plain": [
              "                                                                                            title  \\\n",
              "document_id                                                                                         \n",
              "61f9569a9a794794245a82abJ0AvX96vTAaQCiWVbzoMdw  «Крайне провокационная тема»: как Россия и США...   \n",
              "628c22b89a79470e553f594bQS5CqzXYRnmDdR2LaSreEw  Власти Херсонской области пообещали сделать ру...   \n",
              "627cb3249a7947ebdd752865XVsoyrUOT8OJJg2_finJhw  Премьер и президент Финляндии призвали срочно ...   \n",
              "628618629a7947d4927eb812upfii3whSSuMXCqcqF8VbQ  В Госдуму внесли проект о временных администра...   \n",
              "620e76109a7947235623695b5hzCiIHdSYKQIr8WAM18bw  Блинкен заявил в ООН о готовности России начат...   \n",
              "\n",
              "                                                       publish_date  \\\n",
              "document_id                                                           \n",
              "61f9569a9a794794245a82abJ0AvX96vTAaQCiWVbzoMdw  2022-02-01 17:02:44   \n",
              "628c22b89a79470e553f594bQS5CqzXYRnmDdR2LaSreEw  2022-05-24 00:50:55   \n",
              "627cb3249a7947ebdd752865XVsoyrUOT8OJJg2_finJhw  2022-05-12 07:11:51   \n",
              "628618629a7947d4927eb812upfii3whSSuMXCqcqF8VbQ  2022-05-19 11:54:35   \n",
              "620e76109a7947235623695b5hzCiIHdSYKQIr8WAM18bw  2022-02-17 16:28:55   \n",
              "\n",
              "                                                               session  \\\n",
              "document_id                                                              \n",
              "61f9569a9a794794245a82abJ0AvX96vTAaQCiWVbzoMdw  J0AvX96vTAaQCiWVbzoMdw   \n",
              "628c22b89a79470e553f594bQS5CqzXYRnmDdR2LaSreEw  QS5CqzXYRnmDdR2LaSreEw   \n",
              "627cb3249a7947ebdd752865XVsoyrUOT8OJJg2_finJhw  XVsoyrUOT8OJJg2_finJhw   \n",
              "628618629a7947d4927eb812upfii3whSSuMXCqcqF8VbQ  upfii3whSSuMXCqcqF8VbQ   \n",
              "620e76109a7947235623695b5hzCiIHdSYKQIr8WAM18bw  5hzCiIHdSYKQIr8WAM18bw   \n",
              "\n",
              "                                                                     authors  \\\n",
              "document_id                                                                    \n",
              "61f9569a9a794794245a82abJ0AvX96vTAaQCiWVbzoMdw                            []   \n",
              "628c22b89a79470e553f594bQS5CqzXYRnmDdR2LaSreEw                            []   \n",
              "627cb3249a7947ebdd752865XVsoyrUOT8OJJg2_finJhw                            []   \n",
              "628618629a7947d4927eb812upfii3whSSuMXCqcqF8VbQ                            []   \n",
              "620e76109a7947235623695b5hzCiIHdSYKQIr8WAM18bw  ['604f2c199a79478ec0029eae']   \n",
              "\n",
              "                                                  ctr  \\\n",
              "document_id                                             \n",
              "61f9569a9a794794245a82abJ0AvX96vTAaQCiWVbzoMdw  0.000   \n",
              "628c22b89a79470e553f594bQS5CqzXYRnmDdR2LaSreEw  1.598   \n",
              "627cb3249a7947ebdd752865XVsoyrUOT8OJJg2_finJhw  2.006   \n",
              "628618629a7947d4927eb812upfii3whSSuMXCqcqF8VbQ  0.000   \n",
              "620e76109a7947235623695b5hzCiIHdSYKQIr8WAM18bw  9.136   \n",
              "\n",
              "                                                                category  \\\n",
              "document_id                                                                \n",
              "61f9569a9a794794245a82abJ0AvX96vTAaQCiWVbzoMdw  5409f11ce063da9c8b588a12   \n",
              "628c22b89a79470e553f594bQS5CqzXYRnmDdR2LaSreEw  5409f11ce063da9c8b588a12   \n",
              "627cb3249a7947ebdd752865XVsoyrUOT8OJJg2_finJhw  5409f11ce063da9c8b588a12   \n",
              "628618629a7947d4927eb812upfii3whSSuMXCqcqF8VbQ  5409f11ce063da9c8b588a12   \n",
              "620e76109a7947235623695b5hzCiIHdSYKQIr8WAM18bw  5409f11ce063da9c8b588a12   \n",
              "\n",
              "                                                                                             tags  \n",
              "document_id                                                                                        \n",
              "61f9569a9a794794245a82abJ0AvX96vTAaQCiWVbzoMdw  ['58ca77679a794700b1e37f0a', '5409f1b7e063daa0...  \n",
              "628c22b89a79470e553f594bQS5CqzXYRnmDdR2LaSreEw  ['5433603acbb20f6e5def0cc5', '5409f420e063daa0...  \n",
              "627cb3249a7947ebdd752865XVsoyrUOT8OJJg2_finJhw  ['5409f270e063daa0f408b0a7', '5409f196e063daa0...  \n",
              "628618629a7947d4927eb812upfii3whSSuMXCqcqF8VbQ  ['5409f145e063daa0f408ad35', '5409f30fe063daa0...  \n",
              "620e76109a7947235623695b5hzCiIHdSYKQIr8WAM18bw  ['5409f15de063daa0f408ada8', '545d4dcdcbb20fbc...  "
            ],
            "text/html": [
              "\n",
              "  <div id=\"df-c8828846-863c-48e3-8273-4773393c5810\">\n",
              "    <div class=\"colab-df-container\">\n",
              "      <div>\n",
              "<style scoped>\n",
              "    .dataframe tbody tr th:only-of-type {\n",
              "        vertical-align: middle;\n",
              "    }\n",
              "\n",
              "    .dataframe tbody tr th {\n",
              "        vertical-align: top;\n",
              "    }\n",
              "\n",
              "    .dataframe thead th {\n",
              "        text-align: right;\n",
              "    }\n",
              "</style>\n",
              "<table border=\"1\" class=\"dataframe\">\n",
              "  <thead>\n",
              "    <tr style=\"text-align: right;\">\n",
              "      <th></th>\n",
              "      <th>title</th>\n",
              "      <th>publish_date</th>\n",
              "      <th>session</th>\n",
              "      <th>authors</th>\n",
              "      <th>ctr</th>\n",
              "      <th>category</th>\n",
              "      <th>tags</th>\n",
              "    </tr>\n",
              "    <tr>\n",
              "      <th>document_id</th>\n",
              "      <th></th>\n",
              "      <th></th>\n",
              "      <th></th>\n",
              "      <th></th>\n",
              "      <th></th>\n",
              "      <th></th>\n",
              "      <th></th>\n",
              "    </tr>\n",
              "  </thead>\n",
              "  <tbody>\n",
              "    <tr>\n",
              "      <th>61f9569a9a794794245a82abJ0AvX96vTAaQCiWVbzoMdw</th>\n",
              "      <td>«Крайне провокационная тема»: как Россия и США...</td>\n",
              "      <td>2022-02-01 17:02:44</td>\n",
              "      <td>J0AvX96vTAaQCiWVbzoMdw</td>\n",
              "      <td>[]</td>\n",
              "      <td>0.000</td>\n",
              "      <td>5409f11ce063da9c8b588a12</td>\n",
              "      <td>['58ca77679a794700b1e37f0a', '5409f1b7e063daa0...</td>\n",
              "    </tr>\n",
              "    <tr>\n",
              "      <th>628c22b89a79470e553f594bQS5CqzXYRnmDdR2LaSreEw</th>\n",
              "      <td>Власти Херсонской области пообещали сделать ру...</td>\n",
              "      <td>2022-05-24 00:50:55</td>\n",
              "      <td>QS5CqzXYRnmDdR2LaSreEw</td>\n",
              "      <td>[]</td>\n",
              "      <td>1.598</td>\n",
              "      <td>5409f11ce063da9c8b588a12</td>\n",
              "      <td>['5433603acbb20f6e5def0cc5', '5409f420e063daa0...</td>\n",
              "    </tr>\n",
              "    <tr>\n",
              "      <th>627cb3249a7947ebdd752865XVsoyrUOT8OJJg2_finJhw</th>\n",
              "      <td>Премьер и президент Финляндии призвали срочно ...</td>\n",
              "      <td>2022-05-12 07:11:51</td>\n",
              "      <td>XVsoyrUOT8OJJg2_finJhw</td>\n",
              "      <td>[]</td>\n",
              "      <td>2.006</td>\n",
              "      <td>5409f11ce063da9c8b588a12</td>\n",
              "      <td>['5409f270e063daa0f408b0a7', '5409f196e063daa0...</td>\n",
              "    </tr>\n",
              "    <tr>\n",
              "      <th>628618629a7947d4927eb812upfii3whSSuMXCqcqF8VbQ</th>\n",
              "      <td>В Госдуму внесли проект о временных администра...</td>\n",
              "      <td>2022-05-19 11:54:35</td>\n",
              "      <td>upfii3whSSuMXCqcqF8VbQ</td>\n",
              "      <td>[]</td>\n",
              "      <td>0.000</td>\n",
              "      <td>5409f11ce063da9c8b588a12</td>\n",
              "      <td>['5409f145e063daa0f408ad35', '5409f30fe063daa0...</td>\n",
              "    </tr>\n",
              "    <tr>\n",
              "      <th>620e76109a7947235623695b5hzCiIHdSYKQIr8WAM18bw</th>\n",
              "      <td>Блинкен заявил в ООН о готовности России начат...</td>\n",
              "      <td>2022-02-17 16:28:55</td>\n",
              "      <td>5hzCiIHdSYKQIr8WAM18bw</td>\n",
              "      <td>['604f2c199a79478ec0029eae']</td>\n",
              "      <td>9.136</td>\n",
              "      <td>5409f11ce063da9c8b588a12</td>\n",
              "      <td>['5409f15de063daa0f408ada8', '545d4dcdcbb20fbc...</td>\n",
              "    </tr>\n",
              "  </tbody>\n",
              "</table>\n",
              "</div>\n",
              "      <button class=\"colab-df-convert\" onclick=\"convertToInteractive('df-c8828846-863c-48e3-8273-4773393c5810')\"\n",
              "              title=\"Convert this dataframe to an interactive table.\"\n",
              "              style=\"display:none;\">\n",
              "        \n",
              "  <svg xmlns=\"http://www.w3.org/2000/svg\" height=\"24px\"viewBox=\"0 0 24 24\"\n",
              "       width=\"24px\">\n",
              "    <path d=\"M0 0h24v24H0V0z\" fill=\"none\"/>\n",
              "    <path d=\"M18.56 5.44l.94 2.06.94-2.06 2.06-.94-2.06-.94-.94-2.06-.94 2.06-2.06.94zm-11 1L8.5 8.5l.94-2.06 2.06-.94-2.06-.94L8.5 2.5l-.94 2.06-2.06.94zm10 10l.94 2.06.94-2.06 2.06-.94-2.06-.94-.94-2.06-.94 2.06-2.06.94z\"/><path d=\"M17.41 7.96l-1.37-1.37c-.4-.4-.92-.59-1.43-.59-.52 0-1.04.2-1.43.59L10.3 9.45l-7.72 7.72c-.78.78-.78 2.05 0 2.83L4 21.41c.39.39.9.59 1.41.59.51 0 1.02-.2 1.41-.59l7.78-7.78 2.81-2.81c.8-.78.8-2.07 0-2.86zM5.41 20L4 18.59l7.72-7.72 1.47 1.35L5.41 20z\"/>\n",
              "  </svg>\n",
              "      </button>\n",
              "      \n",
              "  <style>\n",
              "    .colab-df-container {\n",
              "      display:flex;\n",
              "      flex-wrap:wrap;\n",
              "      gap: 12px;\n",
              "    }\n",
              "\n",
              "    .colab-df-convert {\n",
              "      background-color: #E8F0FE;\n",
              "      border: none;\n",
              "      border-radius: 50%;\n",
              "      cursor: pointer;\n",
              "      display: none;\n",
              "      fill: #1967D2;\n",
              "      height: 32px;\n",
              "      padding: 0 0 0 0;\n",
              "      width: 32px;\n",
              "    }\n",
              "\n",
              "    .colab-df-convert:hover {\n",
              "      background-color: #E2EBFA;\n",
              "      box-shadow: 0px 1px 2px rgba(60, 64, 67, 0.3), 0px 1px 3px 1px rgba(60, 64, 67, 0.15);\n",
              "      fill: #174EA6;\n",
              "    }\n",
              "\n",
              "    [theme=dark] .colab-df-convert {\n",
              "      background-color: #3B4455;\n",
              "      fill: #D2E3FC;\n",
              "    }\n",
              "\n",
              "    [theme=dark] .colab-df-convert:hover {\n",
              "      background-color: #434B5C;\n",
              "      box-shadow: 0px 1px 3px 1px rgba(0, 0, 0, 0.15);\n",
              "      filter: drop-shadow(0px 1px 2px rgba(0, 0, 0, 0.3));\n",
              "      fill: #FFFFFF;\n",
              "    }\n",
              "  </style>\n",
              "\n",
              "      <script>\n",
              "        const buttonEl =\n",
              "          document.querySelector('#df-c8828846-863c-48e3-8273-4773393c5810 button.colab-df-convert');\n",
              "        buttonEl.style.display =\n",
              "          google.colab.kernel.accessAllowed ? 'block' : 'none';\n",
              "\n",
              "        async function convertToInteractive(key) {\n",
              "          const element = document.querySelector('#df-c8828846-863c-48e3-8273-4773393c5810');\n",
              "          const dataTable =\n",
              "            await google.colab.kernel.invokeFunction('convertToInteractive',\n",
              "                                                     [key], {});\n",
              "          if (!dataTable) return;\n",
              "\n",
              "          const docLinkHtml = 'Like what you see? Visit the ' +\n",
              "            '<a target=\"_blank\" href=https://colab.research.google.com/notebooks/data_table.ipynb>data table notebook</a>'\n",
              "            + ' to learn more about interactive tables.';\n",
              "          element.innerHTML = '';\n",
              "          dataTable['output_type'] = 'display_data';\n",
              "          await google.colab.output.renderOutput(dataTable, element);\n",
              "          const docLink = document.createElement('div');\n",
              "          docLink.innerHTML = docLinkHtml;\n",
              "          element.appendChild(docLink);\n",
              "        }\n",
              "      </script>\n",
              "    </div>\n",
              "  </div>\n",
              "  "
            ]
          },
          "metadata": {},
          "execution_count": 8
        }
      ]
    },
    {
      "cell_type": "code",
      "source": [
        "df_test.info()"
      ],
      "metadata": {
        "colab": {
          "base_uri": "https://localhost:8080/"
        },
        "id": "ct7oTWUSlNgX",
        "outputId": "96d27d6d-f7c6-4321-ef47-d5005c84e5f7"
      },
      "execution_count": null,
      "outputs": [
        {
          "output_type": "stream",
          "name": "stdout",
          "text": [
            "<class 'pandas.core.frame.DataFrame'>\n",
            "Index: 3000 entries, 61f9569a9a794794245a82abJ0AvX96vTAaQCiWVbzoMdw to 6236f9129a79477b0ef18ae0ewByZQ1FQBK2dpXyY77rYw\n",
            "Data columns (total 7 columns):\n",
            " #   Column        Non-Null Count  Dtype  \n",
            "---  ------        --------------  -----  \n",
            " 0   title         3000 non-null   object \n",
            " 1   publish_date  3000 non-null   object \n",
            " 2   session       3000 non-null   object \n",
            " 3   authors       3000 non-null   object \n",
            " 4   ctr           3000 non-null   float64\n",
            " 5   category      3000 non-null   object \n",
            " 6   tags          3000 non-null   object \n",
            "dtypes: float64(1), object(6)\n",
            "memory usage: 187.5+ KB\n"
          ]
        }
      ]
    },
    {
      "cell_type": "code",
      "source": [
        "# Смотрим, сколько каких значений в столбцах\n",
        "\n",
        "for x in df_train.columns:\n",
        "    print('Столбец: ', x)\n",
        "    print(df_train[x].value_counts())\n",
        "    print('\\n')"
      ],
      "metadata": {
        "colab": {
          "base_uri": "https://localhost:8080/"
        },
        "id": "IOK189iqnCvD",
        "outputId": "531ed0f2-7f41-4f38-cc2a-b170f62d3405"
      },
      "execution_count": null,
      "outputs": [
        {
          "output_type": "stream",
          "name": "stdout",
          "text": [
            "Столбец:  title\n",
            "Какие места на Украине взяли под контроль российские военные. Карта                                                                                                                10\n",
            "Как менялась ключевая ставка ЦБ за последние годы. Инфографика                                                                                                                      7\n",
            "Как Запад и Россия поставили рекорд по высылкам дипломатов. Инфографика                                                                                                             6\n",
            "Какие приграничные пункты попали под обстрел со стороны Украины. Карта                                                                                                              5\n",
            "Какие регионы объявили высокий уровень террористической опасности. Карта                                                                                                            4\n",
            "                                                                                                                                                                                   ..\n",
            "Медведев ответил представителю НАТО об акте с Россией фразой на латыни                                                                                                              1\n",
            "МИД назвал Bild «перешедшей границы» из-за статьи о вторжении на Украину\\n                \\n                                                    \\n\\n    \\n\\n    Политика, 00:31     1\n",
            "В Канзасе женщина погибла в перестрелке с полицией\\n                \\n                                                    \\n\\n    \\n\\n    Общество, 10:29                           1\n",
            "В МИДе заявили, что Россия не будет просить ЕС об отмене санкций\\n                \\n                                                    \\n\\n    \\n\\n    Политика, 07:54             1\n",
            "Минфин США предостерег зарубежные банки от помощи России в обходе санкций                                                                                                           1\n",
            "Name: title, Length: 6954, dtype: int64\n",
            "\n",
            "\n",
            "Столбец:  publish_date\n",
            "2022-03-31 18:58:21    2\n",
            "2022-04-12 16:14:54    2\n",
            "2022-05-04 19:20:08    2\n",
            "2022-04-08 10:31:13    2\n",
            "2022-04-08 15:53:09    2\n",
            "                      ..\n",
            "2022-02-05 21:31:31    1\n",
            "2022-04-16 07:29:14    1\n",
            "2022-04-01 04:54:02    1\n",
            "2022-05-25 15:55:37    1\n",
            "2022-05-14 03:41:33    1\n",
            "Name: publish_date, Length: 6985, dtype: int64\n",
            "\n",
            "\n",
            "Столбец:  session\n",
            "EXELbCZARXqMsO7phHCm8g    9\n",
            "xMxkWattR_ewhI94MWFjLg    8\n",
            "-zEYsVrPSQuC-bROoTMdnw    8\n",
            "0tPXqm7fSmGB_WovBXRbmQ    8\n",
            "ezJoRfM8Sf-IB1KyxMUVFw    8\n",
            "                         ..\n",
            "hj9jxPHlSGihb62Gz5-rhQ    1\n",
            "Fz1ocm8_TZWfdP89qXD8dA    1\n",
            "-dj2ASd_R2SzjQAPwjsPyA    1\n",
            "LcIC7Zi9RVaJjBx5VlFp3w    1\n",
            "hVvdVmFxS2SlZ2_lECDEow    1\n",
            "Name: session, Length: 5901, dtype: int64\n",
            "\n",
            "\n",
            "Столбец:  authors\n",
            "[]                                                         2900\n",
            "['604f2c199a79478ec0029eae']                                377\n",
            "['619226fb9a7947e681606cc3']                                332\n",
            "['60bf2f0f9a79475cc856c5a1']                                251\n",
            "['5bfd1d039a794755995093f8']                                217\n",
            "                                                           ... \n",
            "['606dc7aa9a7947c368c1d46c','54215736cbb20f5cdfa7a8ce']       1\n",
            "['5f7479ee9a79477734fb6f0e','54244e01cbb20f03076b236d']       1\n",
            "['54215736cbb20f5cdfa7a8ce','613b3f049a7947536026e824']       1\n",
            "['57f25a259a7947976b381c2b','604f2c199a79478ec0029eae']       1\n",
            "['60fa94ed9a7947b7152c986a','5e4663219a794736af922488']       1\n",
            "Name: authors, Length: 561, dtype: int64\n",
            "\n",
            "\n",
            "Столбец:  ctr\n",
            "0.000    2840\n",
            "3.759       7\n",
            "0.876       7\n",
            "2.500       6\n",
            "1.650       6\n",
            "         ... \n",
            "7.995       1\n",
            "2.326       1\n",
            "2.469       1\n",
            "3.522       1\n",
            "2.937       1\n",
            "Name: ctr, Length: 3178, dtype: int64\n",
            "\n",
            "\n",
            "Столбец:  category\n",
            "5409f11ce063da9c8b588a12    3988\n",
            "5433e5decbb20f277b20eca9    1456\n",
            "540d5eafcbb20f2524fc0509     667\n",
            "5409f11ce063da9c8b588a13     338\n",
            "540d5ecacbb20f2524fc050a     283\n",
            "5409f11ce063da9c8b588a18     265\n",
            "5e54e2089a7947f63a801742       1\n",
            "552e430f9a79475dd957f8b3       1\n",
            "5e54e22a9a7947f560081ea2       1\n",
            "Name: category, dtype: int64\n",
            "\n",
            "\n",
            "Столбец:  tags\n",
            "[]                                                                                                                                              31\n",
            "['5409f191e063daa0f408ae5c', '5409f1a2e063daa0f408ae94', '5409f15de063daa0f408ada8', '5409f140e063daa0f408ad1d', '621a3d0c9a794728d449ae5e']    23\n",
            "['5577f72f9a7947f6177effbc', '5c124ef99a79476e9d0352d3', '5e2af6549a794790a44be038']                                                            13\n",
            "['542f57c3cbb20fb76f1b72f4', '5426f065cbb20f95cd885fe2', '54826f44cbb20f7621273a2f', '5409f1e4e063daa0f408af3b']                                10\n",
            "['602550909a7947de72059caa']                                                                                                                     8\n",
            "                                                                                                                                                ..\n",
            "['5409f294e063daa0f408b111', '5409f16ae063daa0f408adda', '5409f140e063daa0f408ad1d']                                                             1\n",
            "['5409f145e063daa0f408ad35', '542e28b3cbb20f586f7e2657', '546ee48bcbb20f5eea50a524', '5409f414e063daa0f408b55e', '542491eacbb20feba0485f36']     1\n",
            "['60cc2b489a7947b296493579', '54bf7d449a79475c6562b59e', '543ba9abcbb20fc71c01fc90']                                                             1\n",
            "['5a1866fc9a79475a04804f66', '55ed83f49a7947046d4f5773', '54259cb0cbb20f0df5546a7f']                                                             1\n",
            "['5409f15ee063daa0f408adb0', '5463e5b9cbb20f877fdedd71', '59e769a29a794784016daf86']                                                             1\n",
            "Name: tags, Length: 6798, dtype: int64\n",
            "\n",
            "\n",
            "Столбец:  views\n",
            "518294     7\n",
            "180456     6\n",
            "2554204    6\n",
            "35324      5\n",
            "70873      5\n",
            "          ..\n",
            "80100      1\n",
            "9976       1\n",
            "19955      1\n",
            "51152      1\n",
            "11981      1\n",
            "Name: views, Length: 6320, dtype: int64\n",
            "\n",
            "\n",
            "Столбец:  depth\n",
            "1.053    115\n",
            "1.052    112\n",
            "1.054    106\n",
            "1.055    105\n",
            "1.060    105\n",
            "        ... \n",
            "1.305      1\n",
            "1.456      1\n",
            "1.684      1\n",
            "1.281      1\n",
            "1.304      1\n",
            "Name: depth, Length: 304, dtype: int64\n",
            "\n",
            "\n",
            "Столбец:  full_reads_percent\n",
            "17.699    7\n",
            "14.232    6\n",
            "4.978     6\n",
            "29.951    5\n",
            "19.698    5\n",
            "         ..\n",
            "44.811    1\n",
            "33.263    1\n",
            "23.166    1\n",
            "46.214    1\n",
            "36.249    1\n",
            "Name: full_reads_percent, Length: 6295, dtype: int64\n",
            "\n",
            "\n"
          ]
        }
      ]
    },
    {
      "cell_type": "code",
      "source": [
        "df_train['title'].value_counts()"
      ],
      "metadata": {
        "colab": {
          "base_uri": "https://localhost:8080/"
        },
        "id": "SCPmDzw3n9kz",
        "outputId": "e5a764c9-64e4-4f86-a5e6-7cf79d3ead94"
      },
      "execution_count": null,
      "outputs": [
        {
          "output_type": "execute_result",
          "data": {
            "text/plain": [
              "Какие места на Украине взяли под контроль российские военные. Карта                                                                                                                10\n",
              "Как менялась ключевая ставка ЦБ за последние годы. Инфографика                                                                                                                      7\n",
              "Как Запад и Россия поставили рекорд по высылкам дипломатов. Инфографика                                                                                                             6\n",
              "Какие приграничные пункты попали под обстрел со стороны Украины. Карта                                                                                                              5\n",
              "Какие регионы объявили высокий уровень террористической опасности. Карта                                                                                                            4\n",
              "                                                                                                                                                                                   ..\n",
              "Медведев ответил представителю НАТО об акте с Россией фразой на латыни                                                                                                              1\n",
              "МИД назвал Bild «перешедшей границы» из-за статьи о вторжении на Украину\\n                \\n                                                    \\n\\n    \\n\\n    Политика, 00:31     1\n",
              "В Канзасе женщина погибла в перестрелке с полицией\\n                \\n                                                    \\n\\n    \\n\\n    Общество, 10:29                           1\n",
              "В МИДе заявили, что Россия не будет просить ЕС об отмене санкций\\n                \\n                                                    \\n\\n    \\n\\n    Политика, 07:54             1\n",
              "Минфин США предостерег зарубежные банки от помощи России в обходе санкций                                                                                                           1\n",
              "Name: title, Length: 6954, dtype: int64"
            ]
          },
          "metadata": {},
          "execution_count": 11
        }
      ]
    },
    {
      "cell_type": "code",
      "source": [
        "for i in df_train.columns :  \n",
        "  print(f'Колонка \"{i}\": \\nУникальныех значении: {df_train[i].nunique()} \\n {df_train[i].unique()}\\n\\n') "
      ],
      "metadata": {
        "colab": {
          "base_uri": "https://localhost:8080/"
        },
        "id": "4jfMxddtimiE",
        "outputId": "20bd1210-f759-43d0-907a-621e8c4dfdb1"
      },
      "execution_count": null,
      "outputs": [
        {
          "output_type": "stream",
          "name": "stdout",
          "text": [
            "Колонка \"title\": \n",
            "Уникальныех значении: 6954 \n",
            " ['Европейский банк развития приостановил доступ Москвы и Минска к финансам'\n",
            " 'Кремль назвал регулярным процессом учебные запуски баллистических ракет'\n",
            " 'Госсекретарь Швеции заявила о нежелании вступать в НАТО из-за Украины\\n                \\n                                                    \\n\\n    \\n\\n    Политика,\\xa007:24'\n",
            " ... 'Брюс Уиллис завершит актерскую карьеру из-за болезни'\n",
            " 'Экс-посол Франции назвал болезненным для Европы отказ от российской нефти\\n                \\n                                                    \\n\\n    \\n\\n    Экономика,\\xa002:15'\n",
            " 'Минфин США предостерег зарубежные банки от помощи России в обходе санкций']\n",
            "\n",
            "\n",
            "Колонка \"publish_date\": \n",
            "Уникальныех значении: 6985 \n",
            " ['2022-04-04 10:29:44' '2022-02-18 10:00:39' '2022-02-12 04:24:02' ...\n",
            " '2022-03-30 21:59:02' '2022-05-04 23:15:48' '2022-05-14 03:41:33']\n",
            "\n",
            "\n",
            "Колонка \"session\": \n",
            "Уникальныех значении: 5901 \n",
            " ['IDE7mtH4RBqGn-8MXfGffQ' 'KtVJsteHStO5oditt3Uvzw'\n",
            " 'hk7puWJwSziw0m3sfTkKWA' ... 'R1avQ06qTciSOpiDHR5ctA'\n",
            " '12JX_3ZDTDu2XHF3k2eJVg' 'hVvdVmFxS2SlZ2_lECDEow']\n",
            "\n",
            "\n",
            "Колонка \"authors\": \n",
            "Уникальныех значении: 561 \n",
            " ['[]' \"['54244e01cbb20f03076b236d','5878a2ec9a7947e531faf52c']\"\n",
            " \"['5a9fa2e39a79470cd086f61a']\" \"['619226fb9a7947e681606cc3']\"\n",
            " \"['5cc18fcd9a79473f104a314a','5878a2ec9a7947e531faf52c']\"\n",
            " \"['604f2c199a79478ec0029eae']\" \"['5bfd1d039a794755995093f8']\"\n",
            " \"['60bf2f0f9a79475cc856c5a1']\" \"['61309cc39a7947257ab1d378']\"\n",
            " \"['5e1ddee09a7947609de2f69b']\" \"['5878a7419a7947e8386fc46e']\"\n",
            " \"['5878a2ec9a7947e531faf52c']\" \"['5a8d11a39a7947c5e1550980']\"\n",
            " \"['613b3f049a7947536026e824']\" \"['6206513e9a79476587e1e14e']\"\n",
            " \"['587f906a9a7947b089f8dd5a']\" \"['542f8085cbb20f3a1e334efb']\"\n",
            " \"['54195a4fcbb20f219d7fa7dd']\"\n",
            " \"['619226fb9a7947e681606cc3','582eff1c9a7947115bf77ff6']\"\n",
            " \"['58eb4a2d9a7947591ca3dd27','5bfd1d039a794755995093f8']\"\n",
            " \"['5e1ddee09a7947609de2f69b','5a8d11a39a7947c5e1550980']\"\n",
            " \"['54215736cbb20f5cdfa7a8ce']\" \"['5e4663219a794736af922488']\"\n",
            " \"['619b93349a7947b514905d23']\" \"['6131f8eb9a794718ca935648']\"\n",
            " \"['60fa94ed9a7947b7152c986a']\"\n",
            " \"['5432934ccbb20f0bd1aad40a','625949719a7947213854205f']\"\n",
            " \"['6130a7379a79472aeb4546e3']\"\n",
            " \"['619226fb9a7947e681606cc3','587f906a9a7947b089f8dd5a']\"\n",
            " \"['57e8dfc59a7947693823075f','582eff1c9a7947115bf77ff6','58998a9c9a7947045f27a61d']\"\n",
            " \"['625949719a7947213854205f','54254690cbb20fa485b88cc9']\"\n",
            " \"['5edf68259a79470758e7ab2d']\"\n",
            " \"['613b28519a7947487b98a91b','5e1ddee09a7947609de2f69b']\"\n",
            " \"['61fcf3d49a794754b3f9e39e','54254690cbb20fa485b88cc9']\"\n",
            " \"['58eb4a2d9a7947591ca3dd27']\" \"['6239c1df9a7947d8bb8f1236']\"\n",
            " \"['582eff1c9a7947115bf77ff6']\"\n",
            " \"['604f2c199a79478ec0029eae','619226fb9a7947e681606cc3']\"\n",
            " \"['6206513e9a79476587e1e14e','60b8f9c69a79473345febcbd']\"\n",
            " \"['5f9064d69a794754c4d2c453','59a9400f9a79470c57a3a420','5b4c70ae9a79472e05ca3037']\"\n",
            " \"['57f797ee9a7947a5681d187e']\" \"['5f106dd79a7947e2d2c14f68']\"\n",
            " \"['619226fb9a7947e681606cc3','5d5be3429a79472e44c19a73']\"\n",
            " \"['5edf68259a79470758e7ab2d','5d5be3429a79472e44c19a73']\"\n",
            " \"['61811d649a7947d02fdf5d95']\" \"['61fcf3d49a794754b3f9e39e']\"\n",
            " \"['610a73bd9a7947cc632604e7']\" \"['5bf2cdb19a7947e0aa3f5fa8']\"\n",
            " \"['58a18b6f9a7947234a791105','622f6c389a79478decf07e76']\"\n",
            " \"['606dbb339a7947bd8e80a947']\" \"['606dc7aa9a7947c368c1d46c']\"\n",
            " \"['5b4c70ae9a79472e05ca3037']\"\n",
            " \"['5f9064d69a794754c4d2c453','5a8d11a39a7947c5e1550980']\"\n",
            " \"['6239c1df9a7947d8bb8f1236','54254690cbb20fa485b88cc9']\"\n",
            " \"['57cd62209a7947e25b4b32aa','541953f5cbb20f219c67bf00']\"\n",
            " \"['60bf2f0f9a79475cc856c5a1','613b28519a7947487b98a91b']\"\n",
            " \"['54254690cbb20fa485b88cc9','582eff1c9a7947115bf77ff6']\"\n",
            " \"['541953f5cbb20f219c67bf00']\" \"['54254690cbb20fa485b88cc9']\"\n",
            " \"['5a9fa2e39a79470cd086f61a','625949719a7947213854205f']\"\n",
            " \"['5ce6bd119a7947264a38cd8e']\"\n",
            " \"['59a9400f9a79470c57a3a420','5cc18fcd9a79473f104a314a','5a9fa2e39a79470cd086f61a']\"\n",
            " \"['5d5be3429a79472e44c19a73']\"\n",
            " \"['5a8d11a39a7947c5e1550980','604f2c199a79478ec0029eae']\"\n",
            " \"['61fcf3d49a794754b3f9e39e','61309cc39a7947257ab1d378']\"\n",
            " \"['57e0f1649a7947372d5c275d','57f797ee9a7947a5681d187e']\"\n",
            " \"['59a9400f9a79470c57a3a420']\"\n",
            " \"['54244e01cbb20f03076b236d','57f797ee9a7947a5681d187e']\"\n",
            " \"['5432934ccbb20f0bd1aad40a']\"\n",
            " \"['60658eac9a7947642683712d','6131f8eb9a794718ca935648']\"\n",
            " \"['61309cc39a7947257ab1d378','58b6d6599a79471a9e0cdd52']\"\n",
            " \"['5edf68259a79470758e7ab2d','5a9fa2e39a79470cd086f61a']\"\n",
            " \"['622f6c389a79478decf07e76']\" \"['5f36b3779a794782606d90c9']\"\n",
            " \"['613b3f049a7947536026e824','54244e01cbb20f03076b236d']\"\n",
            " \"['57c3fa919a7947e69071e942','5b8403979a79477107927783','5878a2ec9a7947e531faf52c','54195a4fcbb20f219d7fa7dd','5ed4d5ee9a79473ae5758b77','5fb66f1a9a79472d136e1168','5cc163e09a794725db340099','5e5ce0a99a7947086025e1e4','5a9fa2e39a79470cd086f61a','5edf68259a79470758e7ab2d','604f2c199a79478ec0029eae','5a8d11a39a7947c5e1550980','619226fb9a7947e681606cc3','57f797ee9a7947a5681d187e']\"\n",
            " \"['54215736cbb20f5cdfa7a8ce','6239c1df9a7947d8bb8f1236']\"\n",
            " \"['619226fb9a7947e681606cc3','606dc7aa9a7947c368c1d46c']\"\n",
            " \"['6115275e9a7947f605852bf7','619226fb9a7947e681606cc3','5bf2cdb19a7947e0aa3f5fa8']\"\n",
            " \"['5432934ccbb20f0bd1aad40a','5b4c70ae9a79472e05ca3037']\"\n",
            " \"['561cc20e9a7947674469b1cb','5d5be3429a79472e44c19a73']\"\n",
            " \"['5bf2cdb19a7947e0aa3f5fa8','5b4c70ae9a79472e05ca3037']\"\n",
            " \"['60f80a849a79476b9fdcd9ca']\"\n",
            " \"['619226fb9a7947e681606cc3','6131f8eb9a794718ca935648']\"\n",
            " \"['59fc552d9a794760b916c4c7']\"\n",
            " \"['54254690cbb20fa485b88cc9','54244e01cbb20f03076b236d','57e0f1649a7947372d5c275d']\"\n",
            " \"['5bfd1d039a794755995093f8','54244e01cbb20f03076b236d']\"\n",
            " \"['5f7479ee9a79477734fb6f0e']\"\n",
            " \"['6131f8eb9a794718ca935648','5b4c70ae9a79472e05ca3037','592d6ba89a7947366bcc2d03','60658eac9a7947642683712d']\"\n",
            " \"['5cc18fcd9a79473f104a314a','5b4c70ae9a79472e05ca3037']\"\n",
            " \"['6130a7379a79472aeb4546e3','54244e01cbb20f03076b236d']\"\n",
            " \"['5a9fa2e39a79470cd086f61a','6131f8eb9a794718ca935648']\"\n",
            " \"['5f9064d69a794754c4d2c453','6130a7379a79472aeb4546e3']\"\n",
            " \"['610a73bd9a7947cc632604e7','5423d729cbb20f5238b0221b']\"\n",
            " \"['606dbb339a7947bd8e80a947','604f2c199a79478ec0029eae']\"\n",
            " \"['57f25a259a7947976b381c2b','58998a9c9a7947045f27a61d']\"\n",
            " \"['5d1c6bbd9a79473a900f70e2','5a266ab89a7947456246a49e']\"\n",
            " \"['5f5f4f069a7947d205cc2859']\"\n",
            " \"['60f80a849a79476b9fdcd9ca','54254690cbb20fa485b88cc9']\"\n",
            " \"['5bf2cdb19a7947e0aa3f5fa8','54254690cbb20fa485b88cc9']\"\n",
            " \"['60bf2f0f9a79475cc856c5a1','57e8dfc59a7947693823075f']\"\n",
            " \"['54254690cbb20fa485b88cc9','61fcf3d49a794754b3f9e39e','60f80a849a79476b9fdcd9ca']\"\n",
            " \"['5b03d0549a794754c8b8279d']\"\n",
            " \"['5e1ddee09a7947609de2f69b','54195a4fcbb20f219d7fa7dd']\"\n",
            " \"['610be1439a7947456237d591','5b8403979a79477107927783']\"\n",
            " \"['5bfd1d039a794755995093f8','592d6ba89a7947366bcc2d03']\"\n",
            " \"['604f2c199a79478ec0029eae','5bf2cdb19a7947e0aa3f5fa8']\"\n",
            " \"['54215736cbb20f5cdfa7a8ce','619226fb9a7947e681606cc3']\"\n",
            " \"['5a9fa2e39a79470cd086f61a','5cc18fcd9a79473f104a314a']\"\n",
            " \"['619226fb9a7947e681606cc3','5cc18fcd9a79473f104a314a']\"\n",
            " \"['5a8d11a39a7947c5e1550980','610a73bd9a7947cc632604e7']\"\n",
            " \"['54215736cbb20f5cdfa7a8ce','5a8d11a39a7947c5e1550980']\"\n",
            " \"['5b8403979a79477107927783','622f6c389a79478decf07e76']\"\n",
            " \"['54244e01cbb20f03076b236d','5b4c70ae9a79472e05ca3037']\"\n",
            " \"['5f9064d69a794754c4d2c453','60bf2f0f9a79475cc856c5a1']\"\n",
            " \"['5e1ddee09a7947609de2f69b','57f797ee9a7947a5681d187e']\"\n",
            " \"['58998a9c9a7947045f27a61d','57f797ee9a7947a5681d187e','54215736cbb20f5cdfa7a8ce']\"\n",
            " \"['61811d649a7947d02fdf5d95','604f2c199a79478ec0029eae']\"\n",
            " \"['5878a2ec9a7947e531faf52c','5e1ddee09a7947609de2f69b']\"\n",
            " \"['5b4c70ae9a79472e05ca3037','610a73bd9a7947cc632604e7']\"\n",
            " \"['606dc7aa9a7947c368c1d46c','604f2c199a79478ec0029eae']\"\n",
            " \"['5873b29e9a7947969d37690b','619226fb9a7947e681606cc3']\"\n",
            " \"['58998a9c9a7947045f27a61d','61fcf5ac9a794755e4ff9e4c']\"\n",
            " \"['54244e01cbb20f03076b236d','619226fb9a7947e681606cc3']\"\n",
            " \"['6131f8eb9a794718ca935648','54254690cbb20fa485b88cc9']\"\n",
            " \"['54244e01cbb20f03076b236d','6130a7379a79472aeb4546e3']\"\n",
            " \"['57cd62209a7947e25b4b32aa']\"\n",
            " \"['6130a7379a79472aeb4546e3','54254690cbb20fa485b88cc9']\"\n",
            " \"['57f25a259a7947976b381c2b','61fcf5ac9a794755e4ff9e4c']\"\n",
            " \"['5e1ddee09a7947609de2f69b','54254690cbb20fa485b88cc9']\"\n",
            " \"['5bfd1d039a794755995093f8','57e0f1649a7947372d5c275d','57e8dfc59a7947693823075f']\"\n",
            " \"['5878a2ec9a7947e531faf52c','613b3f049a7947536026e824']\"\n",
            " \"['604f2c199a79478ec0029eae','5cc18fcd9a79473f104a314a']\"\n",
            " \"['5a8d11a39a7947c5e1550980','5bfd1d039a794755995093f8']\"\n",
            " \"['6115275e9a7947f605852bf7','6131f8eb9a794718ca935648']\"\n",
            " \"['587f906a9a7947b089f8dd5a','54195a4fcbb20f219d7fa7dd']\"\n",
            " \"['57f797ee9a7947a5681d187e','60b8f9c69a79473345febcbd']\"\n",
            " \"['5e4663219a794736af922488','5da7289e9a7947302a3ab566']\"\n",
            " \"['610a73bd9a7947cc632604e7','5f7479ee9a79477734fb6f0e']\"\n",
            " \"['57c3fa919a7947e69071e942']\"\n",
            " \"['5ce6bd119a7947264a38cd8e','54215736cbb20f5cdfa7a8ce']\"\n",
            " \"['5878a2ec9a7947e531faf52c','58998a9c9a7947045f27a61d']\"\n",
            " \"['58b6d6599a79471a9e0cdd52']\" \"['57f25a259a7947976b381c2b']\"\n",
            " \"['5b8403979a79477107927783']\" \"['58998a9c9a7947045f27a61d']\"\n",
            " \"['54195a4fcbb20f219d7fa7dd','592d6ba89a7947366bcc2d03']\"\n",
            " \"['54244e01cbb20f03076b236d','5f106dd79a7947e2d2c14f68']\"\n",
            " \"['54215736cbb20f5cdfa7a8ce','5b4c70ae9a79472e05ca3037','54244e01cbb20f03076b236d']\"\n",
            " \"['624587419a7947cf285e8d3c']\"\n",
            " \"['60bf2f0f9a79475cc856c5a1','5f106dd79a7947e2d2c14f68']\"\n",
            " \"['596360489a7947894da539d3']\"\n",
            " \"['61309cc39a7947257ab1d378','59a9400f9a79470c57a3a420','5cc18fcd9a79473f104a314a','5f9064d69a794754c4d2c453']\"\n",
            " \"['5f36b3779a794782606d90c9','5da7289e9a7947302a3ab566']\"\n",
            " \"['59a9400f9a79470c57a3a420','613b28519a7947487b98a91b','5f36b3779a794782606d90c9']\"\n",
            " \"['54215736cbb20f5cdfa7a8ce','5b4c70ae9a79472e05ca3037']\"\n",
            " \"['604f2c199a79478ec0029eae','587f906a9a7947b089f8dd5a']\"\n",
            " \"['5a9fa2e39a79470cd086f61a','54244e01cbb20f03076b236d']\"\n",
            " \"['60bf2f0f9a79475cc856c5a1','54215736cbb20f5cdfa7a8ce']\"\n",
            " \"['60703c279a7947139df6596f']\"\n",
            " \"['5d5be3429a79472e44c19a73','5a9fa2e39a79470cd086f61a']\"\n",
            " \"['60bf2f0f9a79475cc856c5a1','5a8d11a39a7947c5e1550980']\"\n",
            " \"['59a9400f9a79470c57a3a420','57f25a259a7947976b381c2b','5b4c70ae9a79472e05ca3037']\"\n",
            " \"['5f80446c9a794717f5424cdb','5f8435739a7947731c7cb3cc','5b8403979a79477107927783']\"\n",
            " \"['5a9fa2e39a79470cd086f61a','5bfd1d039a794755995093f8']\"\n",
            " \"['5bf2cdb19a7947e0aa3f5fa8','5a8d11a39a7947c5e1550980']\"\n",
            " \"['58b6d6599a79471a9e0cdd52','59fc552d9a794760b916c4c7']\"\n",
            " \"['6206513e9a79476587e1e14e','54244e01cbb20f03076b236d']\"\n",
            " \"['604f2c199a79478ec0029eae','5432934ccbb20f0bd1aad40a']\"\n",
            " \"['610a73bd9a7947cc632604e7','5b4c70ae9a79472e05ca3037']\"\n",
            " \"['5432934ccbb20f0bd1aad40a','619b93349a7947b514905d23']\"\n",
            " \"['6130a7379a79472aeb4546e3','5d5be3429a79472e44c19a73']\"\n",
            " \"['582eff1c9a7947115bf77ff6','625949719a7947213854205f']\"\n",
            " \"['5b8403979a79477107927783','5e677c049a79476cbfa27e1d','610be1439a7947456237d591']\"\n",
            " \"['604f2c199a79478ec0029eae','59a9400f9a79470c57a3a420']\"\n",
            " \"['60bf2f0f9a79475cc856c5a1','610a73bd9a7947cc632604e7']\"\n",
            " \"['5a9fa2e39a79470cd086f61a','60658eac9a7947642683712d']\"\n",
            " \"['54244e01cbb20f03076b236d','61309cc39a7947257ab1d378']\"\n",
            " \"['5e1ddee09a7947609de2f69b','60b8f9c69a79473345febcbd']\"\n",
            " \"['57f797ee9a7947a5681d187e','5b03d0549a794754c8b8279d']\"\n",
            " \"['57f797ee9a7947a5681d187e','592d6ba89a7947366bcc2d03']\"\n",
            " \"['606dc7aa9a7947c368c1d46c','619226fb9a7947e681606cc3']\"\n",
            " \"['6130a7379a79472aeb4546e3','619226fb9a7947e681606cc3']\"\n",
            " \"['60658eac9a7947642683712d','57e8dfc59a7947693823075f']\"\n",
            " \"['5f9064d69a794754c4d2c453','5e1ddee09a7947609de2f69b']\"\n",
            " \"['5b03d0549a794754c8b8279d','57e0f1649a7947372d5c275d']\"\n",
            " \"['54254690cbb20fa485b88cc9','57f797ee9a7947a5681d187e']\"\n",
            " \"['57f797ee9a7947a5681d187e','61309cc39a7947257ab1d378','60f80a849a79476b9fdcd9ca']\"\n",
            " \"['5878a2ec9a7947e531faf52c','592d6ba89a7947366bcc2d03']\"\n",
            " \"['5f106dd79a7947e2d2c14f68','60bf2f0f9a79475cc856c5a1']\"\n",
            " \"['61309cc39a7947257ab1d378','606dc7aa9a7947c368c1d46c']\"\n",
            " \"['57e8dfc59a7947693823075f']\"\n",
            " \"['613b28519a7947487b98a91b','5a9fa2e39a79470cd086f61a']\"\n",
            " \"['5cc18fcd9a79473f104a314a']\"\n",
            " \"['5432934ccbb20f0bd1aad40a','60658eac9a7947642683712d']\"\n",
            " \"['610be1439a7947456237d591','60f80a849a79476b9fdcd9ca']\"\n",
            " \"['5f71b0719a794740b0ce312f']\" \"['54244e01cbb20f03076b236d']\"\n",
            " \"['5d5be3429a79472e44c19a73','582eff1c9a7947115bf77ff6','5bf2cdb19a7947e0aa3f5fa8']\"\n",
            " \"['54254690cbb20fa485b88cc9','5a9fa2e39a79470cd086f61a']\"\n",
            " \"['5f36b3779a794782606d90c9','5cc18fcd9a79473f104a314a']\"\n",
            " \"['60bf2f0f9a79475cc856c5a1','606dc7aa9a7947c368c1d46c']\"\n",
            " \"['606dc7aa9a7947c368c1d46c','5bfd1d039a794755995093f8']\"\n",
            " \"['625949719a7947213854205f','6130a7379a79472aeb4546e3']\"\n",
            " \"['542f8085cbb20f3a1e334efb','5fb66f1a9a79472d136e1168','5de4f4dd9a7947fb481dd41e']\"\n",
            " \"['5bfd1d039a794755995093f8','54215736cbb20f5cdfa7a8ce']\"\n",
            " \"['625949719a7947213854205f','5432934ccbb20f0bd1aad40a']\"\n",
            " \"['613b28519a7947487b98a91b','6130a7379a79472aeb4546e3']\"\n",
            " \"['5d56a57a9a7947222b32c41f']\"\n",
            " \"['54244e01cbb20f03076b236d','61811d649a7947d02fdf5d95']\"\n",
            " \"['5a8d11a39a7947c5e1550980','54244e01cbb20f03076b236d']\"\n",
            " \"['5e4663219a794736af922488','5f9064d69a794754c4d2c453']\"\n",
            " \"['5b4c70ae9a79472e05ca3037','54244e01cbb20f03076b236d']\"\n",
            " \"['5b4c70ae9a79472e05ca3037','54254690cbb20fa485b88cc9','61fcf3d49a794754b3f9e39e']\"\n",
            " \"['61fcf3d49a794754b3f9e39e','60f80a849a79476b9fdcd9ca']\"\n",
            " \"['619226fb9a7947e681606cc3','57f25a259a7947976b381c2b']\"\n",
            " \"['5a9fa2e39a79470cd086f61a','58998a9c9a7947045f27a61d']\"\n",
            " \"['5a9fa2e39a79470cd086f61a','54254690cbb20fa485b88cc9']\"\n",
            " \"['60b8f9c69a79473345febcbd','5b4c70ae9a79472e05ca3037']\"\n",
            " \"['6130a7379a79472aeb4546e3','6239c1df9a7947d8bb8f1236']\"\n",
            " \"['604f2c199a79478ec0029eae','5a9fa2e39a79470cd086f61a']\"\n",
            " \"['58998a9c9a7947045f27a61d','619226fb9a7947e681606cc3']\"\n",
            " \"['5cc18fcd9a79473f104a314a','5f9064d69a794754c4d2c453']\"\n",
            " \"['6130a7379a79472aeb4546e3','60658eac9a7947642683712d']\"\n",
            " \"['54215736cbb20f5cdfa7a8ce','5a97d3619a79476d8f16fde2']\"\n",
            " \"['610be1439a7947456237d591','54215736cbb20f5cdfa7a8ce']\"\n",
            " \"['54254690cbb20fa485b88cc9','60f80a849a79476b9fdcd9ca']\"\n",
            " \"['5f71b0719a794740b0ce312f','5cc163e09a794725db340099']\"\n",
            " \"['6130a7379a79472aeb4546e3','5cc18fcd9a79473f104a314a']\"\n",
            " \"['58998a9c9a7947045f27a61d','61fcf5ac9a794755e4ff9e4c','5f7479ee9a79477734fb6f0e']\"\n",
            " \"['542f8085cbb20f3a1e334efb','5fb66f1a9a79472d136e1168','5de4f4dd9a7947fb481dd41e','61fcf5ac9a794755e4ff9e4c','5b8403979a79477107927783']\"\n",
            " \"['5edf68259a79470758e7ab2d','5f9064d69a794754c4d2c453']\"\n",
            " \"['54244e01cbb20f03076b236d','5bfd1d039a794755995093f8']\"\n",
            " \"['5d5be3429a79472e44c19a73','61fcf5ac9a794755e4ff9e4c']\"\n",
            " \"['60658eac9a7947642683712d','5a9fa2e39a79470cd086f61a']\"\n",
            " \"['6131f8eb9a794718ca935648','60658eac9a7947642683712d']\"\n",
            " \"['604f2c199a79478ec0029eae','5da7289e9a7947302a3ab566']\"\n",
            " \"['5878a2ec9a7947e531faf52c','6130a7379a79472aeb4546e3']\"\n",
            " \"['5e1ddee09a7947609de2f69b','6115275e9a7947f605852bf7']\"\n",
            " \"['54244e01cbb20f03076b236d','542f8085cbb20f3a1e334efb']\"\n",
            " \"['60bf2f0f9a79475cc856c5a1','5da7289e9a7947302a3ab566']\"\n",
            " \"['613b3f049a7947536026e824','613b28519a7947487b98a91b','54244e01cbb20f03076b236d']\"\n",
            " \"['613b28519a7947487b98a91b','60b8f9c69a79473345febcbd','582eff1c9a7947115bf77ff6']\"\n",
            " \"['5873b29e9a7947969d37690b','61fcf3d49a794754b3f9e39e']\"\n",
            " \"['542f8085cbb20f3a1e334efb','592d6ba89a7947366bcc2d03']\"\n",
            " \"['58998a9c9a7947045f27a61d','6206513e9a79476587e1e14e']\"\n",
            " \"['61309cc39a7947257ab1d378','5b03d0549a794754c8b8279d']\"\n",
            " \"['57f25a259a7947976b381c2b','604f2c199a79478ec0029eae']\"\n",
            " \"['6040e2e59a794733e73d435d']\"\n",
            " \"['54215736cbb20f5cdfa7a8ce','613b3f049a7947536026e824']\"\n",
            " \"['5873b29e9a7947969d37690b']\"\n",
            " \"['5f7479ee9a79477734fb6f0e','54244e01cbb20f03076b236d']\"\n",
            " \"['606dc7aa9a7947c368c1d46c','54215736cbb20f5cdfa7a8ce']\"\n",
            " \"['5edf68259a79470758e7ab2d','5b4c70ae9a79472e05ca3037']\"\n",
            " \"['61309cc39a7947257ab1d378','5da7289e9a7947302a3ab566']\"\n",
            " \"['592d6ba89a7947366bcc2d03','57f797ee9a7947a5681d187e','5f7479ee9a79477734fb6f0e']\"\n",
            " \"['5829aef49a7947876bda9414']\"\n",
            " \"['57f797ee9a7947a5681d187e','54215736cbb20f5cdfa7a8ce']\"\n",
            " \"['60658eac9a7947642683712d']\"\n",
            " \"['6239c1df9a7947d8bb8f1236','5b03d0549a794754c8b8279d']\"\n",
            " \"['619226fb9a7947e681606cc3','5da7289e9a7947302a3ab566']\"\n",
            " \"['6239c1df9a7947d8bb8f1236','5bfd1d039a794755995093f8']\"\n",
            " \"['5edf68259a79470758e7ab2d','606dc7aa9a7947c368c1d46c']\"\n",
            " \"['59a9400f9a79470c57a3a420','5e1ddee09a7947609de2f69b']\"\n",
            " \"['54195a4fcbb20f219d7fa7dd','5ce6bd119a7947264a38cd8e']\"\n",
            " \"['5e1ddee09a7947609de2f69b','610a73bd9a7947cc632604e7']\"\n",
            " \"['5a9fa2e39a79470cd086f61a','5bf2cdb19a7947e0aa3f5fa8']\"\n",
            " \"['5e1ddee09a7947609de2f69b','606dc7aa9a7947c368c1d46c']\"\n",
            " \"['57f797ee9a7947a5681d187e','59a9400f9a79470c57a3a420','5da7289e9a7947302a3ab566']\"\n",
            " \"['60fa94ed9a7947b7152c986a','59a9400f9a79470c57a3a420']\"\n",
            " \"['57f25a259a7947976b381c2b','5878a2ec9a7947e531faf52c']\"\n",
            " \"['5a9fa2e39a79470cd086f61a','613b28519a7947487b98a91b']\"\n",
            " \"['625949719a7947213854205f']\"\n",
            " \"['6131f8eb9a794718ca935648','5878a2ec9a7947e531faf52c']\"\n",
            " \"['61309cc39a7947257ab1d378','610a73bd9a7947cc632604e7']\"\n",
            " \"['5bfd1d039a794755995093f8','57e8dfc59a7947693823075f']\"\n",
            " \"['5bfd1d039a794755995093f8','619226fb9a7947e681606cc3']\"\n",
            " \"['5b4c70ae9a79472e05ca3037','54254690cbb20fa485b88cc9']\"\n",
            " \"['5423d729cbb20f5238b0221b','610a73bd9a7947cc632604e7']\"\n",
            " \"['606dbb339a7947bd8e80a947','54195a4fcbb20f219d7fa7dd']\"\n",
            " \"['5cc18fcd9a79473f104a314a','54195a4fcbb20f219d7fa7dd']\"\n",
            " \"['5a8d11a39a7947c5e1550980','54215736cbb20f5cdfa7a8ce']\"\n",
            " \"['613b3f049a7947536026e824','582eff1c9a7947115bf77ff6']\"\n",
            " \"['5edf68259a79470758e7ab2d','5cc18fcd9a79473f104a314a']\"\n",
            " \"['561cc20e9a7947674469b1cb','5bf2cdb19a7947e0aa3f5fa8']\"\n",
            " \"['6130a7379a79472aeb4546e3','5cc18fcd9a79473f104a314a','613b28519a7947487b98a91b']\"\n",
            " \"['6206513e9a79476587e1e14e','5e1ddee09a7947609de2f69b']\"\n",
            " \"['5d5be3429a79472e44c19a73','5bf2cdb19a7947e0aa3f5fa8','541953f5cbb20f219c67bf00']\"\n",
            " \"['5bfd1d039a794755995093f8','606dc7aa9a7947c368c1d46c']\"\n",
            " \"['6130a7379a79472aeb4546e3','60b8f9c69a79473345febcbd','592d6ba89a7947366bcc2d03']\"\n",
            " \"['5878a2ec9a7947e531faf52c','5a9fa2e39a79470cd086f61a']\"\n",
            " \"['5cfe729d9a794781a5db491c']\"\n",
            " \"['61309cc39a7947257ab1d378','59a9400f9a79470c57a3a420']\"\n",
            " \"['5b4c70ae9a79472e05ca3037','587f906a9a7947b089f8dd5a']\"\n",
            " \"['5b03d0549a794754c8b8279d','610a73bd9a7947cc632604e7','598c3e009a79477a6db7e3d3']\"\n",
            " \"['5edf68259a79470758e7ab2d','6131f8eb9a794718ca935648']\"\n",
            " \"['540edfc8cbb20f343b923bf8','58998a9c9a7947045f27a61d']\"\n",
            " \"['606dc7aa9a7947c368c1d46c','5b4c70ae9a79472e05ca3037']\"\n",
            " \"['54215736cbb20f5cdfa7a8ce','5da7289e9a7947302a3ab566','5cc18fcd9a79473f104a314a']\"\n",
            " \"['59a9400f9a79470c57a3a420','606dc7aa9a7947c368c1d46c']\"\n",
            " \"['5f106a679a7947e0ee19b5b0','604f2c199a79478ec0029eae']\"\n",
            " \"['6115275e9a7947f605852bf7']\"\n",
            " \"['5432934ccbb20f0bd1aad40a','57e8dfc59a7947693823075f','6115275e9a7947f605852bf7']\"\n",
            " \"['5a9fa2e39a79470cd086f61a','5878a2ec9a7947e531faf52c']\"\n",
            " \"['54215736cbb20f5cdfa7a8ce','561cc20e9a7947674469b1cb']\"\n",
            " \"['604f2c199a79478ec0029eae','54244e01cbb20f03076b236d']\"\n",
            " \"['54215736cbb20f5cdfa7a8ce','5ce6bd119a7947264a38cd8e','54195a4fcbb20f219d7fa7dd']\"\n",
            " \"['5f7479ee9a79477734fb6f0e','58998a9c9a7947045f27a61d']\"\n",
            " \"['61fcf3d49a794754b3f9e39e','58b6d6599a79471a9e0cdd52']\"\n",
            " \"['54254690cbb20fa485b88cc9','61fcf3d49a794754b3f9e39e']\"\n",
            " \"['54215736cbb20f5cdfa7a8ce','606dc7aa9a7947c368c1d46c']\"\n",
            " \"['6130a7379a79472aeb4546e3','57f797ee9a7947a5681d187e']\"\n",
            " \"['5b69bc2b9a7947423215d185','622f6c389a79478decf07e76']\"\n",
            " \"['5878a2ec9a7947e531faf52c','5cc18fcd9a79473f104a314a']\"\n",
            " \"['540edfc8cbb20f343b923bf8']\"\n",
            " \"['61fcf5ac9a794755e4ff9e4c','5b8403979a79477107927783']\"\n",
            " \"['57f25a259a7947976b381c2b','5e1ddee09a7947609de2f69b']\"\n",
            " \"['54244e01cbb20f03076b236d','613b28519a7947487b98a91b']\"\n",
            " \"['610a73bd9a7947cc632604e7','610be1439a7947456237d591']\"\n",
            " \"['5bf2cdb19a7947e0aa3f5fa8','54195a4fcbb20f219d7fa7dd','5bfd1d039a794755995093f8']\"\n",
            " \"['610be1439a7947456237d591','613b28519a7947487b98a91b','60b8f9c69a79473345febcbd','582eff1c9a7947115bf77ff6']\"\n",
            " \"['5b4c70ae9a79472e05ca3037','54215736cbb20f5cdfa7a8ce','613b28519a7947487b98a91b']\"\n",
            " \"['60bf2f0f9a79475cc856c5a1','604f2c199a79478ec0029eae','60b8f9c69a79473345febcbd']\"\n",
            " \"['542f8085cbb20f3a1e334efb','5bfd1d039a794755995093f8']\"\n",
            " \"['5a9fa2e39a79470cd086f61a','587f906a9a7947b089f8dd5a']\"\n",
            " \"['5b4c70ae9a79472e05ca3037','592d6ba89a7947366bcc2d03']\"\n",
            " \"['5edf68259a79470758e7ab2d','613b28519a7947487b98a91b']\"\n",
            " \"['54244e01cbb20f03076b236d','5a9fa2e39a79470cd086f61a']\"\n",
            " \"['5878a2ec9a7947e531faf52c','54244e01cbb20f03076b236d']\"\n",
            " \"['57f797ee9a7947a5681d187e','587f906a9a7947b089f8dd5a','58998a9c9a7947045f27a61d','5f9064d69a794754c4d2c453']\"\n",
            " \"['5a8d11a39a7947c5e1550980','6239c1df9a7947d8bb8f1236']\"\n",
            " \"['604f2c199a79478ec0029eae','5f36b3779a794782606d90c9']\"\n",
            " \"['5b4c70ae9a79472e05ca3037','60b8f9c69a79473345febcbd','587f906a9a7947b089f8dd5a']\"\n",
            " \"['5f9064d69a794754c4d2c453','5bfd1d039a794755995093f8']\"\n",
            " \"['5a9fa2e39a79470cd086f61a','59a9400f9a79470c57a3a420']\"\n",
            " \"['54215736cbb20f5cdfa7a8ce','5e1ddee09a7947609de2f69b']\"\n",
            " \"['54215736cbb20f5cdfa7a8ce','598c3e009a79477a6db7e3d3']\"\n",
            " \"['610be1439a7947456237d591','5b03d0549a794754c8b8279d']\"\n",
            " \"['58b6d6599a79471a9e0cdd52','54254690cbb20fa485b88cc9']\"\n",
            " \"['60658eac9a7947642683712d','613b28519a7947487b98a91b','57e8dfc59a7947693823075f']\"\n",
            " \"['619226fb9a7947e681606cc3','5bf2cdb19a7947e0aa3f5fa8']\"\n",
            " \"['6130a7379a79472aeb4546e3','5a9fa2e39a79470cd086f61a']\"\n",
            " \"['604f2c199a79478ec0029eae','54215736cbb20f5cdfa7a8ce']\"\n",
            " \"['5bfd1d039a794755995093f8','5e1ddee09a7947609de2f69b']\"\n",
            " \"['606dc7aa9a7947c368c1d46c','60bf2f0f9a79475cc856c5a1']\"\n",
            " \"['6131f8eb9a794718ca935648','57e8dfc59a7947693823075f']\"\n",
            " \"['59a9400f9a79470c57a3a420','5878a2ec9a7947e531faf52c']\"\n",
            " \"['606dc7aa9a7947c368c1d46c','60b8f9c69a79473345febcbd']\"\n",
            " \"['54215736cbb20f5cdfa7a8ce','54244e01cbb20f03076b236d','54254690cbb20fa485b88cc9']\"\n",
            " \"['54195a4fcbb20f219d7fa7dd','54215736cbb20f5cdfa7a8ce']\"\n",
            " \"['57f25a259a7947976b381c2b','5edf68259a79470758e7ab2d']\"\n",
            " \"['5878a2ec9a7947e531faf52c','613b28519a7947487b98a91b']\"\n",
            " \"['5a8d11a39a7947c5e1550980','5f9064d69a794754c4d2c453']\"\n",
            " \"['619226fb9a7947e681606cc3','626938f79a7947012e4e74c3']\"\n",
            " \"['6131f8eb9a794718ca935648','5b4c70ae9a79472e05ca3037']\"\n",
            " \"['5e677c049a79476cbfa27e1d','5e9ed52a9a79476b73b8a15e','5b8403979a79477107927783']\"\n",
            " \"['6115275e9a7947f605852bf7','57e8dfc59a7947693823075f']\"\n",
            " \"['5e4663219a794736af922488','5b03d0549a794754c8b8279d']\"\n",
            " \"['619226fb9a7947e681606cc3','5f9064d69a794754c4d2c453']\"\n",
            " \"['58eb4a2d9a7947591ca3dd27','60bf2f0f9a79475cc856c5a1']\"\n",
            " \"['5e1ddee09a7947609de2f69b','604f2c199a79478ec0029eae']\"\n",
            " \"['6206513e9a79476587e1e14e','59a9400f9a79470c57a3a420','5cc18fcd9a79473f104a314a']\"\n",
            " \"['5a9fa2e39a79470cd086f61a','5d5be3429a79472e44c19a73']\"\n",
            " \"['54254690cbb20fa485b88cc9','619b93349a7947b514905d23','60e7ece89a794745e9fbf532']\"\n",
            " \"['541953f5cbb20f219c67bf00','60b8f9c69a79473345febcbd','5b4c70ae9a79472e05ca3037']\"\n",
            " \"['61309cc39a7947257ab1d378','5f9064d69a794754c4d2c453']\"\n",
            " \"['606dc7aa9a7947c368c1d46c','5a8d11a39a7947c5e1550980']\"\n",
            " \"['5cc18fcd9a79473f104a314a','59a9400f9a79470c57a3a420']\"\n",
            " \"['619226fb9a7947e681606cc3','5873b29e9a7947969d37690b']\"\n",
            " \"['60b8f9c69a79473345febcbd','604f2c199a79478ec0029eae','587f906a9a7947b089f8dd5a']\"\n",
            " \"['54195a4fcbb20f219d7fa7dd','5878a2ec9a7947e531faf52c']\"\n",
            " \"['61811d649a7947d02fdf5d95','5f106dd79a7947e2d2c14f68']\"\n",
            " \"['5f36b3779a794782606d90c9','54215736cbb20f5cdfa7a8ce']\"\n",
            " \"['5ad4a3139a794723c35fa038','54195a4fcbb20f219d7fa7dd']\"\n",
            " \"['5e1ddee09a7947609de2f69b','5bf2cdb19a7947e0aa3f5fa8']\"\n",
            " \"['54215736cbb20f5cdfa7a8ce','5b8403979a79477107927783']\"\n",
            " \"['5bfd1d039a794755995093f8','61811d649a7947d02fdf5d95']\"\n",
            " \"['613b3f049a7947536026e824','5f9064d69a794754c4d2c453']\"\n",
            " \"['61fcf3d49a794754b3f9e39e','54254690cbb20fa485b88cc9','58b6d6599a79471a9e0cdd52']\"\n",
            " \"['587f906a9a7947b089f8dd5a','5878a2ec9a7947e531faf52c']\"\n",
            " \"['587f906a9a7947b089f8dd5a','5b8403979a79477107927783','5cc18fcd9a79473f104a314a','613b28519a7947487b98a91b','5f9064d69a794754c4d2c453']\"\n",
            " \"['540edfc8cbb20f343b923bf8','5b8403979a79477107927783']\"\n",
            " \"['57f25a259a7947976b381c2b','561cdb919a7947034fd3a0b7','58998a9c9a7947045f27a61d']\"\n",
            " \"['6206513e9a79476587e1e14e','5da7289e9a7947302a3ab566']\"\n",
            " \"['5cc18fcd9a79473f104a314a','5e1ddee09a7947609de2f69b']\"\n",
            " \"['6130a7379a79472aeb4546e3','54254690cbb20fa485b88cc9','5e1ddee09a7947609de2f69b']\"\n",
            " \"['60bf2f0f9a79475cc856c5a1','60fa94ed9a7947b7152c986a']\"\n",
            " \"['587f906a9a7947b089f8dd5a','5cc18fcd9a79473f104a314a','5b8403979a79477107927783','613b28519a7947487b98a91b','5f9064d69a794754c4d2c453']\"\n",
            " \"['592d6ba89a7947366bcc2d03','57f797ee9a7947a5681d187e']\"\n",
            " \"['6130a7379a79472aeb4546e3','613b28519a7947487b98a91b']\"\n",
            " \"['619b93349a7947b514905d23','561cc20e9a7947674469b1cb','54254690cbb20fa485b88cc9','61fcf3d49a794754b3f9e39e']\"\n",
            " \"['604f2c199a79478ec0029eae','54195a4fcbb20f219d7fa7dd']\"\n",
            " \"['541953f5cbb20f219c67bf00','5bf2cdb19a7947e0aa3f5fa8']\"\n",
            " \"['60bf2f0f9a79475cc856c5a1','60b8f9c69a79473345febcbd']\"\n",
            " \"['5a9fa2e39a79470cd086f61a','5f7479ee9a79477734fb6f0e']\"\n",
            " \"['58998a9c9a7947045f27a61d','5cc18fcd9a79473f104a314a','5878a2ec9a7947e531faf52c']\"\n",
            " \"['606dbb339a7947bd8e80a947','5a8d11a39a7947c5e1550980']\"\n",
            " \"['60b8f9c69a79473345febcbd','5bfd1d039a794755995093f8']\"\n",
            " \"['561cc20e9a7947674469b1cb']\"\n",
            " \"['5a9fa2e39a79470cd086f61a','6239c1df9a7947d8bb8f1236']\"\n",
            " \"['57e0f1649a7947372d5c275d','5cfe729d9a794781a5db491c']\"\n",
            " \"['61811d649a7947d02fdf5d95','5bfd1d039a794755995093f8']\"\n",
            " \"['5a8d11a39a7947c5e1550980','60b8f9c69a79473345febcbd']\"\n",
            " \"['5b4c70ae9a79472e05ca3037','5432934ccbb20f0bd1aad40a']\"\n",
            " \"['604f2c199a79478ec0029eae','60b8f9c69a79473345febcbd']\"\n",
            " \"['57f797ee9a7947a5681d187e','59a9400f9a79470c57a3a420']\"\n",
            " \"['5f9064d69a794754c4d2c453','6206513e9a79476587e1e14e']\"\n",
            " \"['606dc7aa9a7947c368c1d46c','5a9fa2e39a79470cd086f61a']\"\n",
            " \"['5cc18fcd9a79473f104a314a','619226fb9a7947e681606cc3']\"\n",
            " \"['6206513e9a79476587e1e14e','5cc18fcd9a79473f104a314a']\"\n",
            " \"['5edf68259a79470758e7ab2d','610a73bd9a7947cc632604e7']\"\n",
            " \"['6206513e9a79476587e1e14e','5a8d11a39a7947c5e1550980']\"\n",
            " \"['58998a9c9a7947045f27a61d','57f25a259a7947976b381c2b']\"\n",
            " \"['60fa94ed9a7947b7152c986a','610a73bd9a7947cc632604e7']\"\n",
            " \"['5b4c70ae9a79472e05ca3037','60b8f9c69a79473345febcbd','613b28519a7947487b98a91b']\"\n",
            " \"['5a9fa2e39a79470cd086f61a','5f9064d69a794754c4d2c453']\"\n",
            " \"['6206513e9a79476587e1e14e','60658eac9a7947642683712d']\"\n",
            " \"['6040e2e59a794733e73d435d','613b28519a7947487b98a91b']\"\n",
            " \"['58b6d6599a79471a9e0cdd52','5a8d11a39a7947c5e1550980']\"\n",
            " \"['5b03d0549a794754c8b8279d','54215736cbb20f5cdfa7a8ce','6239c1df9a7947d8bb8f1236']\"\n",
            " \"['5a8d11a39a7947c5e1550980','613b28519a7947487b98a91b']\"\n",
            " \"['5edf68259a79470758e7ab2d','604f2c199a79478ec0029eae']\"\n",
            " \"['59a9400f9a79470c57a3a420','60b8f9c69a79473345febcbd','5a9fa2e39a79470cd086f61a']\"\n",
            " \"['5878a2ec9a7947e531faf52c','5bfd1d039a794755995093f8']\"\n",
            " \"['587f906a9a7947b089f8dd5a','54244e01cbb20f03076b236d']\"\n",
            " \"['5d5be3429a79472e44c19a73','561cc20e9a7947674469b1cb']\"\n",
            " \"['6239c1df9a7947d8bb8f1236','54215736cbb20f5cdfa7a8ce']\"\n",
            " \"['5a8d11a39a7947c5e1550980','60658eac9a7947642683712d']\"\n",
            " \"['57e8dfc59a7947693823075f','60658eac9a7947642683712d']\"\n",
            " \"['54215736cbb20f5cdfa7a8ce','57f797ee9a7947a5681d187e']\"\n",
            " \"['619226fb9a7947e681606cc3','604f2c199a79478ec0029eae']\"\n",
            " \"['5b8403979a79477107927783','610be1439a7947456237d591']\"\n",
            " \"['57f797ee9a7947a5681d187e','5f9064d69a794754c4d2c453']\"\n",
            " \"['613b28519a7947487b98a91b','604f2c199a79478ec0029eae']\"\n",
            " \"['5b8403979a79477107927783','540edfc8cbb20f343b923bf8']\"\n",
            " \"['54215736cbb20f5cdfa7a8ce','57f797ee9a7947a5681d187e','613b28519a7947487b98a91b']\"\n",
            " \"['60fa94ed9a7947b7152c986a','5cc18fcd9a79473f104a314a']\"\n",
            " \"['57f797ee9a7947a5681d187e','5d5be3429a79472e44c19a73']\"\n",
            " \"['6239c1df9a7947d8bb8f1236','5a8d11a39a7947c5e1550980']\"\n",
            " \"['60658eac9a7947642683712d','6115275e9a7947f605852bf7']\"\n",
            " \"['613b3f049a7947536026e824','5b4c70ae9a79472e05ca3037','61309cc39a7947257ab1d378']\"\n",
            " \"['61fcf3d49a794754b3f9e39e','561cc20e9a7947674469b1cb']\"\n",
            " \"['60fa94ed9a7947b7152c986a','5b4c70ae9a79472e05ca3037','582eff1c9a7947115bf77ff6']\"\n",
            " \"['592d6ba89a7947366bcc2d03']\"\n",
            " \"['5b4c70ae9a79472e05ca3037','60658eac9a7947642683712d']\"\n",
            " \"['5e1ddee09a7947609de2f69b','626938f79a7947012e4e74c3']\"\n",
            " \"['5b4c70ae9a79472e05ca3037','54215736cbb20f5cdfa7a8ce']\"\n",
            " \"['619226fb9a7947e681606cc3','5a8d11a39a7947c5e1550980']\"\n",
            " \"['61309cc39a7947257ab1d378','5d5be3429a79472e44c19a73','582eff1c9a7947115bf77ff6','5bf2cdb19a7947e0aa3f5fa8']\"\n",
            " \"['5bf2cdb19a7947e0aa3f5fa8','58998a9c9a7947045f27a61d']\"\n",
            " \"['619226fb9a7947e681606cc3','5878a7419a7947e8386fc46e']\"\n",
            " \"['5a9fa2e39a79470cd086f61a','61fcf5ac9a794755e4ff9e4c']\"\n",
            " \"['5bf2cdb19a7947e0aa3f5fa8','619b93349a7947b514905d23','6131f8eb9a794718ca935648']\"\n",
            " \"['5878a2ec9a7947e531faf52c','60b8f9c69a79473345febcbd','587f906a9a7947b089f8dd5a','54195a4fcbb20f219d7fa7dd']\"\n",
            " \"['59a9400f9a79470c57a3a420','57f797ee9a7947a5681d187e']\"\n",
            " \"['6130a7379a79472aeb4546e3','5edf68259a79470758e7ab2d']\"\n",
            " \"['60b8f9c69a79473345febcbd','5f36b3779a794782606d90c9']\"\n",
            " \"['5b4c70ae9a79472e05ca3037','5cc18fcd9a79473f104a314a']\"\n",
            " \"['6040e2e59a794733e73d435d','5cc18fcd9a79473f104a314a']\"\n",
            " \"['60bf2f0f9a79475cc856c5a1','58998a9c9a7947045f27a61d']\"\n",
            " \"['61fcf5ac9a794755e4ff9e4c','59a9400f9a79470c57a3a420']\"\n",
            " \"['619226fb9a7947e681606cc3','60b8f9c69a79473345febcbd']\"\n",
            " \"['60bf2f0f9a79475cc856c5a1','5bf2cdb19a7947e0aa3f5fa8']\"\n",
            " \"['6239c1df9a7947d8bb8f1236','57f797ee9a7947a5681d187e']\"\n",
            " \"['60658eac9a7947642683712d','604f2c199a79478ec0029eae']\"\n",
            " \"['60bf2f0f9a79475cc856c5a1','54244e01cbb20f03076b236d','604f2c199a79478ec0029eae']\"\n",
            " \"['60b8f9c69a79473345febcbd','5878a2ec9a7947e531faf52c','5a9fa2e39a79470cd086f61a']\"\n",
            " \"['613b3f049a7947536026e824','619226fb9a7947e681606cc3']\"\n",
            " \"['5432934ccbb20f0bd1aad40a','582eff1c9a7947115bf77ff6']\"\n",
            " \"['61309cc39a7947257ab1d378','604f2c199a79478ec0029eae']\"\n",
            " \"['61309cc39a7947257ab1d378','5a9fa2e39a79470cd086f61a']\"\n",
            " \"['5bfd1d039a794755995093f8','5f9064d69a794754c4d2c453']\"\n",
            " \"['604f2c199a79478ec0029eae','5425454ecbb20f71947b9e05']\"\n",
            " \"['61309cc39a7947257ab1d378','60b8f9c69a79473345febcbd']\"\n",
            " \"['60b8f9c69a79473345febcbd','606dbb339a7947bd8e80a947']\"\n",
            " \"['5edf68259a79470758e7ab2d','60658eac9a7947642683712d']\"\n",
            " \"['5a9fa2e39a79470cd086f61a','604f2c199a79478ec0029eae']\"\n",
            " \"['5a8d11a39a7947c5e1550980','59a9400f9a79470c57a3a420']\"\n",
            " \"['5b4c70ae9a79472e05ca3037','561cc20e9a7947674469b1cb']\"\n",
            " \"['54244e01cbb20f03076b236d','5e1ddee09a7947609de2f69b']\"\n",
            " \"['5bf2cdb19a7947e0aa3f5fa8','57f797ee9a7947a5681d187e']\"\n",
            " \"['6130a7379a79472aeb4546e3','5da7289e9a7947302a3ab566']\"\n",
            " \"['5b4c70ae9a79472e05ca3037','54215736cbb20f5cdfa7a8ce','57e0f1649a7947372d5c275d','5b03d0549a794754c8b8279d']\"\n",
            " \"['61811d649a7947d02fdf5d95','5878a2ec9a7947e531faf52c']\"\n",
            " \"['598c3e009a79477a6db7e3d3']\"\n",
            " \"['582eff1c9a7947115bf77ff6','610a73bd9a7947cc632604e7']\"\n",
            " \"['5cc18fcd9a79473f104a314a','60fa94ed9a7947b7152c986a']\"\n",
            " \"['60658eac9a7947642683712d','6115275e9a7947f605852bf7','561cc20e9a7947674469b1cb']\"\n",
            " \"['606dbb339a7947bd8e80a947','5f7479ee9a79477734fb6f0e']\"\n",
            " \"['619226fb9a7947e681606cc3','57e8dfc59a7947693823075f']\"\n",
            " \"['6206513e9a79476587e1e14e','54215736cbb20f5cdfa7a8ce']\"\n",
            " \"['592d6ba89a7947366bcc2d03','6130a7379a79472aeb4546e3']\"\n",
            " \"['54244e01cbb20f03076b236d','58b6d6599a79471a9e0cdd52']\"\n",
            " \"['5bf2cdb19a7947e0aa3f5fa8','57e8dfc59a7947693823075f']\"\n",
            " \"['5a9fa2e39a79470cd086f61a','6130a7379a79472aeb4546e3']\"\n",
            " \"['5ad4a3139a794723c35fa038']\"\n",
            " \"['6130a7379a79472aeb4546e3','59fc552d9a794760b916c4c7']\"\n",
            " \"['5e1ddee09a7947609de2f69b','54244e01cbb20f03076b236d']\"\n",
            " \"['561cc20e9a7947674469b1cb','5a8d11a39a7947c5e1550980']\"\n",
            " \"['61fcf3d49a794754b3f9e39e','58b6d6599a79471a9e0cdd52','54254690cbb20fa485b88cc9']\"\n",
            " \"['54215736cbb20f5cdfa7a8ce','59a9400f9a79470c57a3a420']\"\n",
            " \"['604f2c199a79478ec0029eae','58998a9c9a7947045f27a61d']\"\n",
            " \"['5edf68259a79470758e7ab2d','619226fb9a7947e681606cc3']\"\n",
            " \"['60fa94ed9a7947b7152c986a','5d5be3429a79472e44c19a73']\"\n",
            " \"['5a9fa2e39a79470cd086f61a','606dc7aa9a7947c368c1d46c']\"\n",
            " \"['57e0f1649a7947372d5c275d','5a8d11a39a7947c5e1550980']\"\n",
            " \"['598c3e009a79477a6db7e3d3','604f2c199a79478ec0029eae']\"\n",
            " \"['6115275e9a7947f605852bf7','610a73bd9a7947cc632604e7']\"\n",
            " \"['5e1ddee09a7947609de2f69b','6206513e9a79476587e1e14e']\"\n",
            " \"['5edf68259a79470758e7ab2d','57f797ee9a7947a5681d187e']\"\n",
            " \"['57f25a259a7947976b381c2b','5f7479ee9a79477734fb6f0e']\"\n",
            " \"['59a9400f9a79470c57a3a420','5edf68259a79470758e7ab2d']\"\n",
            " \"['60b8f9c69a79473345febcbd','619226fb9a7947e681606cc3']\"\n",
            " \"['561cc20e9a7947674469b1cb','5e1ddee09a7947609de2f69b']\"\n",
            " \"['58eb4a2d9a7947591ca3dd27','5a8d11a39a7947c5e1550980']\"\n",
            " \"['60b8f9c69a79473345febcbd','5a9fa2e39a79470cd086f61a']\"\n",
            " \"['57f797ee9a7947a5681d187e','5a8d11a39a7947c5e1550980']\"\n",
            " \"['57f25a259a7947976b381c2b','54254690cbb20fa485b88cc9']\"\n",
            " \"['5bfd1d039a794755995093f8','613b3f049a7947536026e824']\"\n",
            " \"['6131f8eb9a794718ca935648','5873b29e9a7947969d37690b','610a73bd9a7947cc632604e7']\"\n",
            " \"['5e4663219a794736af922488','5bf2cdb19a7947e0aa3f5fa8']\"\n",
            " \"['5edf68259a79470758e7ab2d','54254690cbb20fa485b88cc9']\"\n",
            " \"['54215736cbb20f5cdfa7a8ce','5bfd1d039a794755995093f8']\"\n",
            " \"['604f2c199a79478ec0029eae','54254690cbb20fa485b88cc9']\"\n",
            " \"['5e4663219a794736af922488','610a73bd9a7947cc632604e7']\"\n",
            " \"['619226fb9a7947e681606cc3','60bf2f0f9a79475cc856c5a1']\"\n",
            " \"['5a8d11a39a7947c5e1550980','5a9fa2e39a79470cd086f61a']\"\n",
            " \"['604f2c199a79478ec0029eae','5bfd1d039a794755995093f8']\"\n",
            " \"['54215736cbb20f5cdfa7a8ce','5878a7419a7947e8386fc46e']\"\n",
            " \"['619226fb9a7947e681606cc3','54215736cbb20f5cdfa7a8ce']\"\n",
            " \"['5e1ddee09a7947609de2f69b','604f2c199a79478ec0029eae','5f9064d69a794754c4d2c453']\"\n",
            " \"['625949719a7947213854205f','582eff1c9a7947115bf77ff6']\"\n",
            " \"['6131f8eb9a794718ca935648','57f797ee9a7947a5681d187e']\"\n",
            " \"['561cc20e9a7947674469b1cb','54254690cbb20fa485b88cc9','5f7479ee9a79477734fb6f0e']\"\n",
            " \"['5423d729cbb20f5238b0221b']\"\n",
            " \"['60fa94ed9a7947b7152c986a','5878a2ec9a7947e531faf52c']\"\n",
            " \"['54215736cbb20f5cdfa7a8ce','54254690cbb20fa485b88cc9','6239c1df9a7947d8bb8f1236','582eff1c9a7947115bf77ff6']\"\n",
            " \"['5a9fa2e39a79470cd086f61a','561cc20e9a7947674469b1cb']\"\n",
            " \"['5f9064d69a794754c4d2c453','604f2c199a79478ec0029eae']\"\n",
            " \"['610a73bd9a7947cc632604e7','5bfd1d039a794755995093f8']\"\n",
            " \"['619226fb9a7947e681606cc3','613b28519a7947487b98a91b']\"\n",
            " \"['5d5be3429a79472e44c19a73','5bf2cdb19a7947e0aa3f5fa8']\"\n",
            " \"['61309cc39a7947257ab1d378','5d5be3429a79472e44c19a73']\"\n",
            " \"['54215736cbb20f5cdfa7a8ce','5edf68259a79470758e7ab2d']\"\n",
            " \"['592d6ba89a7947366bcc2d03','61811d649a7947d02fdf5d95']\"\n",
            " \"['5a8d11a39a7947c5e1550980','5d5be3429a79472e44c19a73']\"\n",
            " \"['59a9400f9a79470c57a3a420','619b93349a7947b514905d23']\"\n",
            " \"['5da7289e9a7947302a3ab566','5e1ddee09a7947609de2f69b']\"\n",
            " \"['5878a2ec9a7947e531faf52c','5e4663219a794736af922488']\"\n",
            " \"['619226fb9a7947e681606cc3','5423d729cbb20f5238b0221b']\"\n",
            " \"['619226fb9a7947e681606cc3','5b4c70ae9a79472e05ca3037']\"\n",
            " \"['5ce6bd119a7947264a38cd8e','54195a4fcbb20f219d7fa7dd']\"\n",
            " \"['57f797ee9a7947a5681d187e','57f25a259a7947976b381c2b','5f9064d69a794754c4d2c453','54215736cbb20f5cdfa7a8ce','54244e01cbb20f03076b236d']\"\n",
            " \"['561cc20e9a7947674469b1cb','5878a2ec9a7947e531faf52c']\"\n",
            " \"['61811d649a7947d02fdf5d95','60b8f9c69a79473345febcbd']\"\n",
            " \"['5f106dd79a7947e2d2c14f68','57f797ee9a7947a5681d187e']\"\n",
            " \"['60bf2f0f9a79475cc856c5a1','54244e01cbb20f03076b236d']\"\n",
            " \"['58eb4a2d9a7947591ca3dd27','5bfd1d039a794755995093f8','5cc18fcd9a79473f104a314a','60b8f9c69a79473345febcbd']\"\n",
            " \"['57f25a259a7947976b381c2b','61811d649a7947d02fdf5d95']\"\n",
            " \"['60f80a849a79476b9fdcd9ca','61fcf3d49a794754b3f9e39e']\"\n",
            " \"['60fa94ed9a7947b7152c986a','5e4663219a794736af922488']\"]\n",
            "\n",
            "\n",
            "Колонка \"ctr\": \n",
            "Уникальныех значении: 3178 \n",
            " [1.58  1.853 0.    ... 1.132 4.112 2.937]\n",
            "\n",
            "\n",
            "Колонка \"category\": \n",
            "Уникальныех значении: 9 \n",
            " ['5409f11ce063da9c8b588a18' '5409f11ce063da9c8b588a12'\n",
            " '5433e5decbb20f277b20eca9' '540d5ecacbb20f2524fc050a'\n",
            " '540d5eafcbb20f2524fc0509' '5409f11ce063da9c8b588a13'\n",
            " '5e54e2089a7947f63a801742' '552e430f9a79475dd957f8b3'\n",
            " '5e54e22a9a7947f560081ea2']\n",
            "\n",
            "\n",
            "Колонка \"tags\": \n",
            "Уникальныех значении: 6798 \n",
            " [\"['55928d339a794751dc8303d6', '542d1e28cbb20f862ac2c1f6', '5409f140e063daa0f408ad1d', '55797e339a794789759c64a1']\"\n",
            " \"['549d25df9a794775979561d2', '58abcf539a7947f18bc079eb', '5409f196e063daa0f408ae67']\"\n",
            " \"['5430f451cbb20f73931ecd05', '5409f15de063daa0f408ada8', '5409f196e063daa0f408ae65']\"\n",
            " ...\n",
            " \"['59e769a09a794784016dab04', '544539facbb20f34e7c84dd8', '555b7fb59a79470a14d91133', '54a1ac3c9a7947199498c108']\"\n",
            " \"['59cd72769a7947ba5f3a8ae5', '5409f15ae063daa0f408ad8a', '5409f203e063daa0f408af72', '5715f0099a7947c5a4b42d46']\"\n",
            " \"['5409f15ee063daa0f408adb0', '5463e5b9cbb20f877fdedd71', '59e769a29a794784016daf86']\"]\n",
            "\n",
            "\n",
            "Колонка \"views\": \n",
            "Уникальныех значении: 6320 \n",
            " [20460 19038 51151 ...  8377 37004 11981]\n",
            "\n",
            "\n",
            "Колонка \"depth\": \n",
            "Уникальныех значении: 304 \n",
            " [1.134 1.142 1.185 1.053 1.063 1.14  1.059 1.038 1.135 1.162 1.06  1.19\n",
            " 1.069 1.159 1.079 1.052 1.075 1.132 1.209 1.137 1.047 1.26  1.081 1.1\n",
            " 1.146 1.044 1.057 1.259 1.067 1.077 1.152 1.054 1.143 1.097 1.087 1.211\n",
            " 1.131 1.032 1.088 1.166 1.17  1.056 1.064 1.138 1.043 1.09  1.171 1.128\n",
            " 1.035 1.197 1.198 1.076 1.204 1.031 1.147 1.095 1.175 1.045 1.108 1.116\n",
            " 1.149 1.167 1.155 1.217 1.048 1.071 1.169 1.086 1.156 1.179 1.068 1.118\n",
            " 1.055 1.042 1.193 1.196 1.094 1.117 1.051 1.15  1.106 1.182 1.046 1.136\n",
            " 1.151 1.049 1.11  1.133 1.041 1.093 1.12  1.237 1.129 1.124 1.219 1.141\n",
            " 1.158 1.125 1.084 1.061 1.085 1.029 1.107 1.153 1.172 1.126 1.23  1.164\n",
            " 1.165 1.034 1.178 1.074 1.174 1.148 1.222 1.096 1.066 1.058 1.271 1.18\n",
            " 1.188 1.036 1.122 1.176 1.098 1.684 1.065 1.115 1.101 1.16  1.233 1.072\n",
            " 1.203 1.05  1.07  1.119 1.04  1.102 1.08  1.189 1.127 1.103 1.145 1.039\n",
            " 1.181 1.13  1.109 1.062 1.2   1.163 1.323 1.139 1.111 1.114 1.184 1.157\n",
            " 1.112 1.105 1.082 1.144 1.282 1.073 1.091 1.213 1.589 1.201 1.123 1.195\n",
            " 1.208 1.121 1.092 1.246 1.216 1.268 1.242 1.099 1.154 1.168 1.191 1.173\n",
            " 1.221 1.03  1.225 1.258 1.214 1.241 1.24  1.037 1.215 1.161 1.028 1.016\n",
            " 1.113 1.272 1.289 1.234 1.186 1.218 1.21  1.089 1.187 1.033 1.49  1.377\n",
            " 1.183 1.083 1.199 1.104 1.305 1.229 1.283 1.192 1.078 1.207 1.472 1.022\n",
            " 1.315 1.177 1.288 1.026 1.238 1.206 1.212 1.262 1.224 1.565 1.202 1.205\n",
            " 1.223 1.226 1.269 1.382 1.194 1.381 1.245 1.22  1.244 1.236 1.021 1.025\n",
            " 1.254 1.239 1.02  1.317 1.506 1.247 1.027 1.324 1.394 1.266 1.274 1.232\n",
            " 1.799 1.314 1.261 1.255 1.235 1.251 1.024 1.243 1.456 1.231 1.252 1.292\n",
            " 1.281 1.273 1.248 1.3   1.276 1.257 1.25  1.227 1.309 1.358 1.023 1.275\n",
            " 1.345 1.286 1.347 1.27  1.249 1.433 1.228 1.264 1.265 1.297 1.277 1.253\n",
            " 1.393 1.298 1.32  1.256 1.39  1.327 1.299 1.34  1.351 1.313 1.572 1.293\n",
            " 1.311 1.346 1.339 1.304]\n",
            "\n",
            "\n",
            "Колонка \"full_reads_percent\": \n",
            "Уникальныех значении: 6295 \n",
            " [35.85  38.355 36.424 ... 38.045 50.757 36.249]\n",
            "\n",
            "\n"
          ]
        }
      ]
    },
    {
      "cell_type": "code",
      "source": [
        "for i in df_test.columns :  \n",
        "  print(f'Колонка \"{i}\": \\nУникальныех значении: {df_test[i].nunique()} \\n {df_test[i].unique()}\\n\\n') "
      ],
      "metadata": {
        "colab": {
          "base_uri": "https://localhost:8080/"
        },
        "id": "H8NoFuNl5dad",
        "outputId": "2874c505-a7ab-4121-c480-13488e738441"
      },
      "execution_count": null,
      "outputs": [
        {
          "output_type": "stream",
          "name": "stdout",
          "text": [
            "Колонка \"title\": \n",
            "Уникальныех значении: 2990 \n",
            " ['«Крайне провокационная тема»: как Россия и США поспорили на Совбезе ООН\\n                \\n                                                    \\n\\n    \\n\\n    Политика,\\xa020:02'\n",
            " 'Власти Херсонской области пообещали сделать русский язык государственным'\n",
            " 'Премьер и президент Финляндии призвали срочно подать заявку в НАТО' ...\n",
            " 'МИД сообщил о желании стран ЕАЭС отказаться от расчетов в долларах\\n                \\n                                                    \\n\\n    \\n\\n    Экономика,\\xa008:18'\n",
            " 'Wikileaks сообщила дату заседания суда по экстрадиции Ассанжа в США\\n                \\n                                                    \\n\\n    \\n\\n    Общество,\\xa018:59'\n",
            " 'Захарова посоветовала немцам меньше дышать для борьбы с Россией\\n                \\n                                                    \\n\\n    \\n\\n    Политика,\\xa013:33']\n",
            "\n",
            "\n",
            "Колонка \"publish_date\": \n",
            "Уникальныех значении: 3000 \n",
            " ['2022-02-01 17:02:44' '2022-05-24 00:50:55' '2022-05-12 07:11:51' ...\n",
            " '2022-04-14 05:18:59' '2022-04-02 15:59:06' '2022-03-20 10:33:05']\n",
            "\n",
            "\n",
            "Колонка \"session\": \n",
            "Уникальныех значении: 2718 \n",
            " ['J0AvX96vTAaQCiWVbzoMdw' 'QS5CqzXYRnmDdR2LaSreEw'\n",
            " 'XVsoyrUOT8OJJg2_finJhw' ... 'tBr3UG9ORW-gOybkVKX6ww'\n",
            " 'WsGDKyGjTJGRh14eR7UVvw' 'ewByZQ1FQBK2dpXyY77rYw']\n",
            "\n",
            "\n",
            "Колонка \"authors\": \n",
            "Уникальныех значении: 326 \n",
            " ['[]' \"['604f2c199a79478ec0029eae']\" \"['6130a7379a79472aeb4546e3']\"\n",
            " \"['5e1ddee09a7947609de2f69b']\" \"['606dc7aa9a7947c368c1d46c']\"\n",
            " \"['5b4c70ae9a79472e05ca3037']\" \"['5edf68259a79470758e7ab2d']\"\n",
            " \"['6206513e9a79476587e1e14e']\" \"['619226fb9a7947e681606cc3']\"\n",
            " \"['60f80a849a79476b9fdcd9ca']\" \"['5878a7419a7947e8386fc46e']\"\n",
            " \"['5bfd1d039a794755995093f8']\" \"['58b6d6599a79471a9e0cdd52']\"\n",
            " \"['58998a9c9a7947045f27a61d','619226fb9a7947e681606cc3']\"\n",
            " \"['54215736cbb20f5cdfa7a8ce','6239c1df9a7947d8bb8f1236']\"\n",
            " \"['5f106dd79a7947e2d2c14f68']\" \"['60bf2f0f9a79475cc856c5a1']\"\n",
            " \"['542f8085cbb20f3a1e334efb']\" \"['5a9fa2e39a79470cd086f61a']\"\n",
            " \"['5a9fa2e39a79470cd086f61a','5f9064d69a794754c4d2c453']\"\n",
            " \"['5a8d11a39a7947c5e1550980']\"\n",
            " \"['5b4c70ae9a79472e05ca3037','54215736cbb20f5cdfa7a8ce']\"\n",
            " \"['5878a2ec9a7947e531faf52c']\" \"['61fcf3d49a794754b3f9e39e']\"\n",
            " \"['5e4663219a794736af922488']\" \"['60fa94ed9a7947b7152c986a']\"\n",
            " \"['61309cc39a7947257ab1d378']\"\n",
            " \"['5e1ddee09a7947609de2f69b','619226fb9a7947e681606cc3']\"\n",
            " \"['5b8403979a79477107927783','622f6c389a79478decf07e76']\"\n",
            " \"['54195a4fcbb20f219d7fa7dd']\" \"['606dbb339a7947bd8e80a947']\"\n",
            " \"['6130a7379a79472aeb4546e3','606dc7aa9a7947c368c1d46c']\"\n",
            " \"['619226fb9a7947e681606cc3','5cc18fcd9a79473f104a314a']\"\n",
            " \"['54215736cbb20f5cdfa7a8ce']\"\n",
            " \"['541953f5cbb20f219c67bf00','54195a4fcbb20f219d7fa7dd']\"\n",
            " \"['57f797ee9a7947a5681d187e']\"\n",
            " \"['619226fb9a7947e681606cc3','5432934ccbb20f0bd1aad40a']\"\n",
            " \"['5a8d11a39a7947c5e1550980','6130a7379a79472aeb4546e3']\"\n",
            " \"['5a8d11a39a7947c5e1550980','58998a9c9a7947045f27a61d']\"\n",
            " \"['5a8d11a39a7947c5e1550980','6206513e9a79476587e1e14e']\"\n",
            " \"['5a9fa2e39a79470cd086f61a','60b8f9c69a79473345febcbd']\"\n",
            " \"['5b4c70ae9a79472e05ca3037','57e8dfc59a7947693823075f','60658eac9a7947642683712d']\"\n",
            " \"['542f8085cbb20f3a1e334efb','5fb66f1a9a79472d136e1168','5de4f4dd9a7947fb481dd41e','61fcf5ac9a794755e4ff9e4c','5b8403979a79477107927783']\"\n",
            " \"['5a8d11a39a7947c5e1550980','54244e01cbb20f03076b236d']\"\n",
            " \"['5a9fa2e39a79470cd086f61a','5da7289e9a7947302a3ab566']\"\n",
            " \"['5e1ddee09a7947609de2f69b','60658eac9a7947642683712d']\"\n",
            " \"['54244e01cbb20f03076b236d','5878a2ec9a7947e531faf52c']\"\n",
            " \"['619226fb9a7947e681606cc3','587f906a9a7947b089f8dd5a']\"\n",
            " \"['54254690cbb20fa485b88cc9','54244e01cbb20f03076b236d']\"\n",
            " \"['604f2c199a79478ec0029eae','626938f79a7947012e4e74c3']\"\n",
            " \"['60f80a849a79476b9fdcd9ca','54254690cbb20fa485b88cc9']\"\n",
            " \"['610a73bd9a7947cc632604e7','619226fb9a7947e681606cc3']\"\n",
            " \"['61811d649a7947d02fdf5d95']\"\n",
            " \"['59a9400f9a79470c57a3a420','5e1ddee09a7947609de2f69b']\"\n",
            " \"['619b93349a7947b514905d23']\" \"['54254690cbb20fa485b88cc9']\"\n",
            " \"['58998a9c9a7947045f27a61d']\" \"['5423d729cbb20f5238b0221b']\"\n",
            " \"['606dc7aa9a7947c368c1d46c','5b4c70ae9a79472e05ca3037']\"\n",
            " \"['613b3f049a7947536026e824']\"\n",
            " \"['6130a7379a79472aeb4546e3','54244e01cbb20f03076b236d']\"\n",
            " \"['59fc552d9a794760b916c4c7','54244e01cbb20f03076b236d']\"\n",
            " \"['57f797ee9a7947a5681d187e','54254690cbb20fa485b88cc9']\"\n",
            " \"['5a9fa2e39a79470cd086f61a','59a9400f9a79470c57a3a420']\"\n",
            " \"['5f9064d69a794754c4d2c453','57f797ee9a7947a5681d187e']\"\n",
            " \"['57f25a259a7947976b381c2b','60bf2f0f9a79475cc856c5a1']\"\n",
            " \"['5bfd1d039a794755995093f8','61fcf5ac9a794755e4ff9e4c']\"\n",
            " \"['57c3fa919a7947e69071e942','5b8403979a79477107927783','5878a2ec9a7947e531faf52c','54195a4fcbb20f219d7fa7dd','5ed4d5ee9a79473ae5758b77','5fb66f1a9a79472d136e1168','5cc163e09a794725db340099','5e5ce0a99a7947086025e1e4','5a9fa2e39a79470cd086f61a','5edf68259a79470758e7ab2d','604f2c199a79478ec0029eae','5a8d11a39a7947c5e1550980','619226fb9a7947e681606cc3','57f797ee9a7947a5681d187e']\"\n",
            " \"['619226fb9a7947e681606cc3','5f9064d69a794754c4d2c453']\"\n",
            " \"['60bf2f0f9a79475cc856c5a1','5e1ddee09a7947609de2f69b']\"\n",
            " \"['5d5be3429a79472e44c19a73']\" \"['6239c1df9a7947d8bb8f1236']\"\n",
            " \"['5bfd1d039a794755995093f8','5a8d11a39a7947c5e1550980']\"\n",
            " \"['619226fb9a7947e681606cc3','604f2c199a79478ec0029eae']\"\n",
            " \"['5bf2cdb19a7947e0aa3f5fa8','60658eac9a7947642683712d']\"\n",
            " \"['61811d649a7947d02fdf5d95','5f9064d69a794754c4d2c453']\"\n",
            " \"['5bfd1d039a794755995093f8','619226fb9a7947e681606cc3']\"\n",
            " \"['5f36b3779a794782606d90c9']\" \"['541953f5cbb20f219c67bf00']\"\n",
            " \"['54244e01cbb20f03076b236d','57f797ee9a7947a5681d187e']\"\n",
            " \"['59fc552d9a794760b916c4c7']\" \"['6115275e9a7947f605852bf7']\"\n",
            " \"['5edf68259a79470758e7ab2d','54215736cbb20f5cdfa7a8ce']\"\n",
            " \"['5a8d11a39a7947c5e1550980','5432934ccbb20f0bd1aad40a']\"\n",
            " \"['606dc7aa9a7947c368c1d46c','5edf68259a79470758e7ab2d']\"\n",
            " \"['582eff1c9a7947115bf77ff6']\" \"['5bf2cdb19a7947e0aa3f5fa8']\"\n",
            " \"['5432934ccbb20f0bd1aad40a','5a8d11a39a7947c5e1550980']\"\n",
            " \"['54254690cbb20fa485b88cc9','54215736cbb20f5cdfa7a8ce']\"\n",
            " \"['604f2c199a79478ec0029eae','5f36b3779a794782606d90c9']\"\n",
            " \"['5cc18fcd9a79473f104a314a','5b4c70ae9a79472e05ca3037']\"\n",
            " \"['624587419a7947cf285e8d3c','54215736cbb20f5cdfa7a8ce']\"\n",
            " \"['610be1439a7947456237d591','58998a9c9a7947045f27a61d']\"\n",
            " \"['5f7479ee9a79477734fb6f0e']\"\n",
            " \"['5cc18fcd9a79473f104a314a','5a9fa2e39a79470cd086f61a']\"\n",
            " \"['58b6d6599a79471a9e0cdd52','61fcf5ac9a794755e4ff9e4c']\"\n",
            " \"['60b8f9c69a79473345febcbd','619226fb9a7947e681606cc3']\"\n",
            " \"['60658eac9a7947642683712d','5b4c70ae9a79472e05ca3037']\"\n",
            " \"['622f6c389a79478decf07e76']\"\n",
            " \"['5e1ddee09a7947609de2f69b','6131f8eb9a794718ca935648']\"\n",
            " \"['613b28519a7947487b98a91b','5878a2ec9a7947e531faf52c']\"\n",
            " \"['6131f8eb9a794718ca935648','5a8d11a39a7947c5e1550980']\"\n",
            " \"['540edfc8cbb20f343b923bf8','5b8403979a79477107927783']\"\n",
            " \"['61811d649a7947d02fdf5d95','604f2c199a79478ec0029eae']\"\n",
            " \"['6131f8eb9a794718ca935648']\"\n",
            " \"['61fcf5ac9a794755e4ff9e4c','5b8403979a79477107927783']\"\n",
            " \"['619226fb9a7947e681606cc3','5da7289e9a7947302a3ab566']\"\n",
            " \"['59a9400f9a79470c57a3a420','60b8f9c69a79473345febcbd','5878a2ec9a7947e531faf52c']\"\n",
            " \"['60bf2f0f9a79475cc856c5a1','5432934ccbb20f0bd1aad40a']\"\n",
            " \"['5432934ccbb20f0bd1aad40a']\"\n",
            " \"['5bfd1d039a794755995093f8','610a73bd9a7947cc632604e7']\"\n",
            " \"['5bfd1d039a794755995093f8','598c3e009a79477a6db7e3d3']\"\n",
            " \"['57e0f1649a7947372d5c275d']\"\n",
            " \"['5e1ddee09a7947609de2f69b','606dc7aa9a7947c368c1d46c']\"\n",
            " \"['61fcf5ac9a794755e4ff9e4c','619226fb9a7947e681606cc3']\"\n",
            " \"['6206513e9a79476587e1e14e','54244e01cbb20f03076b236d']\"\n",
            " \"['54244e01cbb20f03076b236d','5edf68259a79470758e7ab2d','5f106dd79a7947e2d2c14f68']\"\n",
            " \"['5b03d0549a794754c8b8279d','5d5be3429a79472e44c19a73','6239c1df9a7947d8bb8f1236']\"\n",
            " \"['5b4c70ae9a79472e05ca3037','54254690cbb20fa485b88cc9']\"\n",
            " \"['5e677c049a79476cbfa27e1d','5e9ed52a9a79476b73b8a15e','5b8403979a79477107927783']\"\n",
            " \"['613b28519a7947487b98a91b']\"\n",
            " \"['5a2511349a794727e3fa3d20','57f797ee9a7947a5681d187e','5423d729cbb20f5238b0221b']\"\n",
            " \"['582eff1c9a7947115bf77ff6','5b4c70ae9a79472e05ca3037']\"\n",
            " \"['5ce6bd119a7947264a38cd8e','54215736cbb20f5cdfa7a8ce']\"\n",
            " \"['619226fb9a7947e681606cc3','592d6ba89a7947366bcc2d03']\"\n",
            " \"['5b4c70ae9a79472e05ca3037','5f7479ee9a79477734fb6f0e']\"\n",
            " \"['6040e2e59a794733e73d435d']\"\n",
            " \"['619226fb9a7947e681606cc3','6131f8eb9a794718ca935648']\"\n",
            " \"['606dc7aa9a7947c368c1d46c','60b8f9c69a79473345febcbd']\"\n",
            " \"['587f906a9a7947b089f8dd5a','54195a4fcbb20f219d7fa7dd']\"\n",
            " \"['54254690cbb20fa485b88cc9','561cc20e9a7947674469b1cb']\"\n",
            " \"['5878a2ec9a7947e531faf52c','5cc18fcd9a79473f104a314a']\"\n",
            " \"['57e8dfc59a7947693823075f','57f797ee9a7947a5681d187e']\"\n",
            " \"['610be1439a7947456237d591','5f7479ee9a79477734fb6f0e','58998a9c9a7947045f27a61d']\"\n",
            " \"['6115275e9a7947f605852bf7','60658eac9a7947642683712d','54254690cbb20fa485b88cc9']\"\n",
            " \"['604f2c199a79478ec0029eae','57f766ae9a79479bfcfa0133']\"\n",
            " \"['60658eac9a7947642683712d','57e8dfc59a7947693823075f']\"\n",
            " \"['60bf2f0f9a79475cc856c5a1','6115275e9a7947f605852bf7']\"\n",
            " \"['57e0f1649a7947372d5c275d','610a73bd9a7947cc632604e7']\"\n",
            " \"['59a9400f9a79470c57a3a420','619226fb9a7947e681606cc3']\"\n",
            " \"['5f9064d69a794754c4d2c453','5bfd1d039a794755995093f8']\"\n",
            " \"['5bfd1d039a794755995093f8','606dbb339a7947bd8e80a947']\"\n",
            " \"['54244e01cbb20f03076b236d','5a9fa2e39a79470cd086f61a']\"\n",
            " \"['592d6ba89a7947366bcc2d03','5e1ddee09a7947609de2f69b']\"\n",
            " \"['57f25a259a7947976b381c2b','59fc552d9a794760b916c4c7']\"\n",
            " \"['6130a7379a79472aeb4546e3','5878a2ec9a7947e531faf52c']\"\n",
            " \"['60bf2f0f9a79475cc856c5a1','54215736cbb20f5cdfa7a8ce']\"\n",
            " \"['61fcf3d49a794754b3f9e39e','60f80a849a79476b9fdcd9ca']\"\n",
            " \"['54244e01cbb20f03076b236d','542f8085cbb20f3a1e334efb']\"\n",
            " \"['5d56a57a9a7947222b32c41f','60703c279a7947139df6596f','5b8403979a79477107927783','582eff1c9a7947115bf77ff6','57e8dfc59a7947693823075f']\"\n",
            " \"['54195a4fcbb20f219d7fa7dd','619226fb9a7947e681606cc3']\"\n",
            " \"['598c3e009a79477a6db7e3d3','58998a9c9a7947045f27a61d','5878a2ec9a7947e531faf52c']\"\n",
            " \"['5878a2ec9a7947e531faf52c','561cc20e9a7947674469b1cb']\"\n",
            " \"['5a8d11a39a7947c5e1550980','5e1ddee09a7947609de2f69b']\"\n",
            " \"['561cc20e9a7947674469b1cb','5a9fa2e39a79470cd086f61a']\"\n",
            " \"['5a9fa2e39a79470cd086f61a','592d6ba89a7947366bcc2d03']\"\n",
            " \"['60658eac9a7947642683712d']\"\n",
            " \"['5e4663219a794736af922488','587f906a9a7947b089f8dd5a']\"\n",
            " \"['61309cc39a7947257ab1d378','60658eac9a7947642683712d','6131f8eb9a794718ca935648']\"\n",
            " \"['619226fb9a7947e681606cc3','626938f79a7947012e4e74c3']\"\n",
            " \"['61fcf5ac9a794755e4ff9e4c','606dc7aa9a7947c368c1d46c']\"\n",
            " \"['619226fb9a7947e681606cc3','60b8f9c69a79473345febcbd']\"\n",
            " \"['59fc552d9a794760b916c4c7','6130a7379a79472aeb4546e3']\"\n",
            " \"['5e1ddee09a7947609de2f69b','624587419a7947cf285e8d3c']\"\n",
            " \"['5e4663219a794736af922488','5f9064d69a794754c4d2c453']\"\n",
            " \"['582eff1c9a7947115bf77ff6','5432934ccbb20f0bd1aad40a']\"\n",
            " \"['5b8403979a79477107927783','5e677c049a79476cbfa27e1d','610be1439a7947456237d591']\"\n",
            " \"['606dbb339a7947bd8e80a947','5da7289e9a7947302a3ab566']\"\n",
            " \"['5bfd1d039a794755995093f8','54244e01cbb20f03076b236d']\"\n",
            " \"['61fcf3d49a794754b3f9e39e','61309cc39a7947257ab1d378']\"\n",
            " \"['613b28519a7947487b98a91b','619226fb9a7947e681606cc3']\"\n",
            " \"['624587419a7947cf285e8d3c']\"\n",
            " \"['61811d649a7947d02fdf5d95','606dbb339a7947bd8e80a947']\"\n",
            " \"['5878a2ec9a7947e531faf52c','613b28519a7947487b98a91b']\"\n",
            " \"['54254690cbb20fa485b88cc9','5ce6bd119a7947264a38cd8e']\"\n",
            " \"['5a9fa2e39a79470cd086f61a','561cc20e9a7947674469b1cb']\"\n",
            " \"['604f2c199a79478ec0029eae','606dc7aa9a7947c368c1d46c']\"\n",
            " \"['5b8403979a79477107927783','610be1439a7947456237d591']\"\n",
            " \"['5878a2ec9a7947e531faf52c','5a9fa2e39a79470cd086f61a']\"\n",
            " \"['5bf2cdb19a7947e0aa3f5fa8','61811d649a7947d02fdf5d95']\"\n",
            " \"['57f797ee9a7947a5681d187e','5f9064d69a794754c4d2c453']\"\n",
            " \"['58eb4a2d9a7947591ca3dd27','60bf2f0f9a79475cc856c5a1']\"\n",
            " \"['5a9fa2e39a79470cd086f61a','5bf2cdb19a7947e0aa3f5fa8']\"\n",
            " \"['60f80a849a79476b9fdcd9ca','5bf2cdb19a7947e0aa3f5fa8']\"\n",
            " \"['54195a4fcbb20f219d7fa7dd','5da7289e9a7947302a3ab566']\"\n",
            " \"['604f2c199a79478ec0029eae','5edf68259a79470758e7ab2d']\"\n",
            " \"['5b03d0549a794754c8b8279d','54244e01cbb20f03076b236d','54254690cbb20fa485b88cc9']\"\n",
            " \"['54254690cbb20fa485b88cc9','5e1ddee09a7947609de2f69b']\"\n",
            " \"['5a9fa2e39a79470cd086f61a','6131f8eb9a794718ca935648','60658eac9a7947642683712d']\"\n",
            " \"['561cc20e9a7947674469b1cb','5432934ccbb20f0bd1aad40a','5d5be3429a79472e44c19a73']\"\n",
            " \"['619226fb9a7947e681606cc3','54244e01cbb20f03076b236d','613b28519a7947487b98a91b','54195a4fcbb20f219d7fa7dd']\"\n",
            " \"['604f2c199a79478ec0029eae','58b6d6599a79471a9e0cdd52']\"\n",
            " \"['619226fb9a7947e681606cc3','5e1ddee09a7947609de2f69b']\"\n",
            " \"['54215736cbb20f5cdfa7a8ce','5a8d11a39a7947c5e1550980']\"\n",
            " \"['5ce6bd119a7947264a38cd8e','54215736cbb20f5cdfa7a8ce','5878a2ec9a7947e531faf52c']\"\n",
            " \"['5b03d0549a794754c8b8279d']\"\n",
            " \"['598c3e009a79477a6db7e3d3','5bfd1d039a794755995093f8']\"\n",
            " \"['54244e01cbb20f03076b236d','57f797ee9a7947a5681d187e','60bf2f0f9a79475cc856c5a1']\"\n",
            " \"['5edf68259a79470758e7ab2d','606dc7aa9a7947c368c1d46c']\"\n",
            " \"['5d5be3429a79472e44c19a73','5b4c70ae9a79472e05ca3037','598c3e009a79477a6db7e3d3','5bf2cdb19a7947e0aa3f5fa8']\"\n",
            " \"['6131f8eb9a794718ca935648','5b4c70ae9a79472e05ca3037']\"\n",
            " \"['61811d649a7947d02fdf5d95','5bfd1d039a794755995093f8']\"\n",
            " \"['58998a9c9a7947045f27a61d','5a8d11a39a7947c5e1550980']\"\n",
            " \"['54195a4fcbb20f219d7fa7dd','592d6ba89a7947366bcc2d03']\"\n",
            " \"['542f8085cbb20f3a1e334efb','619226fb9a7947e681606cc3']\"\n",
            " \"['5b8403979a79477107927783']\"\n",
            " \"['61309cc39a7947257ab1d378','606dc7aa9a7947c368c1d46c']\"\n",
            " \"['610a73bd9a7947cc632604e7']\"\n",
            " \"['5da7289e9a7947302a3ab566','5e4663219a794736af922488']\"\n",
            " \"['54254690cbb20fa485b88cc9','61fcf3d49a794754b3f9e39e']\"\n",
            " \"['59a9400f9a79470c57a3a420','54254690cbb20fa485b88cc9']\"\n",
            " \"['60b8f9c69a79473345febcbd','5a8d11a39a7947c5e1550980']\"\n",
            " \"['5e1ddee09a7947609de2f69b','5f7479ee9a79477734fb6f0e']\"\n",
            " \"['59a9400f9a79470c57a3a420']\"\n",
            " \"['54215736cbb20f5cdfa7a8ce','54254690cbb20fa485b88cc9','610be1439a7947456237d591']\"\n",
            " \"['5cc18fcd9a79473f104a314a']\"\n",
            " \"['619226fb9a7947e681606cc3','54254690cbb20fa485b88cc9']\"\n",
            " \"['54244e01cbb20f03076b236d','5b4c70ae9a79472e05ca3037']\"\n",
            " \"['5f71b0719a794740b0ce312f','5cc163e09a794725db340099']\"\n",
            " \"['54244e01cbb20f03076b236d','5b4c70ae9a79472e05ca3037','54215736cbb20f5cdfa7a8ce']\"\n",
            " \"['5432934ccbb20f0bd1aad40a','582eff1c9a7947115bf77ff6']\"\n",
            " \"['625949719a7947213854205f','6130a7379a79472aeb4546e3']\"\n",
            " \"['5bf2cdb19a7947e0aa3f5fa8','604f2c199a79478ec0029eae']\"\n",
            " \"['5f106dd79a7947e2d2c14f68','54195a4fcbb20f219d7fa7dd']\"\n",
            " \"['606dc7aa9a7947c368c1d46c','619226fb9a7947e681606cc3']\"\n",
            " \"['60bf2f0f9a79475cc856c5a1','5b03d0549a794754c8b8279d']\"\n",
            " \"['54244e01cbb20f03076b236d','60b8f9c69a79473345febcbd']\"\n",
            " \"['59a9400f9a79470c57a3a420','61811d649a7947d02fdf5d95']\"\n",
            " \"['58b6d6599a79471a9e0cdd52','59a9400f9a79470c57a3a420']\"\n",
            " \"['5b03d0549a794754c8b8279d','604f2c199a79478ec0029eae']\"\n",
            " \"['6115275e9a7947f605852bf7','60658eac9a7947642683712d']\"\n",
            " \"['61fcf3d49a794754b3f9e39e','54254690cbb20fa485b88cc9']\"\n",
            " \"['5b4c70ae9a79472e05ca3037','60b8f9c69a79473345febcbd']\"\n",
            " \"['54244e01cbb20f03076b236d','6130a7379a79472aeb4546e3']\"\n",
            " \"['6130a7379a79472aeb4546e3','561cc20e9a7947674469b1cb']\"\n",
            " \"['5bfd1d039a794755995093f8','54215736cbb20f5cdfa7a8ce']\"\n",
            " \"['54244e01cbb20f03076b236d','604f2c199a79478ec0029eae']\"\n",
            " \"['5edf68259a79470758e7ab2d','5da7289e9a7947302a3ab566']\"\n",
            " \"['5e1ddee09a7947609de2f69b','5b4c70ae9a79472e05ca3037']\"\n",
            " \"['6130a7379a79472aeb4546e3','5f9064d69a794754c4d2c453']\"\n",
            " \"['57e8dfc59a7947693823075f','6131f8eb9a794718ca935648']\"\n",
            " \"['604f2c199a79478ec0029eae','613b28519a7947487b98a91b']\"\n",
            " \"['5bf2cdb19a7947e0aa3f5fa8','541953f5cbb20f219c67bf00']\"\n",
            " \"['6130a7379a79472aeb4546e3','60bf2f0f9a79475cc856c5a1']\"\n",
            " \"['57f797ee9a7947a5681d187e','592d6ba89a7947366bcc2d03']\"\n",
            " \"['561cc20e9a7947674469b1cb','5bfd1d039a794755995093f8']\"\n",
            " \"['561cc20e9a7947674469b1cb','5d5be3429a79472e44c19a73']\"\n",
            " \"['5d56a57a9a7947222b32c41f','60703c279a7947139df6596f']\"\n",
            " \"['5e1ddee09a7947609de2f69b','59a9400f9a79470c57a3a420']\"\n",
            " \"['57e8dfc59a7947693823075f','6115275e9a7947f605852bf7']\"\n",
            " \"['5a9fa2e39a79470cd086f61a','54215736cbb20f5cdfa7a8ce']\"\n",
            " \"['606dc7aa9a7947c368c1d46c','5878a7419a7947e8386fc46e']\"\n",
            " \"['6130a7379a79472aeb4546e3','54215736cbb20f5cdfa7a8ce']\"\n",
            " \"['587f906a9a7947b089f8dd5a']\"\n",
            " \"['59a9400f9a79470c57a3a420','61fcf5ac9a794755e4ff9e4c']\"\n",
            " \"['5bfd1d039a794755995093f8','60bf2f0f9a79475cc856c5a1']\"\n",
            " \"['604f2c199a79478ec0029eae','610a73bd9a7947cc632604e7']\"\n",
            " \"['57c3fa919a7947e69071e942','5b8403979a79477107927783']\"\n",
            " \"['60658eac9a7947642683712d','5e1ddee09a7947609de2f69b']\"\n",
            " \"['619226fb9a7947e681606cc3','5bfd1d039a794755995093f8']\"\n",
            " \"['610a73bd9a7947cc632604e7','5423d729cbb20f5238b0221b']\"\n",
            " \"['5878a7419a7947e8386fc46e','54215736cbb20f5cdfa7a8ce']\"\n",
            " \"['5a9fa2e39a79470cd086f61a','54244e01cbb20f03076b236d']\"\n",
            " \"['5b03d0549a794754c8b8279d','60f80a849a79476b9fdcd9ca']\"\n",
            " \"['5b03d0549a794754c8b8279d','57e0f1649a7947372d5c275d']\"\n",
            " \"['54254690cbb20fa485b88cc9','598c3e009a79477a6db7e3d3']\"\n",
            " \"['598c3e009a79477a6db7e3d3','5e1ddee09a7947609de2f69b']\"\n",
            " \"['5f9064d69a794754c4d2c453']\"\n",
            " \"['54244e01cbb20f03076b236d','619226fb9a7947e681606cc3']\"\n",
            " \"['6239c1df9a7947d8bb8f1236','6130a7379a79472aeb4546e3']\"\n",
            " \"['60703c279a7947139df6596f','622f6c389a79478decf07e76']\"\n",
            " \"['5b4c70ae9a79472e05ca3037','606dc7aa9a7947c368c1d46c']\"\n",
            " \"['598c3e009a79477a6db7e3d3','58998a9c9a7947045f27a61d']\"\n",
            " \"['5e1ddee09a7947609de2f69b','5da7289e9a7947302a3ab566']\"\n",
            " \"['561cc20e9a7947674469b1cb']\"\n",
            " \"['619226fb9a7947e681606cc3','5bf2cdb19a7947e0aa3f5fa8']\"\n",
            " \"['60fa94ed9a7947b7152c986a','5e1ddee09a7947609de2f69b']\"\n",
            " \"['5878a2ec9a7947e531faf52c','60b8f9c69a79473345febcbd','606dc7aa9a7947c368c1d46c']\"\n",
            " \"['613b3f049a7947536026e824','54244e01cbb20f03076b236d']\"\n",
            " \"['5edf68259a79470758e7ab2d','582eff1c9a7947115bf77ff6']\"\n",
            " \"['5878a7419a7947e8386fc46e','619226fb9a7947e681606cc3']\"\n",
            " \"['58eb4a2d9a7947591ca3dd27','5b4c70ae9a79472e05ca3037','5cc18fcd9a79473f104a314a']\"\n",
            " \"['610a73bd9a7947cc632604e7','604f2c199a79478ec0029eae']\"\n",
            " \"['5b4c70ae9a79472e05ca3037','5d5be3429a79472e44c19a73']\"\n",
            " \"['619b93349a7947b514905d23','561cc20e9a7947674469b1cb']\"\n",
            " \"['54195a4fcbb20f219d7fa7dd','5b4c70ae9a79472e05ca3037']\"\n",
            " \"['57e0f1649a7947372d5c275d','60f80a849a79476b9fdcd9ca']\"\n",
            " \"['54215736cbb20f5cdfa7a8ce','5e1ddee09a7947609de2f69b','604f2c199a79478ec0029eae']\"\n",
            " \"['6130a7379a79472aeb4546e3','5cc18fcd9a79473f104a314a']\"\n",
            " \"['6130a7379a79472aeb4546e3','60b8f9c69a79473345febcbd']\"\n",
            " \"['57e8dfc59a7947693823075f']\"\n",
            " \"['60b8f9c69a79473345febcbd','587f906a9a7947b089f8dd5a','6130a7379a79472aeb4546e3']\"\n",
            " \"['60bf2f0f9a79475cc856c5a1','54244e01cbb20f03076b236d']\"\n",
            " \"['5f9064d69a794754c4d2c453','5da7289e9a7947302a3ab566']\"\n",
            " \"['54244e01cbb20f03076b236d','5e4663219a794736af922488']\"\n",
            " \"['60b8f9c69a79473345febcbd','59a9400f9a79470c57a3a420']\"\n",
            " \"['604f2c199a79478ec0029eae','619226fb9a7947e681606cc3']\"\n",
            " \"['619226fb9a7947e681606cc3','606dc7aa9a7947c368c1d46c']\"\n",
            " \"['5e1ddee09a7947609de2f69b','54254690cbb20fa485b88cc9']\"\n",
            " \"['5a8d11a39a7947c5e1550980','5bfd1d039a794755995093f8','5f7479ee9a79477734fb6f0e']\"\n",
            " \"['58998a9c9a7947045f27a61d','61fcf5ac9a794755e4ff9e4c']\"\n",
            " \"['606dbb339a7947bd8e80a947','54244e01cbb20f03076b236d','5a9fa2e39a79470cd086f61a']\"\n",
            " \"['5edf68259a79470758e7ab2d','587f906a9a7947b089f8dd5a']\"\n",
            " \"['58998a9c9a7947045f27a61d','5f7479ee9a79477734fb6f0e','613b3f049a7947536026e824','59fc552d9a794760b916c4c7']\"\n",
            " \"['610a73bd9a7947cc632604e7','5bfd1d039a794755995093f8']\"\n",
            " \"['6206513e9a79476587e1e14e','610a73bd9a7947cc632604e7','613b28519a7947487b98a91b']\"\n",
            " \"['561cc20e9a7947674469b1cb','604f2c199a79478ec0029eae']\"\n",
            " \"['5bfd1d039a794755995093f8','606dc7aa9a7947c368c1d46c']\"\n",
            " \"['604f2c199a79478ec0029eae','60bf2f0f9a79475cc856c5a1']\"\n",
            " \"['542f8085cbb20f3a1e334efb','54244e01cbb20f03076b236d']\"\n",
            " \"['604f2c199a79478ec0029eae','5e1ddee09a7947609de2f69b']\"\n",
            " \"['6130a7379a79472aeb4546e3','604f2c199a79478ec0029eae']\"\n",
            " \"['58eb4a2d9a7947591ca3dd27','5878a2ec9a7947e531faf52c']\"\n",
            " \"['54254690cbb20fa485b88cc9','57f797ee9a7947a5681d187e']\"\n",
            " \"['59fc552d9a794760b916c4c7','54254690cbb20fa485b88cc9']\"\n",
            " \"['5a9fa2e39a79470cd086f61a','5cc18fcd9a79473f104a314a','613b28519a7947487b98a91b']\"\n",
            " \"['54215736cbb20f5cdfa7a8ce','561cc20e9a7947674469b1cb','5a9fa2e39a79470cd086f61a']\"\n",
            " \"['5a8d11a39a7947c5e1550980','60b8f9c69a79473345febcbd']\"\n",
            " \"['613b28519a7947487b98a91b','6130a7379a79472aeb4546e3']\"\n",
            " \"['606dc7aa9a7947c368c1d46c','5bfd1d039a794755995093f8']\"\n",
            " \"['5878a2ec9a7947e531faf52c','5a8d11a39a7947c5e1550980']\"\n",
            " \"['60b8f9c69a79473345febcbd','57f797ee9a7947a5681d187e']\"\n",
            " \"['60bf2f0f9a79475cc856c5a1','619b93349a7947b514905d23']\"\n",
            " \"['5a9fa2e39a79470cd086f61a','610a73bd9a7947cc632604e7']\"\n",
            " \"['6206513e9a79476587e1e14e','5878a2ec9a7947e531faf52c']\"\n",
            " \"['54244e01cbb20f03076b236d']\"]\n",
            "\n",
            "\n",
            "Колонка \"ctr\": \n",
            "Уникальныех значении: 1617 \n",
            " [0.    1.598 2.006 ... 1.19  1.788 4.427]\n",
            "\n",
            "\n",
            "Колонка \"category\": \n",
            "Уникальныех значении: 6 \n",
            " ['5409f11ce063da9c8b588a12' '5433e5decbb20f277b20eca9'\n",
            " '540d5eafcbb20f2524fc0509' '5409f11ce063da9c8b588a18'\n",
            " '5409f11ce063da9c8b588a13' '540d5ecacbb20f2524fc050a']\n",
            "\n",
            "\n",
            "Колонка \"tags\": \n",
            "Уникальныех значении: 2945 \n",
            " [\"['58ca77679a794700b1e37f0a', '5409f1b7e063daa0f408aec4', '5409f15ee063daa0f408adb0', '5409f15de063daa0f408ada8', '5883d50f9a7947eac61a7dc5']\"\n",
            " \"['5433603acbb20f6e5def0cc5', '5409f420e063daa0f408b5a5', '545f38dacbb20fe3c1b1fcce', '621a3d0c9a794728d449ae5e']\"\n",
            " \"['5409f270e063daa0f408b0a7', '5409f196e063daa0f408ae65', '5430f451cbb20f73931ecd05']\"\n",
            " ...\n",
            " \"['5409f1a3e063daa0f408ae98', '5437f9eccbb20f615700f3b2', '5630b4289a7947e0e5785033']\"\n",
            " \"['54b3fc039a794779915a6c71', '559691229a79471c86d90f74', '548ff3f52ae596850730446b']\"\n",
            " \"['556e926a9a794721a7851f18', '559d63ac9a794712abffcfc0', '5409f200e063daa0f408af68']\"]\n",
            "\n",
            "\n"
          ]
        }
      ]
    },
    {
      "cell_type": "markdown",
      "source": [
        "# Готовим входную колонку title методом Bag of Words"
      ],
      "metadata": {
        "id": "La0tGMdXhszT"
      }
    },
    {
      "cell_type": "code",
      "source": [
        "\n",
        "maxWordsCount = 1000   # Определяем максимальное количество слов/индексов, учитываемое при обучении текстов\n",
        "\n",
        "# Воспользуемся встроенной в Keras функцией Tokenizer для разбиения текста и превращения в матрицу числовых значений\n",
        "# num_words=maxWordsCount - определяем максимальное количество слов/индексов, учитываемое при обучении текстов\n",
        "# filters='!\"#$%&()*+,-./:;<=>?@[\\\\]^_`{|}~\\t\\n' - избавляемся от ненужных символов\n",
        "# lower=True - приводим слова к нижнему регистру\n",
        "# split=' ' - разделяем слова по пробелу\n",
        "# char_level=False - токенизируем по словам (Если будет True - каждый символ будет рассматриваться как отдельный токен )\n",
        "tokenizer = Tokenizer(num_words=maxWordsCount, \n",
        "                      filters='!\"#$%&()*+,-–—./…:;<=>?@[\\\\]^_`{|}~«»\\t\\n\\xa0\\ufeff', \n",
        "                      lower=True, \n",
        "                      split=' ', \n",
        "                      oov_token='unknown', \n",
        "                      char_level=False)\n"
      ],
      "metadata": {
        "id": "DDT2EYDA9udT"
      },
      "execution_count": null,
      "outputs": []
    },
    {
      "cell_type": "code",
      "source": [
        "# Перед обучением частотного словаря удаляем из него отметки минут в тексте некоторых заголовков.\n",
        "# Так как стандартный фильтр токенайзера их не удаляет\n",
        "\n",
        "titles_for_tokenizer = [re.sub(r\"\\d{2}:\\d{2}\", \" \", df_train['title'][x]) for x in range(df_train.shape[0])]"
      ],
      "metadata": {
        "id": "DjQtxVPOSpJJ"
      },
      "execution_count": null,
      "outputs": []
    },
    {
      "cell_type": "code",
      "source": [
        "\n",
        "tokenizer.fit_on_texts(titles_for_tokenizer) # \"Скармливаем\" наши тексты, т.е. даём в обработку методу, который соберет словарь частотности\n",
        "\n",
        "items = list(tokenizer.word_index.items()) # Вытаскиваем индексы слов для просмотра (по сути, это словарь частотности слов)\n"
      ],
      "metadata": {
        "id": "RbddEMpv9-nJ"
      },
      "execution_count": null,
      "outputs": []
    },
    {
      "cell_type": "code",
      "source": [
        "help(tokenizer.fit_on_texts)"
      ],
      "metadata": {
        "colab": {
          "base_uri": "https://localhost:8080/"
        },
        "id": "3pS7PXlb9IRo",
        "outputId": "8899e3fc-7d33-4039-b455-c82d55baa1c2"
      },
      "execution_count": null,
      "outputs": [
        {
          "output_type": "stream",
          "name": "stdout",
          "text": [
            "Help on method fit_on_texts in module keras_preprocessing.text:\n",
            "\n",
            "fit_on_texts(texts) method of keras_preprocessing.text.Tokenizer instance\n",
            "    Updates internal vocabulary based on a list of texts.\n",
            "    \n",
            "    In the case where texts contains lists,\n",
            "    we assume each entry of the lists to be a token.\n",
            "    \n",
            "    Required before using `texts_to_sequences` or `texts_to_matrix`.\n",
            "    \n",
            "    # Arguments\n",
            "        texts: can be a list of strings,\n",
            "            a generator of strings (for memory-efficiency),\n",
            "            or a list of list of strings.\n",
            "\n"
          ]
        }
      ]
    },
    {
      "cell_type": "code",
      "source": [
        "items[:20]      # Смотрим 20 самых популярных слов частотного словаря"
      ],
      "metadata": {
        "colab": {
          "base_uri": "https://localhost:8080/"
        },
        "id": "CKc5c0pi_ttJ",
        "outputId": "33f13cf2-4e2c-412d-cf34-69603efc6309"
      },
      "execution_count": null,
      "outputs": [
        {
          "output_type": "execute_result",
          "data": {
            "text/plain": [
              "[('unknown', 1),\n",
              " ('в', 2),\n",
              " ('о', 3),\n",
              " ('политика', 4),\n",
              " ('на', 5),\n",
              " ('и', 6),\n",
              " ('с', 7),\n",
              " ('россии', 8),\n",
              " ('общество', 9),\n",
              " ('из', 10),\n",
              " ('за', 11),\n",
              " ('по', 12),\n",
              " ('заявил', 13),\n",
              " ('об', 14),\n",
              " ('сша', 15),\n",
              " ('украине', 16),\n",
              " ('что', 17),\n",
              " ('для', 18),\n",
              " ('украины', 19),\n",
              " ('не', 20)]"
            ]
          },
          "metadata": {},
          "execution_count": 18
        }
      ]
    },
    {
      "cell_type": "code",
      "source": [
        "len(items)    # Количество слов в частотном словаре токенайзера"
      ],
      "metadata": {
        "colab": {
          "base_uri": "https://localhost:8080/"
        },
        "id": "pD5qnCxKTzS8",
        "outputId": "9bd26944-efe3-4f11-c939-8d027e4fd6c2"
      },
      "execution_count": null,
      "outputs": [
        {
          "output_type": "execute_result",
          "data": {
            "text/plain": [
              "14465"
            ]
          },
          "metadata": {},
          "execution_count": 19
        }
      ]
    },
    {
      "cell_type": "code",
      "source": [
        "# Преобразовываем текст в последовательность индексов согласно частотному словарю\n",
        "\n",
        "train_title = []\n",
        "\n",
        "train_title = tokenizer.texts_to_sequences(df_train['title'])"
      ],
      "metadata": {
        "id": "UeKRhPd0CFhd"
      },
      "execution_count": null,
      "outputs": []
    },
    {
      "cell_type": "code",
      "source": [
        "# Осматриваем результаты полученных промежуточных преоборазовании\n",
        "\n",
        "print(\"Взглянем на фрагмент обучающего текста:\")\n",
        "print(\"В виде оригинального текста:              \", df_train['title'][10])\n",
        "print(\"Он же в виде последовательности индексов: \", train_title[10], '\\n')"
      ],
      "metadata": {
        "colab": {
          "base_uri": "https://localhost:8080/"
        },
        "id": "4gGT9JHQDCM6",
        "outputId": "71962bb3-d06d-48fb-e65d-db161987a5a5"
      },
      "execution_count": null,
      "outputs": [
        {
          "output_type": "stream",
          "name": "stdout",
          "text": [
            "Взглянем на фрагмент обучающего текста:\n",
            "В виде оригинального текста:               Медведев обвинил Зеленского в выдвижении «невыполнимых ультиматумов»\n",
            "Он же в виде последовательности индексов:  [100, 137, 126, 2, 1, 1, 1] \n",
            "\n"
          ]
        }
      ]
    },
    {
      "cell_type": "code",
      "source": [
        "len(train_title)"
      ],
      "metadata": {
        "colab": {
          "base_uri": "https://localhost:8080/"
        },
        "id": "9yBRO-HLUfg8",
        "outputId": "0c7e6f63-f85a-49b8-a7c8-5fb525555d58"
      },
      "execution_count": null,
      "outputs": [
        {
          "output_type": "execute_result",
          "data": {
            "text/plain": [
              "7000"
            ]
          },
          "metadata": {},
          "execution_count": 22
        }
      ]
    },
    {
      "cell_type": "code",
      "source": [
        "type(train_title)"
      ],
      "metadata": {
        "colab": {
          "base_uri": "https://localhost:8080/"
        },
        "id": "IeOxa3G31koR",
        "outputId": "6a4e1ea7-394a-4ce5-9621-262418e75296"
      },
      "execution_count": null,
      "outputs": [
        {
          "output_type": "execute_result",
          "data": {
            "text/plain": [
              "list"
            ]
          },
          "metadata": {},
          "execution_count": 23
        }
      ]
    },
    {
      "cell_type": "code",
      "source": [
        "xTrain_title = tokenizer.sequences_to_matrix(train_title)   #Делаем вектора Bag of words "
      ],
      "metadata": {
        "id": "q3_27nUY1aOE"
      },
      "execution_count": null,
      "outputs": []
    },
    {
      "cell_type": "code",
      "source": [
        "xTrain_title.shape"
      ],
      "metadata": {
        "colab": {
          "base_uri": "https://localhost:8080/"
        },
        "id": "-iWMVFaR13d-",
        "outputId": "dd3325aa-ca1c-4835-a3db-2c6d5a8238e8"
      },
      "execution_count": null,
      "outputs": [
        {
          "output_type": "execute_result",
          "data": {
            "text/plain": [
              "(7000, 1000)"
            ]
          },
          "metadata": {},
          "execution_count": 25
        }
      ]
    },
    {
      "cell_type": "markdown",
      "source": [
        "# Готовим выходный данные для обучения"
      ],
      "metadata": {
        "id": "k95QeSyq3WVS"
      }
    },
    {
      "cell_type": "markdown",
      "source": [
        "## Обрабатываем стобец \"views\""
      ],
      "metadata": {
        "id": "uh7cGA1sj7p_"
      }
    },
    {
      "cell_type": "code",
      "source": [
        "df_train['views'].sort_values()"
      ],
      "metadata": {
        "colab": {
          "base_uri": "https://localhost:8080/"
        },
        "id": "V7ZKRu6C19ro",
        "outputId": "2067a4d8-dc19-4b5a-a634-4f2555ec2473"
      },
      "execution_count": null,
      "outputs": [
        {
          "output_type": "execute_result",
          "data": {
            "text/plain": [
              "document_id\n",
              "6236462b9a7947544365254d0664WRQsQRGOIbsqUT0LSw         65\n",
              "62041eec9a79471dce8208efxEswFOOoQfCF4N1Bk-LgTA         84\n",
              "6246149a9a79471201b16ca0Lm-NghnfRxGWgbUqr5JFKQ        151\n",
              "6236a0269a794766048156dff0UsY8pGTL6Q22boUeuU6w        165\n",
              "626d98eb9a794774ea27e974WDK4DyQ7T5aV1ltVQNkAGg        181\n",
              "                                                   ...   \n",
              "62074b119a7947b0e49b36f7ogeueMGYROCLw1nvmiGQrw    2554204\n",
              "62074b119a7947b0e49b36f7LcIC7Zi9RVaJjBx5VlFp3w    2554204\n",
              "62074b119a7947b0e49b36f7yeqcRbtLQuCcsxUjWqbUFg    2554204\n",
              "62074b119a7947b0e49b36f73kkiEgVVT3qV3E7Hd2cDsg    2554204\n",
              "62074b119a7947b0e49b36f7iNdNbeY3TLyxxJmCeU8LdA    2554204\n",
              "Name: views, Length: 7000, dtype: int64"
            ]
          },
          "metadata": {},
          "execution_count": 26
        }
      ]
    },
    {
      "cell_type": "code",
      "source": [
        "yTrain_views = np.array(df_train['views']).reshape(-1, 1)    # Перед нормированием переводим в формат numpy и корректируем форму данных перед подачей в нормировщик.\n",
        "\n",
        "yTrain_views.shape"
      ],
      "metadata": {
        "colab": {
          "base_uri": "https://localhost:8080/"
        },
        "id": "wTwBMX3i562y",
        "outputId": "e2302e06-9782-4872-c55f-7fe238d6926d"
      },
      "execution_count": null,
      "outputs": [
        {
          "output_type": "execute_result",
          "data": {
            "text/plain": [
              "(7000, 1)"
            ]
          },
          "metadata": {},
          "execution_count": 27
        }
      ]
    },
    {
      "cell_type": "code",
      "source": [
        "yViewsScaler = StandardScaler()\n",
        "\n",
        "yViewsScaler.fit(yTrain_views)       # Тренируем нормировщик на выходных данных views\n",
        "\n",
        "yTrain_views_Scalered = yViewsScaler.transform(yTrain_views)     # Переводим данные views в нормированную форму с помощью нормировщика"
      ],
      "metadata": {
        "id": "D7lJ6Y0l5RFE"
      },
      "execution_count": null,
      "outputs": []
    },
    {
      "cell_type": "code",
      "source": [
        "yTrain_views_Scalered.shape"
      ],
      "metadata": {
        "colab": {
          "base_uri": "https://localhost:8080/"
        },
        "id": "sZD6khUk9LYv",
        "outputId": "7fdcf28a-30a5-4dfa-beec-8d00d1514842"
      },
      "execution_count": null,
      "outputs": [
        {
          "output_type": "execute_result",
          "data": {
            "text/plain": [
              "(7000, 1)"
            ]
          },
          "metadata": {},
          "execution_count": 29
        }
      ]
    },
    {
      "cell_type": "markdown",
      "source": [
        "## Обрабатываем столбец \"depth\""
      ],
      "metadata": {
        "id": "DChJyDJZkEGi"
      }
    },
    {
      "cell_type": "code",
      "source": [
        "df_train['depth'].sort_values()"
      ],
      "metadata": {
        "id": "2JNj0O1ykRNu",
        "colab": {
          "base_uri": "https://localhost:8080/"
        },
        "outputId": "575fc89b-4029-4667-e7ed-b456c1e0dd71"
      },
      "execution_count": null,
      "outputs": [
        {
          "output_type": "execute_result",
          "data": {
            "text/plain": [
              "document_id\n",
              "62931bae9a7947448b3cdab4SRPnZWHSRFmlCCZwce5APg    1.016\n",
              "626a67e19a7947694894d707EcrLAABxS86ihA553FEnAA    1.020\n",
              "62614a2f9a79479125d98653PUY3qhYWRGSMnqBumpqeiw    1.020\n",
              "62611dec9a794779e452cfb1Hle9FXT6Sh6us8D8OrseOQ    1.021\n",
              "62866e759a7947002d54b2be01aClYwET-29ZVkjDNZBHg    1.021\n",
              "                                                  ...  \n",
              "62074b119a7947b0e49b36f72XRjXJ3MR0qlf6Jx-rIRbg    1.799\n",
              "62074b119a7947b0e49b36f7yeqcRbtLQuCcsxUjWqbUFg    1.799\n",
              "62074b119a7947b0e49b36f73kkiEgVVT3qV3E7Hd2cDsg    1.799\n",
              "62074b119a7947b0e49b36f7LcIC7Zi9RVaJjBx5VlFp3w    1.799\n",
              "62074b119a7947b0e49b36f7ogeueMGYROCLw1nvmiGQrw    1.799\n",
              "Name: depth, Length: 7000, dtype: float64"
            ]
          },
          "metadata": {},
          "execution_count": 30
        }
      ]
    },
    {
      "cell_type": "code",
      "source": [
        "# Перед нормированием переводим в формат numpy и корректируем форму данных перед подачей в нормировщик.\n",
        "yTrain_depth = np.array(df_train['depth']).reshape(-1, 1)    \n",
        "yTrain_depth.shape"
      ],
      "metadata": {
        "colab": {
          "base_uri": "https://localhost:8080/"
        },
        "id": "iC9_C8-4Rsap",
        "outputId": "a10bea6f-7548-42dc-a381-706f80fc4204"
      },
      "execution_count": null,
      "outputs": [
        {
          "output_type": "execute_result",
          "data": {
            "text/plain": [
              "(7000, 1)"
            ]
          },
          "metadata": {},
          "execution_count": 31
        }
      ]
    },
    {
      "cell_type": "code",
      "source": [
        "yDepthScaler = StandardScaler()\n",
        "\n",
        "yDepthScaler.fit(yTrain_depth)       # Тренируем нормировщик на выходных данных depth\n",
        "\n",
        "yTrain_depth_Scalered = yDepthScaler.transform(yTrain_depth)     # Переводим данные views в нормированную форму с помощью нормировщика"
      ],
      "metadata": {
        "id": "tbM-PB6ESEkO"
      },
      "execution_count": null,
      "outputs": []
    },
    {
      "cell_type": "code",
      "source": [
        "yTrain_depth_Scalered.shape"
      ],
      "metadata": {
        "colab": {
          "base_uri": "https://localhost:8080/"
        },
        "id": "JJ-zdhuDScgv",
        "outputId": "69c1ed05-6346-4ffc-e13a-d2d15bb82662"
      },
      "execution_count": null,
      "outputs": [
        {
          "output_type": "execute_result",
          "data": {
            "text/plain": [
              "(7000, 1)"
            ]
          },
          "metadata": {},
          "execution_count": 33
        }
      ]
    },
    {
      "cell_type": "markdown",
      "source": [
        "## Обрабатываем столбец \"full_reads_percent\""
      ],
      "metadata": {
        "id": "S4de-Jd4kWRw"
      }
    },
    {
      "cell_type": "code",
      "source": [
        "df_train['full_reads_percent'].sort_values()"
      ],
      "metadata": {
        "id": "5oHb8yrVkeco",
        "colab": {
          "base_uri": "https://localhost:8080/"
        },
        "outputId": "18e143bc-1c51-49b1-e96f-573395c1ec85"
      },
      "execution_count": null,
      "outputs": [
        {
          "output_type": "execute_result",
          "data": {
            "text/plain": [
              "document_id\n",
              "62074b119a7947b0e49b36f7iNdNbeY3TLyxxJmCeU8LdA      4.978\n",
              "62074b119a7947b0e49b36f72XRjXJ3MR0qlf6Jx-rIRbg      4.978\n",
              "62074b119a7947b0e49b36f7yeqcRbtLQuCcsxUjWqbUFg      4.978\n",
              "62074b119a7947b0e49b36f7LcIC7Zi9RVaJjBx5VlFp3w      4.978\n",
              "62074b119a7947b0e49b36f7ogeueMGYROCLw1nvmiGQrw      4.978\n",
              "                                                   ...   \n",
              "623abb1b9a794723857a6b38asdbqAtwSniZn6glDcdeaw     66.821\n",
              "623aee679a79473f14281240Dd2iw8x3QwyFsxwT7qsyTQ     67.897\n",
              "62366acc9a79475cac43e970La4nBiKdRjq-HPcQ4-YKBg     75.729\n",
              "6271d52c9a7947d7db0ac981ciz7jAbTRRGPTfRmXmajDA    217.550\n",
              "620493199a794737f29908f0wCy2KZoJSJiKDhPixqcYZg    267.623\n",
              "Name: full_reads_percent, Length: 7000, dtype: float64"
            ]
          },
          "metadata": {},
          "execution_count": 34
        }
      ]
    },
    {
      "cell_type": "code",
      "source": [
        "# Перед нормированием переводим в формат numpy и корректируем форму данных перед подачей в нормировщик.\n",
        "yTrain_reads = np.array(df_train['full_reads_percent']).reshape(-1, 1)    \n",
        "yTrain_reads.shape"
      ],
      "metadata": {
        "colab": {
          "base_uri": "https://localhost:8080/"
        },
        "id": "mDKPCRJaTGdT",
        "outputId": "734deb60-153f-45ef-a3d3-474b4d51d57b"
      },
      "execution_count": null,
      "outputs": [
        {
          "output_type": "execute_result",
          "data": {
            "text/plain": [
              "(7000, 1)"
            ]
          },
          "metadata": {},
          "execution_count": 35
        }
      ]
    },
    {
      "cell_type": "code",
      "source": [
        "yReadsScaler = StandardScaler()\n",
        "\n",
        "yReadsScaler.fit(yTrain_reads)       # Тренируем нормировщик на выходных данных depth\n",
        "\n",
        "yTrain_reads_Scalered = yReadsScaler.transform(yTrain_reads)     # Переводим данные views в нормированную форму с помощью нормировщика"
      ],
      "metadata": {
        "id": "7Gtv8nfZTU6B"
      },
      "execution_count": null,
      "outputs": []
    },
    {
      "cell_type": "code",
      "source": [
        "yTrain_reads_Scalered.shape"
      ],
      "metadata": {
        "colab": {
          "base_uri": "https://localhost:8080/"
        },
        "id": "Db3Hj6J0UDWF",
        "outputId": "61c0e237-5f89-4aa4-a3df-ae29dc251c24"
      },
      "execution_count": null,
      "outputs": [
        {
          "output_type": "execute_result",
          "data": {
            "text/plain": [
              "(7000, 1)"
            ]
          },
          "metadata": {},
          "execution_count": 37
        }
      ]
    },
    {
      "cell_type": "markdown",
      "source": [
        "## Объединяем целевые столбцы views, depth и full_reads_percent в один массив"
      ],
      "metadata": {
        "id": "aWvqAcOJUTIE"
      }
    },
    {
      "cell_type": "code",
      "source": [
        "yTrainScalered = np.concatenate ( (yTrain_views_Scalered, yTrain_depth_Scalered, yTrain_reads_Scalered), axis=1)\n",
        "\n",
        "yTrainScalered.shape"
      ],
      "metadata": {
        "colab": {
          "base_uri": "https://localhost:8080/"
        },
        "id": "SK7y1qZRVXeI",
        "outputId": "50e7d299-8f44-4761-824e-0fefd1217964"
      },
      "execution_count": null,
      "outputs": [
        {
          "output_type": "execute_result",
          "data": {
            "text/plain": [
              "(7000, 3)"
            ]
          },
          "metadata": {},
          "execution_count": 38
        }
      ]
    },
    {
      "cell_type": "code",
      "source": [
        "print(yTrainScalered[0], yTrain_views_Scalered[0], yTrain_depth_Scalered[0], yTrain_reads_Scalered[0])"
      ],
      "metadata": {
        "colab": {
          "base_uri": "https://localhost:8080/"
        },
        "id": "hw8wwmL7WXj2",
        "outputId": "eba28295-4ad6-4fba-ffa9-da288895c018"
      },
      "execution_count": null,
      "outputs": [
        {
          "output_type": "stream",
          "name": "stdout",
          "text": [
            "[-0.10360856  0.44922444  0.11418581] [-0.10360856] [0.44922444] [0.11418581]\n"
          ]
        }
      ]
    },
    {
      "cell_type": "markdown",
      "source": [
        "# Делаем первую сеть для прогнозирования с одним входом \"title\" и нормированным выходом"
      ],
      "metadata": {
        "id": "bQKqinV49kCl"
      }
    },
    {
      "cell_type": "code",
      "source": [
        "#Создаём нейронку\n",
        "model_1 = Sequential()\n",
        "model_1.add(Dense(200, input_dim=1000, activation=\"relu\"))\n",
        "#model_1.add(BatchNormalization())\n",
        "model_1.add(Dense(200, activation=\"relu\"))\n",
        "model_1.add(Dense(200, activation=\"relu\"))\n",
        "model_1.add(Dense(3, activation='relu'))\n"
      ],
      "metadata": {
        "id": "fquAidbt9pjs"
      },
      "execution_count": null,
      "outputs": []
    },
    {
      "cell_type": "code",
      "source": [
        "\n",
        "model_1.compile(optimizer=Adam(learning_rate=1e-4), \n",
        "              loss='mae', \n",
        "              metrics=['accuracy'])"
      ],
      "metadata": {
        "id": "xg1M6M7sUrxu"
      },
      "execution_count": null,
      "outputs": []
    },
    {
      "cell_type": "code",
      "source": [
        "model_1.summary()\n",
        "plot_model(model_1, dpi=70, show_shapes=True)"
      ],
      "metadata": {
        "colab": {
          "base_uri": "https://localhost:8080/"
        },
        "id": "pB2-lyT6doLM",
        "outputId": "0ab51ecf-99e6-47d0-ab4f-8e8130e90e58"
      },
      "execution_count": null,
      "outputs": [
        {
          "output_type": "stream",
          "name": "stdout",
          "text": [
            "Model: \"sequential\"\n",
            "_________________________________________________________________\n",
            " Layer (type)                Output Shape              Param #   \n",
            "=================================================================\n",
            " dense (Dense)               (None, 200)               200200    \n",
            "                                                                 \n",
            " dense_1 (Dense)             (None, 200)               40200     \n",
            "                                                                 \n",
            " dense_2 (Dense)             (None, 200)               40200     \n",
            "                                                                 \n",
            " dense_3 (Dense)             (None, 3)                 603       \n",
            "                                                                 \n",
            "=================================================================\n",
            "Total params: 281,203\n",
            "Trainable params: 281,203\n",
            "Non-trainable params: 0\n",
            "_________________________________________________________________\n"
          ]
        },
        {
          "output_type": "execute_result",
          "data": {
            "text/plain": [
              "<IPython.core.display.Image object>"
            ],
            "image/png": "[encoded data removed]"
          },
          "metadata": {},
          "execution_count": 42
        }
      ]
    },
    {
      "cell_type": "code",
      "source": [
        "# test_size=0.2 - будет выделено 20% от тренировочных данных \n",
        "# shuffle=True - перемешать данные\n",
        "# x_train - данные для обучения\n",
        "# x_test - данные для проверки\n",
        "# y_train - правильные ответы для обучения\n",
        "# y_test - правильные ответы для проверки\n",
        "x_train, x_test, y_train, y_test = train_test_split(xTrain_title, yTrainScalered, test_size=0.2, shuffle=True)"
      ],
      "metadata": {
        "id": "blXOJjxjSMiP"
      },
      "execution_count": null,
      "outputs": []
    },
    {
      "cell_type": "code",
      "source": [
        "y_train[1]"
      ],
      "metadata": {
        "colab": {
          "base_uri": "https://localhost:8080/"
        },
        "id": "4y8RP1ieffmz",
        "outputId": "f9d9ac3e-ecf0-4ac6-968f-1b79e9089f31"
      },
      "execution_count": null,
      "outputs": [
        {
          "output_type": "execute_result",
          "data": {
            "text/plain": [
              "array([ 0.09636831,  0.83375916, -0.17824684])"
            ]
          },
          "metadata": {},
          "execution_count": 44
        }
      ]
    },
    {
      "cell_type": "code",
      "source": [
        "x_train[833].sum()"
      ],
      "metadata": {
        "colab": {
          "base_uri": "https://localhost:8080/"
        },
        "id": "qoFFaHp0fnPW",
        "outputId": "2fddabc5-49aa-4d98-ca2f-fc3d02a7d488"
      },
      "execution_count": null,
      "outputs": [
        {
          "output_type": "execute_result",
          "data": {
            "text/plain": [
              "8.0"
            ]
          },
          "metadata": {},
          "execution_count": 45
        }
      ]
    },
    {
      "cell_type": "code",
      "source": [
        "# history = model_1.fit(x_train, \n",
        "#                       y_train, \n",
        "#                       epochs=5,\n",
        "#                       batch_size=20,\n",
        "#                       validation_data=(x_test, y_test))"
      ],
      "metadata": {
        "id": "z-N41tCyTH7L"
      },
      "execution_count": null,
      "outputs": []
    },
    {
      "cell_type": "code",
      "source": [
        "#Выводим графики\n",
        "\n",
        "# plt.plot(history.history['loss'], \n",
        "#          label='Средняя абсолютная ошибка на обучающем наборе')\n",
        "# plt.plot(history.history['val_loss'], \n",
        "#          label='Средняя абсолютная ошибка на проверочном наборе')\n",
        "# plt.ylabel('Средняя ошибка')\n",
        "# plt.legend()\n",
        "# plt.show()"
      ],
      "metadata": {
        "id": "gvasQvjhU3_L"
      },
      "execution_count": null,
      "outputs": []
    },
    {
      "cell_type": "markdown",
      "source": [
        "# Готовим цифровые входные данные"
      ],
      "metadata": {
        "id": "y0hBXouwXi6l"
      }
    },
    {
      "cell_type": "markdown",
      "source": [
        "# Столбец \"publish_date\""
      ],
      "metadata": {
        "id": "GUVyZraDZ1O_"
      }
    },
    {
      "cell_type": "code",
      "source": [
        "df_train['publish_date'].sort_values()"
      ],
      "metadata": {
        "colab": {
          "base_uri": "https://localhost:8080/"
        },
        "id": "BO6rHA4ZXwAL",
        "outputId": "eac0c53a-18c8-48fc-9ffb-233f58e21804"
      },
      "execution_count": null,
      "outputs": [
        {
          "output_type": "execute_result",
          "data": {
            "text/plain": [
              "document_id\n",
              "55c3984d9a79470f2c260465BKmAn_fHQruT38beqDIE_A    2017-08-07 13:00:27\n",
              "5a8eb3149a7947e3e34bba2dbgzlzJ2GTQacZgtv4WEb1A    2018-02-22 14:28:30\n",
              "605321259a7947663a3b6ab2vgBnAMPBRIOYrUrK0JeEiQ    2021-04-12 11:01:26\n",
              "609d47119a794795c5f7617dh5z7vG_TQAu5Q7Nwp35LUw    2021-05-14 11:19:24\n",
              "5afd8e7f9a794772862de199oXkM3UjQQRK7NZTlmVi63A    2021-05-17 14:40:01\n",
              "                                                         ...         \n",
              "6293bcc69a79476bca4de7e06uBhesj2TgOK5SlFSHaWiQ    2022-05-29 19:06:09\n",
              "6293a1b69a7947653ffd66efFYhaM6abQJOYhQqxvb41jg    2022-05-29 19:18:23\n",
              "6293c7a19a79476e99870dd7VCw7wJgfTKyFEL4JwVcXSQ    2022-05-29 19:29:36\n",
              "62931bae9a7947448b3cdab4SRPnZWHSRFmlCCZwce5APg    2022-05-29 20:02:22\n",
              "6293d0179a79477232e448779KjDybk2Qvmz5zQcrJ1S-Q    2022-05-29 20:13:12\n",
              "Name: publish_date, Length: 7000, dtype: object"
            ]
          },
          "metadata": {},
          "execution_count": 48
        }
      ]
    },
    {
      "cell_type": "code",
      "source": [
        "# Достаём из даты публикации отдельно месяц, день, час, минуту и день недели.\n",
        "\n",
        "Train_Publish_Date=[]\n",
        "\n",
        "for x in range(df_train['publish_date'].shape[0]):\n",
        "  d = datetime.strptime(df_train['publish_date'][x], '%Y-%m-%d %H:%M:%S')   # Получаем из строки объект типа datetime_object\n",
        "  Train_Publish_Date.append([d.month, d.day, d.hour, d.minute, d.weekday()])"
      ],
      "metadata": {
        "id": "AIr9EXv3f_hO"
      },
      "execution_count": null,
      "outputs": []
    },
    {
      "cell_type": "code",
      "source": [
        "Train_Publish_Date = np.array(Train_Publish_Date)     # Трансформируем в массив типа numpy"
      ],
      "metadata": {
        "id": "yEVdyf0UmKr9"
      },
      "execution_count": null,
      "outputs": []
    },
    {
      "cell_type": "code",
      "source": [
        "Train_Publish_Date.shape"
      ],
      "metadata": {
        "colab": {
          "base_uri": "https://localhost:8080/"
        },
        "id": "xcJTXv6ZkLxW",
        "outputId": "973cca71-0777-4b62-888d-27aa3eb005e0"
      },
      "execution_count": null,
      "outputs": [
        {
          "output_type": "execute_result",
          "data": {
            "text/plain": [
              "(7000, 5)"
            ]
          },
          "metadata": {},
          "execution_count": 51
        }
      ]
    },
    {
      "cell_type": "code",
      "source": [
        "# Нормируем дынные о дате публикации. Для каждой цифры делаем свой MinMaxScaller\n",
        "\n",
        "Scaler_List = []                   # Список для сохранения объектов нормировщика\n",
        "Scalered_Train_Publish_Date = []   # Список для сохранения нормированных данных\n",
        "\n",
        "for x in range(Train_Publish_Date.shape[1]):\n",
        "\n",
        "    Current_DataForScaler =  Train_Publish_Date.T[x].reshape(-1, 1)    # Готовим данные для подачи в нормировщик\n",
        "    Current_Scaler = MinMaxScaler()                                    # Создаём новый нормировщик\n",
        "    Current_Scaler.fit(Current_DataForScaler)                          # Тренируем нормировщик\n",
        "    Scaler_List.append(Current_Scaler)                                 # Сохраняем обученный нормировщик в список\n",
        "    Curren_Scalered_Data = Current_Scaler.transform(Current_DataForScaler)       # Нормируем данные\n",
        "    Scalered_Train_Publish_Date.append(Curren_Scalered_Data)"
      ],
      "metadata": {
        "id": "Z-b4uz_nncIF"
      },
      "execution_count": null,
      "outputs": []
    },
    {
      "cell_type": "code",
      "source": [
        " # Преобразуем данные в формат numpy и придаём данным нужную форму\n",
        "Scalered_Train_Publish_Date = np.array(Scalered_Train_Publish_Date).T[0]  "
      ],
      "metadata": {
        "id": "iao1hfrcxrEZ"
      },
      "execution_count": null,
      "outputs": []
    },
    {
      "cell_type": "code",
      "source": [
        "Scalered_Train_Publish_Date.shape"
      ],
      "metadata": {
        "colab": {
          "base_uri": "https://localhost:8080/"
        },
        "id": "W-Gz_7nq5J5N",
        "outputId": "6a8a083e-bab7-459e-9e9b-c8c2fa81b363"
      },
      "execution_count": null,
      "outputs": [
        {
          "output_type": "execute_result",
          "data": {
            "text/plain": [
              "(7000, 5)"
            ]
          },
          "metadata": {},
          "execution_count": 54
        }
      ]
    },
    {
      "cell_type": "code",
      "source": [
        "Scalered_Train_Publish_Date[0]"
      ],
      "metadata": {
        "colab": {
          "base_uri": "https://localhost:8080/"
        },
        "id": "YFontSRS5Z0I",
        "outputId": "76820005-4573-401c-cecb-c1ccd8c5d8a6"
      },
      "execution_count": null,
      "outputs": [
        {
          "output_type": "execute_result",
          "data": {
            "text/plain": [
              "array([0.27272727, 0.1       , 0.43478261, 0.49152542, 0.        ])"
            ]
          },
          "metadata": {},
          "execution_count": 55
        }
      ]
    },
    {
      "cell_type": "markdown",
      "source": [
        "# Готовим сеть с полноценным выходом (все 3 целевых столбца) и информацией о дате на входе."
      ],
      "metadata": {
        "id": "XmT1zKiQ9GPO"
      }
    },
    {
      "cell_type": "code",
      "source": [
        "#Создаём нейронку\n",
        "model_2 = Sequential()\n",
        "model_2.add(Dense(250, input_dim=5, activation=\"relu\"))\n",
        "model_2.add(Dense(50, activation=\"relu\"))\n",
        "model_2.add(Dense(3, activation='sigmoid'))"
      ],
      "metadata": {
        "id": "-rLc3GXE9UH9"
      },
      "execution_count": null,
      "outputs": []
    },
    {
      "cell_type": "code",
      "source": [
        "model_2.compile(optimizer=Adam(learning_rate=1e-4), \n",
        "              loss='mae', \n",
        "              metrics=['accuracy'])"
      ],
      "metadata": {
        "id": "F7a73qhk9r4i"
      },
      "execution_count": null,
      "outputs": []
    },
    {
      "cell_type": "code",
      "source": [
        "model_2.summary()\n",
        "plot_model(model_2, dpi=70, show_shapes=True)"
      ],
      "metadata": {
        "colab": {
          "base_uri": "https://localhost:8080/",
          "height": 600
        },
        "id": "hiGmsFp794QL",
        "outputId": "a75136f3-de9c-45a0-8bb1-8fba456f6117"
      },
      "execution_count": null,
      "outputs": [
        {
          "output_type": "stream",
          "name": "stdout",
          "text": [
            "Model: \"sequential_1\"\n",
            "_________________________________________________________________\n",
            " Layer (type)                Output Shape              Param #   \n",
            "=================================================================\n",
            " dense_4 (Dense)             (None, 250)               1500      \n",
            "                                                                 \n",
            " dense_5 (Dense)             (None, 50)                12550     \n",
            "                                                                 \n",
            " dense_6 (Dense)             (None, 3)                 153       \n",
            "                                                                 \n",
            "=================================================================\n",
            "Total params: 14,203\n",
            "Trainable params: 14,203\n",
            "Non-trainable params: 0\n",
            "_________________________________________________________________\n"
          ]
        },
        {
          "output_type": "execute_result",
          "data": {
            "text/plain": [
              "<IPython.core.display.Image object>"
            ],
            "image/png": "[encoded data removed]"
          },
          "metadata": {},
          "execution_count": 58
        }
      ]
    },
    {
      "cell_type": "code",
      "source": [
        "# test_size=0.2 - будет выделено 20% от тренировочных данных \n",
        "# shuffle=True - перемешать данные\n",
        "# x_train - данные для обучения\n",
        "# x_test - данные для проверки\n",
        "# y_train - правильные ответы для обучения\n",
        "# y_test - правильные ответы для проверки\n",
        "x_train, x_test, y_train, y_test = train_test_split(Scalered_Train_Publish_Date, yTrainScalered, test_size=0.2, shuffle=True)"
      ],
      "metadata": {
        "id": "CKiawSgR-KPI"
      },
      "execution_count": null,
      "outputs": []
    },
    {
      "cell_type": "code",
      "source": [
        "# history = model_2.fit(x_train, \n",
        "#                       y_train, \n",
        "#                       epochs=200,\n",
        "#                       batch_size=20,\n",
        "#                       validation_data=(x_test, y_test))"
      ],
      "metadata": {
        "id": "J9Wz27nC-ajk"
      },
      "execution_count": null,
      "outputs": []
    },
    {
      "cell_type": "code",
      "source": [
        "#Выводим графики\n",
        "\n",
        "# plt.plot(history.history['loss'], \n",
        "#          label='Средняя абсолютная ошибка на обучающем наборе')\n",
        "# plt.plot(history.history['val_loss'], \n",
        "#          label='Средняя абсолютная ошибка на проверочном наборе')\n",
        "# plt.ylabel('Средняя ошибка')\n",
        "# plt.legend()\n",
        "# plt.show()"
      ],
      "metadata": {
        "id": "LnJEatNg-1Oj"
      },
      "execution_count": null,
      "outputs": []
    },
    {
      "cell_type": "markdown",
      "source": [
        "# Готовим столбец CTR"
      ],
      "metadata": {
        "id": "W726th6sBe18"
      }
    },
    {
      "cell_type": "code",
      "source": [
        "df_train['ctr'].sort_values()"
      ],
      "metadata": {
        "colab": {
          "base_uri": "https://localhost:8080/"
        },
        "id": "I_A4CxN8BdwZ",
        "outputId": "ecc6f990-8725-49ff-df00-c289d312771d"
      },
      "execution_count": null,
      "outputs": [
        {
          "output_type": "execute_result",
          "data": {
            "text/plain": [
              "document_id\n",
              "628cc86b9a79474d02d8b940xnJxG9v0SPygtrcxHx9MUA     0.000\n",
              "6209266d9a7947267d22e819KMGtFECWQumwEN0ewZx2_A     0.000\n",
              "61ff6a719a794709da4133c3B0ss8SjSRfa5LxHtciMXqw     0.000\n",
              "62386e319a7947621669b445fgshRcjKSnanZxhgsO5d4Q     0.000\n",
              "628f7e7a9a7947c1bb6c80b3aBmKqj9nR6-p-yltvkE5Pg     0.000\n",
              "                                                   ...  \n",
              "623c86669a79475a8c852d220PGJl0Z7R-WPMkd66zV7-A    18.771\n",
              "62889f899a79471f2e5f633aIIClcfBIQBWfSqiNrT8Mpw    19.953\n",
              "6207ec389a7947de34486e9fJngsbvnSQhywFHQtJ5_dqw    20.990\n",
              "627a88cf9a794743f350b797rqkVJ5DxRMSUQ-Pj95Q4pQ    22.302\n",
              "623d82d29a79474e326594ffTcc_fQf3S5KhFDSwStipLA    39.877\n",
              "Name: ctr, Length: 7000, dtype: float64"
            ]
          },
          "metadata": {},
          "execution_count": 62
        }
      ]
    },
    {
      "cell_type": "code",
      "source": [
        "# Перед нормированием переводим в формат numpy и корректируем форму данных перед подачей в нормировщик.\n",
        "xTrain_ctr = np.array(df_train['ctr']).reshape(-1, 1)    \n",
        "xTrain_ctr.shape"
      ],
      "metadata": {
        "colab": {
          "base_uri": "https://localhost:8080/"
        },
        "id": "c33eQkNOCPMo",
        "outputId": "ed9a5e4f-bdfb-438d-c206-27c50b28c124"
      },
      "execution_count": null,
      "outputs": [
        {
          "output_type": "execute_result",
          "data": {
            "text/plain": [
              "(7000, 1)"
            ]
          },
          "metadata": {},
          "execution_count": 63
        }
      ]
    },
    {
      "cell_type": "code",
      "source": [
        "xCtrScaler = MinMaxScaler()  \n",
        "\n",
        "xCtrScaler.fit(xTrain_ctr)       # Тренируем нормировщик\n",
        "\n",
        "xTrain_ctr_Scalered = xCtrScaler.transform(xTrain_ctr)     # Переводим данные в нормированную форму с помощью нормировщика"
      ],
      "metadata": {
        "id": "hvj-zAOdCuer"
      },
      "execution_count": null,
      "outputs": []
    },
    {
      "cell_type": "code",
      "source": [
        "xTrain_ctr_Scalered.shape"
      ],
      "metadata": {
        "colab": {
          "base_uri": "https://localhost:8080/"
        },
        "id": "vPYSEpNJDMRF",
        "outputId": "0797d711-59ef-49e7-fdb7-9e3d643f6200"
      },
      "execution_count": null,
      "outputs": [
        {
          "output_type": "execute_result",
          "data": {
            "text/plain": [
              "(7000, 1)"
            ]
          },
          "metadata": {},
          "execution_count": 65
        }
      ]
    },
    {
      "cell_type": "markdown",
      "source": [
        "# Добавляем в набор данных для обучения CTR и пробуем делать и обучать сеть."
      ],
      "metadata": {
        "id": "3f4Eb7RoIOY7"
      }
    },
    {
      "cell_type": "markdown",
      "source": [
        "Теперь входящие данные: информация о дате и времени публикации и CTR."
      ],
      "metadata": {
        "id": "bzYr_JEKIbqJ"
      }
    },
    {
      "cell_type": "code",
      "source": [
        "xTrain_Date_CTR = np.concatenate ( (Scalered_Train_Publish_Date, xTrain_ctr_Scalered), axis=1)\n"
      ],
      "metadata": {
        "id": "fOtL6l2TIas5"
      },
      "execution_count": null,
      "outputs": []
    },
    {
      "cell_type": "code",
      "source": [
        "xTrain_Date_CTR.shape"
      ],
      "metadata": {
        "colab": {
          "base_uri": "https://localhost:8080/"
        },
        "id": "aiXIV-cjWdvr",
        "outputId": "c611e594-afc9-4c58-ea1e-0f10b7cb7da2"
      },
      "execution_count": null,
      "outputs": [
        {
          "output_type": "execute_result",
          "data": {
            "text/plain": [
              "(7000, 6)"
            ]
          },
          "metadata": {},
          "execution_count": 67
        }
      ]
    },
    {
      "cell_type": "code",
      "source": [
        "# test_size=0.2 - будет выделено 20% от тренировочных данных \n",
        "# shuffle=True - перемешать данные\n",
        "# x_train - данные для обучения\n",
        "# x_test - данные для проверки\n",
        "# y_train - правильные ответы для обучения\n",
        "# y_test - правильные ответы для проверки\n",
        "x_train, x_test, y_train, y_test = train_test_split(xTrain_Date_CTR, yTrainScalered, test_size=0.2, shuffle=True)"
      ],
      "metadata": {
        "id": "f0zz0rOdV4OZ"
      },
      "execution_count": null,
      "outputs": []
    },
    {
      "cell_type": "code",
      "source": [
        "#Создаём нейронку\n",
        "model_3 = Sequential()\n",
        "model_3.add(Dense(350, input_dim=6, activation=\"relu\"))\n",
        "model_3.add(Dense(150, activation=\"relu\"))\n",
        "model_3.add(Dense(3, activation='sigmoid'))"
      ],
      "metadata": {
        "id": "ZBJNltNNWyMf"
      },
      "execution_count": null,
      "outputs": []
    },
    {
      "cell_type": "code",
      "source": [
        "model_3.compile(optimizer=Adam(learning_rate=1e-4), \n",
        "              loss='mae', \n",
        "              metrics=['accuracy'])"
      ],
      "metadata": {
        "id": "7ynfQrd9W5yC"
      },
      "execution_count": null,
      "outputs": []
    },
    {
      "cell_type": "code",
      "source": [
        "model_3.summary()\n",
        "plot_model(model_3, dpi=70, show_shapes=True)"
      ],
      "metadata": {
        "colab": {
          "base_uri": "https://localhost:8080/",
          "height": 600
        },
        "id": "pFpLHkbHW_Ry",
        "outputId": "74309ab0-5d43-4f33-9288-391c090e3337"
      },
      "execution_count": null,
      "outputs": [
        {
          "output_type": "stream",
          "name": "stdout",
          "text": [
            "Model: \"sequential_2\"\n",
            "_________________________________________________________________\n",
            " Layer (type)                Output Shape              Param #   \n",
            "=================================================================\n",
            " dense_7 (Dense)             (None, 350)               2450      \n",
            "                                                                 \n",
            " dense_8 (Dense)             (None, 150)               52650     \n",
            "                                                                 \n",
            " dense_9 (Dense)             (None, 3)                 453       \n",
            "                                                                 \n",
            "=================================================================\n",
            "Total params: 55,553\n",
            "Trainable params: 55,553\n",
            "Non-trainable params: 0\n",
            "_________________________________________________________________\n"
          ]
        },
        {
          "output_type": "execute_result",
          "data": {
            "text/plain": [
              "<IPython.core.display.Image object>"
            ],
            "image/png": "[encoded data removed]"
          },
          "metadata": {},
          "execution_count": 71
        }
      ]
    },
    {
      "cell_type": "code",
      "source": [
        "# history = model_3.fit(x_train, \n",
        "#                       y_train, \n",
        "#                       epochs=200,\n",
        "#                       batch_size=20,\n",
        "#                       validation_data=(x_test, y_test))"
      ],
      "metadata": {
        "id": "6MSh7psRXHTL"
      },
      "execution_count": null,
      "outputs": []
    },
    {
      "cell_type": "code",
      "source": [
        "#Выводим графики\n",
        "\n",
        "# plt.plot(history.history['loss'], \n",
        "#          label='Средняя абсолютная ошибка на обучающем наборе')\n",
        "# plt.plot(history.history['val_loss'], \n",
        "#          label='Средняя абсолютная ошибка на проверочном наборе')\n",
        "# plt.ylabel('Средняя ошибка')\n",
        "# plt.legend()\n",
        "# plt.show()"
      ],
      "metadata": {
        "id": "nmExMTF5XoVE"
      },
      "execution_count": null,
      "outputs": []
    },
    {
      "cell_type": "markdown",
      "source": [
        "# Готовим столбец Category"
      ],
      "metadata": {
        "id": "o38Xz0tuZfy8"
      }
    },
    {
      "cell_type": "code",
      "source": [
        "df_train['category'].nunique()"
      ],
      "metadata": {
        "colab": {
          "base_uri": "https://localhost:8080/"
        },
        "id": "Rh9__7IyKC8q",
        "outputId": "8a885ce7-e9d2-470a-e1cb-ee10027f6001"
      },
      "execution_count": null,
      "outputs": [
        {
          "output_type": "execute_result",
          "data": {
            "text/plain": [
              "9"
            ]
          },
          "metadata": {},
          "execution_count": 74
        }
      ]
    },
    {
      "cell_type": "code",
      "source": [
        "maxCategoryCount = 10   # Определяем максимальное количество категорий\n",
        "\n",
        "category_tokenizer = Tokenizer(num_words=maxCategoryCount, \n",
        "                               oov_token='unknown', \n",
        "                               char_level=False)"
      ],
      "metadata": {
        "id": "QXCIbQORlfv_"
      },
      "execution_count": null,
      "outputs": []
    },
    {
      "cell_type": "code",
      "source": [
        "category_tokenizer.fit_on_texts(df_train['category']) # \"Скармливаем\" категории, т.е. даём в обработку методу, который соберет словарь частотности\n",
        "\n",
        "items = list(category_tokenizer.word_index.items()) # Вытаскиваем индексы слов для просмотра (по сути, это словарь частотности слов)"
      ],
      "metadata": {
        "id": "2xhbfRGlF_MJ"
      },
      "execution_count": null,
      "outputs": []
    },
    {
      "cell_type": "code",
      "source": [
        "items[:20]      # Смотрим 20 самых популярных слов частотного словаря"
      ],
      "metadata": {
        "colab": {
          "base_uri": "https://localhost:8080/"
        },
        "id": "uNXyLa90GsIW",
        "outputId": "323ac94b-a8ed-42d5-bfd3-6c2aed1364e5"
      },
      "execution_count": null,
      "outputs": [
        {
          "output_type": "execute_result",
          "data": {
            "text/plain": [
              "[('unknown', 1),\n",
              " ('5409f11ce063da9c8b588a12', 2),\n",
              " ('5433e5decbb20f277b20eca9', 3),\n",
              " ('540d5eafcbb20f2524fc0509', 4),\n",
              " ('5409f11ce063da9c8b588a13', 5),\n",
              " ('540d5ecacbb20f2524fc050a', 6),\n",
              " ('5409f11ce063da9c8b588a18', 7),\n",
              " ('5e54e2089a7947f63a801742', 8),\n",
              " ('552e430f9a79475dd957f8b3', 9),\n",
              " ('5e54e22a9a7947f560081ea2', 10)]"
            ]
          },
          "metadata": {},
          "execution_count": 77
        }
      ]
    },
    {
      "cell_type": "code",
      "source": [
        "# Преобразовываем текст в последовательность индексов согласно частотному словарю\n",
        "\n",
        "train_category = []\n",
        "\n",
        "train_category = category_tokenizer.texts_to_sequences(df_train['category'])"
      ],
      "metadata": {
        "id": "boHxVYNnHRLu"
      },
      "execution_count": null,
      "outputs": []
    },
    {
      "cell_type": "code",
      "source": [
        "len(train_category)"
      ],
      "metadata": {
        "colab": {
          "base_uri": "https://localhost:8080/"
        },
        "id": "iOUy_p2pHsBG",
        "outputId": "9164a894-9a0c-4745-bd66-899da53ad792"
      },
      "execution_count": null,
      "outputs": [
        {
          "output_type": "execute_result",
          "data": {
            "text/plain": [
              "7000"
            ]
          },
          "metadata": {},
          "execution_count": 79
        }
      ]
    },
    {
      "cell_type": "code",
      "source": [
        "xTrain_category = category_tokenizer.sequences_to_matrix(train_category)"
      ],
      "metadata": {
        "id": "Xas18pYGIHSC"
      },
      "execution_count": null,
      "outputs": []
    },
    {
      "cell_type": "code",
      "source": [
        "xTrain_category.shape"
      ],
      "metadata": {
        "colab": {
          "base_uri": "https://localhost:8080/"
        },
        "id": "SFxZcRYtIVR4",
        "outputId": "95bd9c04-0bc2-4f70-90bb-d4f5014955a7"
      },
      "execution_count": null,
      "outputs": [
        {
          "output_type": "execute_result",
          "data": {
            "text/plain": [
              "(7000, 10)"
            ]
          },
          "metadata": {},
          "execution_count": 81
        }
      ]
    },
    {
      "cell_type": "code",
      "source": [
        "xTrain_category.sum()"
      ],
      "metadata": {
        "colab": {
          "base_uri": "https://localhost:8080/"
        },
        "id": "UbBzelDgI77n",
        "outputId": "e2b21384-1de3-4945-f7d3-c066e3acc75f"
      },
      "execution_count": null,
      "outputs": [
        {
          "output_type": "execute_result",
          "data": {
            "text/plain": [
              "7000.0"
            ]
          },
          "metadata": {},
          "execution_count": 82
        }
      ]
    },
    {
      "cell_type": "markdown",
      "source": [
        "# Готовим столбец с авторами"
      ],
      "metadata": {
        "id": "S7R-0QMhJHxs"
      }
    },
    {
      "cell_type": "code",
      "source": [
        "maxAuthorsCount = 102   # Определяем максимальное количество найденных авторов\n",
        "                        # Устанавливаем значения на 1 больше, для неопределенных авторов из тестового набора\n",
        "\n",
        "authors_tokenizer = Tokenizer(num_words=maxAuthorsCount, \n",
        "                              oov_token='unknown', \n",
        "                              char_level=False)"
      ],
      "metadata": {
        "id": "BH7zJrxTJMLw"
      },
      "execution_count": null,
      "outputs": []
    },
    {
      "cell_type": "code",
      "source": [
        "authors_tokenizer.fit_on_texts(df_train['authors']) # \"Скармливаем\" авторов, т.е. даём в обработку методу, который соберет словарь частотности\n",
        "\n",
        "items = list(authors_tokenizer.word_index.items()) # Вытаскиваем индексы слов для просмотра (по сути, это словарь частотности слов)"
      ],
      "metadata": {
        "id": "MQcp2yVPKnKw"
      },
      "execution_count": null,
      "outputs": []
    },
    {
      "cell_type": "code",
      "source": [
        "len(items)"
      ],
      "metadata": {
        "colab": {
          "base_uri": "https://localhost:8080/"
        },
        "id": "khq7zyc4LHs-",
        "outputId": "36fd4844-3e99-4c9d-920f-0f4c3ef4c527"
      },
      "execution_count": null,
      "outputs": [
        {
          "output_type": "execute_result",
          "data": {
            "text/plain": [
              "101"
            ]
          },
          "metadata": {},
          "execution_count": 85
        }
      ]
    },
    {
      "cell_type": "code",
      "source": [
        "items[:20]      # Смотрим 20 самых популярных слов частотного словаря"
      ],
      "metadata": {
        "colab": {
          "base_uri": "https://localhost:8080/"
        },
        "id": "dhvnLIn-OVY6",
        "outputId": "3de7188b-8088-4107-c50e-610cdb216b65"
      },
      "execution_count": null,
      "outputs": [
        {
          "output_type": "execute_result",
          "data": {
            "text/plain": [
              "[('unknown', 1),\n",
              " (\"'604f2c199a79478ec0029eae'\", 2),\n",
              " (\"'619226fb9a7947e681606cc3'\", 3),\n",
              " (\"'60bf2f0f9a79475cc856c5a1'\", 4),\n",
              " (\"'5a9fa2e39a79470cd086f61a'\", 5),\n",
              " (\"'5bfd1d039a794755995093f8'\", 6),\n",
              " (\"'5e1ddee09a7947609de2f69b'\", 7),\n",
              " (\"'5a8d11a39a7947c5e1550980'\", 8),\n",
              " (\"'5edf68259a79470758e7ab2d'\", 9),\n",
              " (\"'6130a7379a79472aeb4546e3'\", 10),\n",
              " (\"'5b4c70ae9a79472e05ca3037'\", 11),\n",
              " (\"'57f797ee9a7947a5681d187e'\", 12),\n",
              " (\"'6206513e9a79476587e1e14e'\", 13),\n",
              " (\"'60fa94ed9a7947b7152c986a'\", 14),\n",
              " (\"'61309cc39a7947257ab1d378'\", 15),\n",
              " (\"'5e4663219a794736af922488'\", 16),\n",
              " (\"'54244e01cbb20f03076b236d'\", 17),\n",
              " (\"'5878a2ec9a7947e531faf52c'\", 18),\n",
              " (\"'61811d649a7947d02fdf5d95'\", 19),\n",
              " (\"'54254690cbb20fa485b88cc9'\", 20)]"
            ]
          },
          "metadata": {},
          "execution_count": 86
        }
      ]
    },
    {
      "cell_type": "code",
      "source": [
        "# Преобразовываем текст в последовательность индексов согласно частотному словарю\n",
        "\n",
        "train_authors = []\n",
        "\n",
        "train_authors = authors_tokenizer.texts_to_sequences(df_train['authors'])"
      ],
      "metadata": {
        "id": "7lkqoehsOzU4"
      },
      "execution_count": null,
      "outputs": []
    },
    {
      "cell_type": "code",
      "source": [
        "len(train_authors)"
      ],
      "metadata": {
        "colab": {
          "base_uri": "https://localhost:8080/"
        },
        "id": "OP9jEVL1PGnW",
        "outputId": "07f8bd11-7797-4cfe-cde7-f2c48114bc49"
      },
      "execution_count": null,
      "outputs": [
        {
          "output_type": "execute_result",
          "data": {
            "text/plain": [
              "7000"
            ]
          },
          "metadata": {},
          "execution_count": 88
        }
      ]
    },
    {
      "cell_type": "code",
      "source": [
        "xTrain_authors = authors_tokenizer.sequences_to_matrix(train_authors)"
      ],
      "metadata": {
        "id": "PNhs7ElMPVaV"
      },
      "execution_count": null,
      "outputs": []
    },
    {
      "cell_type": "code",
      "source": [
        "xTrain_authors.shape"
      ],
      "metadata": {
        "colab": {
          "base_uri": "https://localhost:8080/"
        },
        "id": "P8X9I3aGPj9I",
        "outputId": "cc3ea46e-4360-431f-bfa9-0fa570c583c0"
      },
      "execution_count": null,
      "outputs": [
        {
          "output_type": "execute_result",
          "data": {
            "text/plain": [
              "(7000, 102)"
            ]
          },
          "metadata": {},
          "execution_count": 90
        }
      ]
    },
    {
      "cell_type": "code",
      "source": [
        "xTrain_authors.sum()"
      ],
      "metadata": {
        "colab": {
          "base_uri": "https://localhost:8080/"
        },
        "id": "-AzLxrK6Ptqq",
        "outputId": "cf73ee1e-fcb1-494a-cade-59834acda652"
      },
      "execution_count": 92,
      "outputs": [
        {
          "output_type": "execute_result",
          "data": {
            "text/plain": [
              "5008.0"
            ]
          },
          "metadata": {},
          "execution_count": 92
        }
      ]
    },
    {
      "cell_type": "markdown",
      "source": [
        "# Объединяем все обработанные данные в один массив"
      ],
      "metadata": {
        "id": "LEBV7IzSQT3N"
      }
    },
    {
      "cell_type": "markdown",
      "source": [
        "После осмотра дата-сета решаем столбцы tag, sessions не использовать в обучении и дальнейшей работе."
      ],
      "metadata": {
        "id": "fDRVXMWvQe9A"
      }
    },
    {
      "cell_type": "code",
      "source": [
        "xTrain_main = np.concatenate ( (Scalered_Train_Publish_Date,\n",
        "                                xTrain_ctr_Scalered, \n",
        "                                xTrain_category,\n",
        "                                xTrain_authors), axis=1)"
      ],
      "metadata": {
        "id": "70yO9f28Q40Z"
      },
      "execution_count": 93,
      "outputs": []
    },
    {
      "cell_type": "code",
      "source": [
        "xTrain_main.shape"
      ],
      "metadata": {
        "colab": {
          "base_uri": "https://localhost:8080/"
        },
        "id": "Zp0VyNk1TMnm",
        "outputId": "464cfdc2-28f6-46fb-b788-818df6e5b2d3"
      },
      "execution_count": 94,
      "outputs": [
        {
          "output_type": "execute_result",
          "data": {
            "text/plain": [
              "(7000, 118)"
            ]
          },
          "metadata": {},
          "execution_count": 94
        }
      ]
    },
    {
      "cell_type": "markdown",
      "source": [
        "# Делаем сеть для тренировки на всех цифровых данных (без столбца title)"
      ],
      "metadata": {
        "id": "Drmpx0xhTgtB"
      }
    },
    {
      "cell_type": "code",
      "source": [
        "# test_size=0.2 - будет выделено 20% от тренировочных данных \n",
        "# shuffle=True - перемешать данные\n",
        "# x_train - данные для обучения\n",
        "# x_test - данные для проверки\n",
        "# y_train - правильные ответы для обучения\n",
        "# y_test - правильные ответы для проверки\n",
        "x_train, x_test, y_train, y_test = train_test_split(xTrain_main, yTrainScalered, test_size=0.2, shuffle=True)"
      ],
      "metadata": {
        "id": "jE9eMPUmTqSh"
      },
      "execution_count": 96,
      "outputs": []
    },
    {
      "cell_type": "code",
      "source": [
        "#Создаём нейронку\n",
        "model_4 = Sequential()\n",
        "model_4.add(Dense(350, input_dim=118, activation=\"relu\"))\n",
        "model_4.add(Dense(150, activation=\"relu\"))\n",
        "model_4.add(Dense(3, activation='sigmoid'))"
      ],
      "metadata": {
        "id": "umFjy342UN8N"
      },
      "execution_count": 97,
      "outputs": []
    },
    {
      "cell_type": "code",
      "source": [
        "model_4.compile(optimizer=Adam(learning_rate=1e-4), \n",
        "              loss='mae', \n",
        "              metrics=['accuracy'])"
      ],
      "metadata": {
        "id": "Z_3TBqrkUfMa"
      },
      "execution_count": 98,
      "outputs": []
    },
    {
      "cell_type": "code",
      "source": [
        "model_4.summary()\n",
        "plot_model(model_4, dpi=70, show_shapes=True)"
      ],
      "metadata": {
        "colab": {
          "base_uri": "https://localhost:8080/",
          "height": 600
        },
        "id": "wuPSsjjoUjZ7",
        "outputId": "9b7e5320-cae0-4d46-deca-f009b8d5812a"
      },
      "execution_count": 99,
      "outputs": [
        {
          "output_type": "stream",
          "name": "stdout",
          "text": [
            "Model: \"sequential_3\"\n",
            "_________________________________________________________________\n",
            " Layer (type)                Output Shape              Param #   \n",
            "=================================================================\n",
            " dense_10 (Dense)            (None, 350)               41650     \n",
            "                                                                 \n",
            " dense_11 (Dense)            (None, 150)               52650     \n",
            "                                                                 \n",
            " dense_12 (Dense)            (None, 3)                 453       \n",
            "                                                                 \n",
            "=================================================================\n",
            "Total params: 94,753\n",
            "Trainable params: 94,753\n",
            "Non-trainable params: 0\n",
            "_________________________________________________________________\n"
          ]
        },
        {
          "output_type": "execute_result",
          "data": {
            "text/plain": [
              "<IPython.core.display.Image object>"
            ],
            "image/png": "[encoded data removed]"
          },
          "metadata": {},
          "execution_count": 99
        }
      ]
    },
    {
      "cell_type": "code",
      "source": [
        "# history = model_4.fit(x_train, \n",
        "#                       y_train, \n",
        "#                       epochs=200,\n",
        "#                       batch_size=5,\n",
        "#                       validation_data=(x_test, y_test))"
      ],
      "metadata": {
        "colab": {
          "base_uri": "https://localhost:8080/"
        },
        "id": "anV6jrekUrcj",
        "outputId": "fa9cd131-959a-4e96-b213-41c0da5686b1"
      },
      "execution_count": 102,
      "outputs": [
        {
          "output_type": "stream",
          "name": "stdout",
          "text": [
            "Epoch 1/200\n",
            "1120/1120 [==============================] - 6s 5ms/step - loss: 0.5299 - accuracy: 0.5718 - val_loss: 0.5650 - val_accuracy: 0.5464\n",
            "Epoch 2/200\n",
            "1120/1120 [==============================] - 4s 3ms/step - loss: 0.5289 - accuracy: 0.5730 - val_loss: 0.5667 - val_accuracy: 0.5464\n",
            "Epoch 3/200\n",
            "1120/1120 [==============================] - 4s 3ms/step - loss: 0.5282 - accuracy: 0.5743 - val_loss: 0.5658 - val_accuracy: 0.5457\n",
            "Epoch 4/200\n",
            "1120/1120 [==============================] - 4s 3ms/step - loss: 0.5281 - accuracy: 0.5721 - val_loss: 0.5647 - val_accuracy: 0.5486\n",
            "Epoch 5/200\n",
            "1120/1120 [==============================] - 4s 3ms/step - loss: 0.5283 - accuracy: 0.5750 - val_loss: 0.5674 - val_accuracy: 0.5500\n",
            "Epoch 6/200\n",
            "1120/1120 [==============================] - 4s 3ms/step - loss: 0.5279 - accuracy: 0.5736 - val_loss: 0.5659 - val_accuracy: 0.5457\n",
            "Epoch 7/200\n",
            "1120/1120 [==============================] - 6s 5ms/step - loss: 0.5276 - accuracy: 0.5734 - val_loss: 0.5662 - val_accuracy: 0.5457\n",
            "Epoch 8/200\n",
            "1120/1120 [==============================] - 4s 3ms/step - loss: 0.5279 - accuracy: 0.5721 - val_loss: 0.5655 - val_accuracy: 0.5486\n",
            "Epoch 9/200\n",
            "1120/1120 [==============================] - 4s 3ms/step - loss: 0.5275 - accuracy: 0.5721 - val_loss: 0.5639 - val_accuracy: 0.5436\n",
            "Epoch 10/200\n",
            "1120/1120 [==============================] - 4s 4ms/step - loss: 0.5279 - accuracy: 0.5754 - val_loss: 0.5656 - val_accuracy: 0.5464\n",
            "Epoch 11/200\n",
            "1120/1120 [==============================] - 4s 3ms/step - loss: 0.5273 - accuracy: 0.5725 - val_loss: 0.5661 - val_accuracy: 0.5464\n",
            "Epoch 12/200\n",
            "1120/1120 [==============================] - 4s 3ms/step - loss: 0.5276 - accuracy: 0.5743 - val_loss: 0.5656 - val_accuracy: 0.5464\n",
            "Epoch 13/200\n",
            "1120/1120 [==============================] - 4s 3ms/step - loss: 0.5274 - accuracy: 0.5716 - val_loss: 0.5651 - val_accuracy: 0.5464\n",
            "Epoch 14/200\n",
            "1120/1120 [==============================] - 4s 3ms/step - loss: 0.5274 - accuracy: 0.5734 - val_loss: 0.5664 - val_accuracy: 0.5464\n",
            "Epoch 15/200\n",
            "1120/1120 [==============================] - 4s 3ms/step - loss: 0.5272 - accuracy: 0.5732 - val_loss: 0.5652 - val_accuracy: 0.5479\n",
            "Epoch 16/200\n",
            "1120/1120 [==============================] - 4s 3ms/step - loss: 0.5270 - accuracy: 0.5743 - val_loss: 0.5655 - val_accuracy: 0.5450\n",
            "Epoch 17/200\n",
            "1120/1120 [==============================] - 4s 3ms/step - loss: 0.5270 - accuracy: 0.5754 - val_loss: 0.5657 - val_accuracy: 0.5486\n",
            "Epoch 18/200\n",
            "1120/1120 [==============================] - 4s 3ms/step - loss: 0.5267 - accuracy: 0.5729 - val_loss: 0.5648 - val_accuracy: 0.5479\n",
            "Epoch 19/200\n",
            "1120/1120 [==============================] - 4s 3ms/step - loss: 0.5269 - accuracy: 0.5771 - val_loss: 0.5647 - val_accuracy: 0.5479\n",
            "Epoch 20/200\n",
            "1120/1120 [==============================] - 4s 3ms/step - loss: 0.5265 - accuracy: 0.5736 - val_loss: 0.5653 - val_accuracy: 0.5486\n",
            "Epoch 21/200\n",
            "1120/1120 [==============================] - 4s 3ms/step - loss: 0.5267 - accuracy: 0.5763 - val_loss: 0.5646 - val_accuracy: 0.5479\n",
            "Epoch 22/200\n",
            "1120/1120 [==============================] - 4s 3ms/step - loss: 0.5263 - accuracy: 0.5757 - val_loss: 0.5650 - val_accuracy: 0.5471\n",
            "Epoch 23/200\n",
            "1120/1120 [==============================] - 3s 3ms/step - loss: 0.5265 - accuracy: 0.5754 - val_loss: 0.5656 - val_accuracy: 0.5471\n",
            "Epoch 24/200\n",
            "1120/1120 [==============================] - 4s 3ms/step - loss: 0.5261 - accuracy: 0.5738 - val_loss: 0.5651 - val_accuracy: 0.5464\n",
            "Epoch 25/200\n",
            "1120/1120 [==============================] - 4s 3ms/step - loss: 0.5258 - accuracy: 0.5757 - val_loss: 0.5662 - val_accuracy: 0.5464\n",
            "Epoch 26/200\n",
            "1120/1120 [==============================] - 4s 3ms/step - loss: 0.5261 - accuracy: 0.5734 - val_loss: 0.5657 - val_accuracy: 0.5514\n",
            "Epoch 27/200\n",
            "1120/1120 [==============================] - 4s 3ms/step - loss: 0.5261 - accuracy: 0.5757 - val_loss: 0.5678 - val_accuracy: 0.5450\n",
            "Epoch 28/200\n",
            "1120/1120 [==============================] - 4s 3ms/step - loss: 0.5259 - accuracy: 0.5741 - val_loss: 0.5647 - val_accuracy: 0.5436\n",
            "Epoch 29/200\n",
            "1120/1120 [==============================] - 4s 3ms/step - loss: 0.5257 - accuracy: 0.5752 - val_loss: 0.5659 - val_accuracy: 0.5414\n",
            "Epoch 30/200\n",
            "1120/1120 [==============================] - 4s 3ms/step - loss: 0.5256 - accuracy: 0.5752 - val_loss: 0.5644 - val_accuracy: 0.5450\n",
            "Epoch 31/200\n",
            "1120/1120 [==============================] - 4s 3ms/step - loss: 0.5257 - accuracy: 0.5745 - val_loss: 0.5655 - val_accuracy: 0.5450\n",
            "Epoch 32/200\n",
            "1120/1120 [==============================] - 4s 3ms/step - loss: 0.5256 - accuracy: 0.5746 - val_loss: 0.5662 - val_accuracy: 0.5450\n",
            "Epoch 33/200\n",
            "1120/1120 [==============================] - 3s 3ms/step - loss: 0.5254 - accuracy: 0.5743 - val_loss: 0.5651 - val_accuracy: 0.5479\n",
            "Epoch 34/200\n",
            "1120/1120 [==============================] - 4s 3ms/step - loss: 0.5251 - accuracy: 0.5771 - val_loss: 0.5688 - val_accuracy: 0.5521\n",
            "Epoch 35/200\n",
            "1120/1120 [==============================] - 4s 3ms/step - loss: 0.5253 - accuracy: 0.5759 - val_loss: 0.5658 - val_accuracy: 0.5507\n",
            "Epoch 36/200\n",
            "1120/1120 [==============================] - 4s 3ms/step - loss: 0.5252 - accuracy: 0.5738 - val_loss: 0.5654 - val_accuracy: 0.5543\n",
            "Epoch 37/200\n",
            "1120/1120 [==============================] - 4s 3ms/step - loss: 0.5250 - accuracy: 0.5745 - val_loss: 0.5667 - val_accuracy: 0.5514\n",
            "Epoch 38/200\n",
            "1120/1120 [==============================] - 4s 3ms/step - loss: 0.5251 - accuracy: 0.5743 - val_loss: 0.5662 - val_accuracy: 0.5479\n",
            "Epoch 39/200\n",
            "1120/1120 [==============================] - 4s 3ms/step - loss: 0.5250 - accuracy: 0.5763 - val_loss: 0.5642 - val_accuracy: 0.5471\n",
            "Epoch 40/200\n",
            "1120/1120 [==============================] - 4s 4ms/step - loss: 0.5249 - accuracy: 0.5746 - val_loss: 0.5654 - val_accuracy: 0.5486\n",
            "Epoch 41/200\n",
            "1120/1120 [==============================] - 4s 3ms/step - loss: 0.5247 - accuracy: 0.5768 - val_loss: 0.5651 - val_accuracy: 0.5486\n",
            "Epoch 42/200\n",
            "1120/1120 [==============================] - 4s 3ms/step - loss: 0.5246 - accuracy: 0.5748 - val_loss: 0.5658 - val_accuracy: 0.5493\n",
            "Epoch 43/200\n",
            "1120/1120 [==============================] - 4s 3ms/step - loss: 0.5244 - accuracy: 0.5738 - val_loss: 0.5669 - val_accuracy: 0.5464\n",
            "Epoch 44/200\n",
            "1120/1120 [==============================] - 4s 3ms/step - loss: 0.5245 - accuracy: 0.5738 - val_loss: 0.5644 - val_accuracy: 0.5464\n",
            "Epoch 45/200\n",
            "1120/1120 [==============================] - 4s 3ms/step - loss: 0.5244 - accuracy: 0.5745 - val_loss: 0.5661 - val_accuracy: 0.5486\n",
            "Epoch 46/200\n",
            "1120/1120 [==============================] - 4s 3ms/step - loss: 0.5243 - accuracy: 0.5752 - val_loss: 0.5656 - val_accuracy: 0.5464\n",
            "Epoch 47/200\n",
            "1120/1120 [==============================] - 4s 3ms/step - loss: 0.5238 - accuracy: 0.5738 - val_loss: 0.5655 - val_accuracy: 0.5464\n",
            "Epoch 48/200\n",
            "1120/1120 [==============================] - 4s 3ms/step - loss: 0.5242 - accuracy: 0.5750 - val_loss: 0.5660 - val_accuracy: 0.5493\n",
            "Epoch 49/200\n",
            "1120/1120 [==============================] - 4s 3ms/step - loss: 0.5239 - accuracy: 0.5725 - val_loss: 0.5646 - val_accuracy: 0.5486\n",
            "Epoch 50/200\n",
            "1120/1120 [==============================] - 4s 3ms/step - loss: 0.5235 - accuracy: 0.5766 - val_loss: 0.5644 - val_accuracy: 0.5457\n",
            "Epoch 51/200\n",
            "1120/1120 [==============================] - 4s 3ms/step - loss: 0.5238 - accuracy: 0.5770 - val_loss: 0.5666 - val_accuracy: 0.5507\n",
            "Epoch 52/200\n",
            "1120/1120 [==============================] - 4s 3ms/step - loss: 0.5238 - accuracy: 0.5754 - val_loss: 0.5638 - val_accuracy: 0.5493\n",
            "Epoch 53/200\n",
            "1120/1120 [==============================] - 4s 3ms/step - loss: 0.5233 - accuracy: 0.5754 - val_loss: 0.5654 - val_accuracy: 0.5471\n",
            "Epoch 54/200\n",
            "1120/1120 [==============================] - 4s 3ms/step - loss: 0.5233 - accuracy: 0.5748 - val_loss: 0.5648 - val_accuracy: 0.5493\n",
            "Epoch 55/200\n",
            "1120/1120 [==============================] - 4s 3ms/step - loss: 0.5232 - accuracy: 0.5748 - val_loss: 0.5645 - val_accuracy: 0.5457\n",
            "Epoch 56/200\n",
            "1120/1120 [==============================] - 4s 3ms/step - loss: 0.5233 - accuracy: 0.5746 - val_loss: 0.5656 - val_accuracy: 0.5500\n",
            "Epoch 57/200\n",
            "1120/1120 [==============================] - 4s 3ms/step - loss: 0.5234 - accuracy: 0.5757 - val_loss: 0.5682 - val_accuracy: 0.5507\n",
            "Epoch 58/200\n",
            "1120/1120 [==============================] - 4s 3ms/step - loss: 0.5230 - accuracy: 0.5761 - val_loss: 0.5646 - val_accuracy: 0.5521\n",
            "Epoch 59/200\n",
            "1120/1120 [==============================] - 4s 3ms/step - loss: 0.5228 - accuracy: 0.5755 - val_loss: 0.5645 - val_accuracy: 0.5493\n",
            "Epoch 60/200\n",
            "1120/1120 [==============================] - 5s 5ms/step - loss: 0.5224 - accuracy: 0.5745 - val_loss: 0.5671 - val_accuracy: 0.5507\n",
            "Epoch 61/200\n",
            "1120/1120 [==============================] - 4s 4ms/step - loss: 0.5227 - accuracy: 0.5741 - val_loss: 0.5656 - val_accuracy: 0.5514\n",
            "Epoch 62/200\n",
            "1120/1120 [==============================] - 4s 3ms/step - loss: 0.5226 - accuracy: 0.5739 - val_loss: 0.5663 - val_accuracy: 0.5507\n",
            "Epoch 63/200\n",
            "1120/1120 [==============================] - 4s 3ms/step - loss: 0.5228 - accuracy: 0.5759 - val_loss: 0.5665 - val_accuracy: 0.5514\n",
            "Epoch 64/200\n",
            "1120/1120 [==============================] - 4s 3ms/step - loss: 0.5224 - accuracy: 0.5734 - val_loss: 0.5652 - val_accuracy: 0.5479\n",
            "Epoch 65/200\n",
            "1120/1120 [==============================] - 4s 3ms/step - loss: 0.5222 - accuracy: 0.5736 - val_loss: 0.5659 - val_accuracy: 0.5493\n",
            "Epoch 66/200\n",
            "1120/1120 [==============================] - 4s 3ms/step - loss: 0.5226 - accuracy: 0.5759 - val_loss: 0.5656 - val_accuracy: 0.5507\n",
            "Epoch 67/200\n",
            "1120/1120 [==============================] - 4s 3ms/step - loss: 0.5220 - accuracy: 0.5741 - val_loss: 0.5659 - val_accuracy: 0.5493\n",
            "Epoch 68/200\n",
            "1120/1120 [==============================] - 6s 5ms/step - loss: 0.5220 - accuracy: 0.5750 - val_loss: 0.5664 - val_accuracy: 0.5486\n",
            "Epoch 69/200\n",
            "1120/1120 [==============================] - 4s 4ms/step - loss: 0.5219 - accuracy: 0.5759 - val_loss: 0.5654 - val_accuracy: 0.5471\n",
            "Epoch 70/200\n",
            "1120/1120 [==============================] - 4s 3ms/step - loss: 0.5216 - accuracy: 0.5770 - val_loss: 0.5657 - val_accuracy: 0.5507\n",
            "Epoch 71/200\n",
            "1120/1120 [==============================] - 4s 3ms/step - loss: 0.5221 - accuracy: 0.5746 - val_loss: 0.5659 - val_accuracy: 0.5507\n",
            "Epoch 72/200\n",
            "1120/1120 [==============================] - 3s 3ms/step - loss: 0.5218 - accuracy: 0.5759 - val_loss: 0.5653 - val_accuracy: 0.5493\n",
            "Epoch 73/200\n",
            "1120/1120 [==============================] - 3s 3ms/step - loss: 0.5217 - accuracy: 0.5754 - val_loss: 0.5649 - val_accuracy: 0.5464\n",
            "Epoch 74/200\n",
            "1120/1120 [==============================] - 4s 3ms/step - loss: 0.5218 - accuracy: 0.5743 - val_loss: 0.5661 - val_accuracy: 0.5493\n",
            "Epoch 75/200\n",
            "1120/1120 [==============================] - 4s 3ms/step - loss: 0.5214 - accuracy: 0.5734 - val_loss: 0.5664 - val_accuracy: 0.5514\n",
            "Epoch 76/200\n",
            "1120/1120 [==============================] - 4s 3ms/step - loss: 0.5215 - accuracy: 0.5763 - val_loss: 0.5667 - val_accuracy: 0.5514\n",
            "Epoch 77/200\n",
            "1120/1120 [==============================] - 3s 3ms/step - loss: 0.5213 - accuracy: 0.5761 - val_loss: 0.5656 - val_accuracy: 0.5514\n",
            "Epoch 78/200\n",
            "1120/1120 [==============================] - 4s 3ms/step - loss: 0.5210 - accuracy: 0.5757 - val_loss: 0.5653 - val_accuracy: 0.5471\n",
            "Epoch 79/200\n",
            "1120/1120 [==============================] - 4s 3ms/step - loss: 0.5212 - accuracy: 0.5752 - val_loss: 0.5676 - val_accuracy: 0.5493\n",
            "Epoch 80/200\n",
            "1120/1120 [==============================] - 3s 3ms/step - loss: 0.5208 - accuracy: 0.5755 - val_loss: 0.5661 - val_accuracy: 0.5543\n",
            "Epoch 81/200\n",
            "1120/1120 [==============================] - 3s 3ms/step - loss: 0.5209 - accuracy: 0.5757 - val_loss: 0.5661 - val_accuracy: 0.5486\n",
            "Epoch 82/200\n",
            "1120/1120 [==============================] - 5s 5ms/step - loss: 0.5207 - accuracy: 0.5743 - val_loss: 0.5682 - val_accuracy: 0.5507\n",
            "Epoch 83/200\n",
            "1120/1120 [==============================] - 4s 4ms/step - loss: 0.5211 - accuracy: 0.5750 - val_loss: 0.5679 - val_accuracy: 0.5500\n",
            "Epoch 84/200\n",
            "1120/1120 [==============================] - 4s 3ms/step - loss: 0.5206 - accuracy: 0.5750 - val_loss: 0.5673 - val_accuracy: 0.5507\n",
            "Epoch 85/200\n",
            "1120/1120 [==============================] - 4s 3ms/step - loss: 0.5205 - accuracy: 0.5748 - val_loss: 0.5673 - val_accuracy: 0.5486\n",
            "Epoch 86/200\n",
            "1120/1120 [==============================] - 4s 3ms/step - loss: 0.5206 - accuracy: 0.5730 - val_loss: 0.5661 - val_accuracy: 0.5479\n",
            "Epoch 87/200\n",
            "1120/1120 [==============================] - 3s 3ms/step - loss: 0.5202 - accuracy: 0.5754 - val_loss: 0.5668 - val_accuracy: 0.5479\n",
            "Epoch 88/200\n",
            "1120/1120 [==============================] - 3s 3ms/step - loss: 0.5203 - accuracy: 0.5752 - val_loss: 0.5678 - val_accuracy: 0.5479\n",
            "Epoch 89/200\n",
            "1120/1120 [==============================] - 4s 3ms/step - loss: 0.5205 - accuracy: 0.5761 - val_loss: 0.5675 - val_accuracy: 0.5500\n",
            "Epoch 90/200\n",
            "1120/1120 [==============================] - 3s 3ms/step - loss: 0.5200 - accuracy: 0.5750 - val_loss: 0.5655 - val_accuracy: 0.5450\n",
            "Epoch 91/200\n",
            "1120/1120 [==============================] - 4s 3ms/step - loss: 0.5200 - accuracy: 0.5755 - val_loss: 0.5654 - val_accuracy: 0.5464\n",
            "Epoch 92/200\n",
            "1120/1120 [==============================] - 4s 3ms/step - loss: 0.5200 - accuracy: 0.5750 - val_loss: 0.5660 - val_accuracy: 0.5486\n",
            "Epoch 93/200\n",
            "1120/1120 [==============================] - 3s 3ms/step - loss: 0.5201 - accuracy: 0.5766 - val_loss: 0.5676 - val_accuracy: 0.5514\n",
            "Epoch 94/200\n",
            "1120/1120 [==============================] - 3s 3ms/step - loss: 0.5199 - accuracy: 0.5754 - val_loss: 0.5671 - val_accuracy: 0.5521\n",
            "Epoch 95/200\n",
            "1120/1120 [==============================] - 4s 3ms/step - loss: 0.5197 - accuracy: 0.5743 - val_loss: 0.5666 - val_accuracy: 0.5471\n",
            "Epoch 96/200\n",
            "1120/1120 [==============================] - 4s 3ms/step - loss: 0.5197 - accuracy: 0.5754 - val_loss: 0.5656 - val_accuracy: 0.5486\n",
            "Epoch 97/200\n",
            "1120/1120 [==============================] - 3s 3ms/step - loss: 0.5196 - accuracy: 0.5759 - val_loss: 0.5683 - val_accuracy: 0.5500\n",
            "Epoch 98/200\n",
            "1120/1120 [==============================] - 4s 3ms/step - loss: 0.5198 - accuracy: 0.5748 - val_loss: 0.5673 - val_accuracy: 0.5536\n",
            "Epoch 99/200\n",
            "1120/1120 [==============================] - 4s 4ms/step - loss: 0.5196 - accuracy: 0.5755 - val_loss: 0.5676 - val_accuracy: 0.5521\n",
            "Epoch 100/200\n",
            "1120/1120 [==============================] - 4s 3ms/step - loss: 0.5195 - accuracy: 0.5759 - val_loss: 0.5665 - val_accuracy: 0.5471\n",
            "Epoch 101/200\n",
            "1120/1120 [==============================] - 3s 3ms/step - loss: 0.5191 - accuracy: 0.5755 - val_loss: 0.5662 - val_accuracy: 0.5507\n",
            "Epoch 102/200\n",
            "1120/1120 [==============================] - 3s 3ms/step - loss: 0.5192 - accuracy: 0.5771 - val_loss: 0.5668 - val_accuracy: 0.5443\n",
            "Epoch 103/200\n",
            "1120/1120 [==============================] - 4s 3ms/step - loss: 0.5191 - accuracy: 0.5743 - val_loss: 0.5649 - val_accuracy: 0.5507\n",
            "Epoch 104/200\n",
            "1120/1120 [==============================] - 4s 3ms/step - loss: 0.5190 - accuracy: 0.5755 - val_loss: 0.5671 - val_accuracy: 0.5514\n",
            "Epoch 105/200\n",
            "1120/1120 [==============================] - 4s 3ms/step - loss: 0.5191 - accuracy: 0.5768 - val_loss: 0.5666 - val_accuracy: 0.5521\n",
            "Epoch 106/200\n",
            "1120/1120 [==============================] - 4s 3ms/step - loss: 0.5194 - accuracy: 0.5739 - val_loss: 0.5659 - val_accuracy: 0.5464\n",
            "Epoch 107/200\n",
            "1120/1120 [==============================] - 4s 3ms/step - loss: 0.5189 - accuracy: 0.5746 - val_loss: 0.5658 - val_accuracy: 0.5536\n",
            "Epoch 108/200\n",
            "1120/1120 [==============================] - 4s 3ms/step - loss: 0.5191 - accuracy: 0.5752 - val_loss: 0.5669 - val_accuracy: 0.5493\n",
            "Epoch 109/200\n",
            "1120/1120 [==============================] - 4s 3ms/step - loss: 0.5189 - accuracy: 0.5761 - val_loss: 0.5658 - val_accuracy: 0.5493\n",
            "Epoch 110/200\n",
            "1120/1120 [==============================] - 4s 3ms/step - loss: 0.5188 - accuracy: 0.5745 - val_loss: 0.5676 - val_accuracy: 0.5479\n",
            "Epoch 111/200\n",
            "1120/1120 [==============================] - 4s 3ms/step - loss: 0.5190 - accuracy: 0.5741 - val_loss: 0.5657 - val_accuracy: 0.5457\n",
            "Epoch 112/200\n",
            "1120/1120 [==============================] - 4s 3ms/step - loss: 0.5183 - accuracy: 0.5743 - val_loss: 0.5664 - val_accuracy: 0.5493\n",
            "Epoch 113/200\n",
            "1120/1120 [==============================] - 4s 3ms/step - loss: 0.5187 - accuracy: 0.5761 - val_loss: 0.5660 - val_accuracy: 0.5471\n",
            "Epoch 114/200\n",
            "1120/1120 [==============================] - 4s 3ms/step - loss: 0.5184 - accuracy: 0.5743 - val_loss: 0.5659 - val_accuracy: 0.5457\n",
            "Epoch 115/200\n",
            "1120/1120 [==============================] - 3s 3ms/step - loss: 0.5183 - accuracy: 0.5739 - val_loss: 0.5694 - val_accuracy: 0.5500\n",
            "Epoch 116/200\n",
            "1120/1120 [==============================] - 4s 3ms/step - loss: 0.5181 - accuracy: 0.5732 - val_loss: 0.5664 - val_accuracy: 0.5486\n",
            "Epoch 117/200\n",
            "1120/1120 [==============================] - 4s 3ms/step - loss: 0.5181 - accuracy: 0.5773 - val_loss: 0.5667 - val_accuracy: 0.5514\n",
            "Epoch 118/200\n",
            "1120/1120 [==============================] - 4s 3ms/step - loss: 0.5180 - accuracy: 0.5752 - val_loss: 0.5668 - val_accuracy: 0.5507\n",
            "Epoch 119/200\n",
            "1120/1120 [==============================] - 4s 3ms/step - loss: 0.5180 - accuracy: 0.5757 - val_loss: 0.5666 - val_accuracy: 0.5507\n",
            "Epoch 120/200\n",
            "1120/1120 [==============================] - 3s 3ms/step - loss: 0.5179 - accuracy: 0.5739 - val_loss: 0.5667 - val_accuracy: 0.5471\n",
            "Epoch 121/200\n",
            "1120/1120 [==============================] - 3s 3ms/step - loss: 0.5180 - accuracy: 0.5746 - val_loss: 0.5661 - val_accuracy: 0.5493\n",
            "Epoch 122/200\n",
            "1120/1120 [==============================] - 4s 3ms/step - loss: 0.5177 - accuracy: 0.5743 - val_loss: 0.5654 - val_accuracy: 0.5429\n",
            "Epoch 123/200\n",
            "1120/1120 [==============================] - 4s 3ms/step - loss: 0.5181 - accuracy: 0.5754 - val_loss: 0.5668 - val_accuracy: 0.5464\n",
            "Epoch 124/200\n",
            "1120/1120 [==============================] - 4s 3ms/step - loss: 0.5176 - accuracy: 0.5752 - val_loss: 0.5666 - val_accuracy: 0.5500\n",
            "Epoch 125/200\n",
            "1120/1120 [==============================] - 3s 3ms/step - loss: 0.5177 - accuracy: 0.5743 - val_loss: 0.5690 - val_accuracy: 0.5486\n",
            "Epoch 126/200\n",
            "1120/1120 [==============================] - 3s 3ms/step - loss: 0.5175 - accuracy: 0.5743 - val_loss: 0.5678 - val_accuracy: 0.5493\n",
            "Epoch 127/200\n",
            "1120/1120 [==============================] - 4s 3ms/step - loss: 0.5177 - accuracy: 0.5732 - val_loss: 0.5671 - val_accuracy: 0.5457\n",
            "Epoch 128/200\n",
            "1120/1120 [==============================] - 4s 3ms/step - loss: 0.5175 - accuracy: 0.5732 - val_loss: 0.5669 - val_accuracy: 0.5514\n",
            "Epoch 129/200\n",
            "1120/1120 [==============================] - 4s 4ms/step - loss: 0.5175 - accuracy: 0.5764 - val_loss: 0.5661 - val_accuracy: 0.5471\n",
            "Epoch 130/200\n",
            "1120/1120 [==============================] - 4s 3ms/step - loss: 0.5177 - accuracy: 0.5739 - val_loss: 0.5663 - val_accuracy: 0.5493\n",
            "Epoch 131/200\n",
            "1120/1120 [==============================] - 4s 3ms/step - loss: 0.5170 - accuracy: 0.5764 - val_loss: 0.5688 - val_accuracy: 0.5493\n",
            "Epoch 132/200\n",
            "1120/1120 [==============================] - 3s 3ms/step - loss: 0.5172 - accuracy: 0.5761 - val_loss: 0.5693 - val_accuracy: 0.5529\n",
            "Epoch 133/200\n",
            "1120/1120 [==============================] - 3s 3ms/step - loss: 0.5170 - accuracy: 0.5718 - val_loss: 0.5705 - val_accuracy: 0.5493\n",
            "Epoch 134/200\n",
            "1120/1120 [==============================] - 3s 3ms/step - loss: 0.5170 - accuracy: 0.5759 - val_loss: 0.5671 - val_accuracy: 0.5471\n",
            "Epoch 135/200\n",
            "1120/1120 [==============================] - 4s 3ms/step - loss: 0.5171 - accuracy: 0.5727 - val_loss: 0.5660 - val_accuracy: 0.5500\n",
            "Epoch 136/200\n",
            "1120/1120 [==============================] - 4s 3ms/step - loss: 0.5171 - accuracy: 0.5739 - val_loss: 0.5665 - val_accuracy: 0.5479\n",
            "Epoch 137/200\n",
            "1120/1120 [==============================] - 4s 3ms/step - loss: 0.5170 - accuracy: 0.5748 - val_loss: 0.5664 - val_accuracy: 0.5471\n",
            "Epoch 138/200\n",
            "1120/1120 [==============================] - 4s 3ms/step - loss: 0.5167 - accuracy: 0.5745 - val_loss: 0.5676 - val_accuracy: 0.5500\n",
            "Epoch 139/200\n",
            "1120/1120 [==============================] - 4s 3ms/step - loss: 0.5169 - accuracy: 0.5755 - val_loss: 0.5673 - val_accuracy: 0.5479\n",
            "Epoch 140/200\n",
            "1120/1120 [==============================] - 4s 3ms/step - loss: 0.5165 - accuracy: 0.5739 - val_loss: 0.5672 - val_accuracy: 0.5486\n",
            "Epoch 141/200\n",
            "1120/1120 [==============================] - 4s 3ms/step - loss: 0.5168 - accuracy: 0.5759 - val_loss: 0.5672 - val_accuracy: 0.5493\n",
            "Epoch 142/200\n",
            "1120/1120 [==============================] - 3s 3ms/step - loss: 0.5164 - accuracy: 0.5768 - val_loss: 0.5658 - val_accuracy: 0.5457\n",
            "Epoch 143/200\n",
            "1120/1120 [==============================] - 4s 3ms/step - loss: 0.5168 - accuracy: 0.5743 - val_loss: 0.5675 - val_accuracy: 0.5493\n",
            "Epoch 144/200\n",
            "1120/1120 [==============================] - 5s 4ms/step - loss: 0.5162 - accuracy: 0.5755 - val_loss: 0.5675 - val_accuracy: 0.5471\n",
            "Epoch 145/200\n",
            "1120/1120 [==============================] - 11s 10ms/step - loss: 0.5166 - accuracy: 0.5743 - val_loss: 0.5666 - val_accuracy: 0.5486\n",
            "Epoch 146/200\n",
            "1120/1120 [==============================] - 8s 7ms/step - loss: 0.5164 - accuracy: 0.5736 - val_loss: 0.5670 - val_accuracy: 0.5493\n",
            "Epoch 147/200\n",
            "1120/1120 [==============================] - 4s 4ms/step - loss: 0.5164 - accuracy: 0.5750 - val_loss: 0.5660 - val_accuracy: 0.5429\n",
            "Epoch 148/200\n",
            "1120/1120 [==============================] - 5s 5ms/step - loss: 0.5165 - accuracy: 0.5757 - val_loss: 0.5684 - val_accuracy: 0.5464\n",
            "Epoch 149/200\n",
            "1120/1120 [==============================] - 7s 6ms/step - loss: 0.5161 - accuracy: 0.5752 - val_loss: 0.5672 - val_accuracy: 0.5486\n",
            "Epoch 150/200\n",
            "1120/1120 [==============================] - 4s 4ms/step - loss: 0.5162 - accuracy: 0.5757 - val_loss: 0.5667 - val_accuracy: 0.5471\n",
            "Epoch 151/200\n",
            "1120/1120 [==============================] - 4s 4ms/step - loss: 0.5160 - accuracy: 0.5730 - val_loss: 0.5672 - val_accuracy: 0.5486\n",
            "Epoch 152/200\n",
            "1120/1120 [==============================] - 4s 4ms/step - loss: 0.5162 - accuracy: 0.5736 - val_loss: 0.5664 - val_accuracy: 0.5507\n",
            "Epoch 153/200\n",
            "1120/1120 [==============================] - 4s 4ms/step - loss: 0.5158 - accuracy: 0.5761 - val_loss: 0.5670 - val_accuracy: 0.5457\n",
            "Epoch 154/200\n",
            "1120/1120 [==============================] - 5s 4ms/step - loss: 0.5154 - accuracy: 0.5736 - val_loss: 0.5662 - val_accuracy: 0.5471\n",
            "Epoch 155/200\n",
            "1120/1120 [==============================] - 4s 4ms/step - loss: 0.5157 - accuracy: 0.5743 - val_loss: 0.5672 - val_accuracy: 0.5443\n",
            "Epoch 156/200\n",
            "1120/1120 [==============================] - 7s 6ms/step - loss: 0.5158 - accuracy: 0.5734 - val_loss: 0.5666 - val_accuracy: 0.5471\n",
            "Epoch 157/200\n",
            "1120/1120 [==============================] - 6s 6ms/step - loss: 0.5159 - accuracy: 0.5746 - val_loss: 0.5661 - val_accuracy: 0.5443\n",
            "Epoch 158/200\n",
            "1120/1120 [==============================] - 4s 4ms/step - loss: 0.5159 - accuracy: 0.5736 - val_loss: 0.5669 - val_accuracy: 0.5450\n",
            "Epoch 159/200\n",
            "1120/1120 [==============================] - 4s 4ms/step - loss: 0.5156 - accuracy: 0.5746 - val_loss: 0.5665 - val_accuracy: 0.5464\n",
            "Epoch 160/200\n",
            "1120/1120 [==============================] - 4s 4ms/step - loss: 0.5155 - accuracy: 0.5729 - val_loss: 0.5665 - val_accuracy: 0.5486\n",
            "Epoch 161/200\n",
            "1120/1120 [==============================] - 4s 4ms/step - loss: 0.5154 - accuracy: 0.5755 - val_loss: 0.5667 - val_accuracy: 0.5443\n",
            "Epoch 162/200\n",
            "1120/1120 [==============================] - 4s 4ms/step - loss: 0.5152 - accuracy: 0.5734 - val_loss: 0.5673 - val_accuracy: 0.5514\n",
            "Epoch 163/200\n",
            "1120/1120 [==============================] - 5s 5ms/step - loss: 0.5151 - accuracy: 0.5739 - val_loss: 0.5667 - val_accuracy: 0.5471\n",
            "Epoch 164/200\n",
            "1120/1120 [==============================] - 5s 4ms/step - loss: 0.5153 - accuracy: 0.5759 - val_loss: 0.5663 - val_accuracy: 0.5443\n",
            "Epoch 165/200\n",
            "1120/1120 [==============================] - 4s 4ms/step - loss: 0.5155 - accuracy: 0.5754 - val_loss: 0.5668 - val_accuracy: 0.5464\n",
            "Epoch 166/200\n",
            "1120/1120 [==============================] - 4s 4ms/step - loss: 0.5148 - accuracy: 0.5727 - val_loss: 0.5672 - val_accuracy: 0.5486\n",
            "Epoch 167/200\n",
            "1120/1120 [==============================] - 5s 5ms/step - loss: 0.5152 - accuracy: 0.5743 - val_loss: 0.5665 - val_accuracy: 0.5457\n",
            "Epoch 168/200\n",
            "1120/1120 [==============================] - 5s 4ms/step - loss: 0.5149 - accuracy: 0.5750 - val_loss: 0.5684 - val_accuracy: 0.5486\n",
            "Epoch 169/200\n",
            "1120/1120 [==============================] - 4s 4ms/step - loss: 0.5150 - accuracy: 0.5768 - val_loss: 0.5665 - val_accuracy: 0.5443\n",
            "Epoch 170/200\n",
            "1120/1120 [==============================] - 4s 4ms/step - loss: 0.5149 - accuracy: 0.5750 - val_loss: 0.5671 - val_accuracy: 0.5443\n",
            "Epoch 171/200\n",
            "1120/1120 [==============================] - 6s 5ms/step - loss: 0.5145 - accuracy: 0.5734 - val_loss: 0.5668 - val_accuracy: 0.5507\n",
            "Epoch 172/200\n",
            "1120/1120 [==============================] - 8s 7ms/step - loss: 0.5148 - accuracy: 0.5720 - val_loss: 0.5656 - val_accuracy: 0.5443\n",
            "Epoch 173/200\n",
            "1120/1120 [==============================] - 4s 4ms/step - loss: 0.5146 - accuracy: 0.5734 - val_loss: 0.5687 - val_accuracy: 0.5500\n",
            "Epoch 174/200\n",
            "1120/1120 [==============================] - 4s 4ms/step - loss: 0.5145 - accuracy: 0.5736 - val_loss: 0.5674 - val_accuracy: 0.5500\n",
            "Epoch 175/200\n",
            "1120/1120 [==============================] - 4s 4ms/step - loss: 0.5149 - accuracy: 0.5725 - val_loss: 0.5661 - val_accuracy: 0.5493\n",
            "Epoch 176/200\n",
            "1120/1120 [==============================] - 4s 3ms/step - loss: 0.5146 - accuracy: 0.5757 - val_loss: 0.5666 - val_accuracy: 0.5450\n",
            "Epoch 177/200\n",
            "1120/1120 [==============================] - 7s 6ms/step - loss: 0.5145 - accuracy: 0.5750 - val_loss: 0.5668 - val_accuracy: 0.5486\n",
            "Epoch 178/200\n",
            "1120/1120 [==============================] - 5s 5ms/step - loss: 0.5146 - accuracy: 0.5750 - val_loss: 0.5668 - val_accuracy: 0.5443\n",
            "Epoch 179/200\n",
            "1120/1120 [==============================] - 4s 3ms/step - loss: 0.5143 - accuracy: 0.5727 - val_loss: 0.5664 - val_accuracy: 0.5421\n",
            "Epoch 180/200\n",
            "1120/1120 [==============================] - 4s 4ms/step - loss: 0.5143 - accuracy: 0.5741 - val_loss: 0.5664 - val_accuracy: 0.5479\n",
            "Epoch 181/200\n",
            "1120/1120 [==============================] - 5s 5ms/step - loss: 0.5142 - accuracy: 0.5750 - val_loss: 0.5683 - val_accuracy: 0.5507\n",
            "Epoch 182/200\n",
            "1120/1120 [==============================] - 4s 3ms/step - loss: 0.5141 - accuracy: 0.5738 - val_loss: 0.5671 - val_accuracy: 0.5500\n",
            "Epoch 183/200\n",
            "1120/1120 [==============================] - 5s 5ms/step - loss: 0.5142 - accuracy: 0.5738 - val_loss: 0.5665 - val_accuracy: 0.5436\n",
            "Epoch 184/200\n",
            "1120/1120 [==============================] - 5s 5ms/step - loss: 0.5139 - accuracy: 0.5734 - val_loss: 0.5663 - val_accuracy: 0.5507\n",
            "Epoch 185/200\n",
            "1120/1120 [==============================] - 5s 5ms/step - loss: 0.5140 - accuracy: 0.5745 - val_loss: 0.5671 - val_accuracy: 0.5493\n",
            "Epoch 186/200\n",
            "1120/1120 [==============================] - 7s 6ms/step - loss: 0.5138 - accuracy: 0.5755 - val_loss: 0.5663 - val_accuracy: 0.5386\n",
            "Epoch 187/200\n",
            "1120/1120 [==============================] - 4s 3ms/step - loss: 0.5139 - accuracy: 0.5745 - val_loss: 0.5704 - val_accuracy: 0.5514\n",
            "Epoch 188/200\n",
            "1120/1120 [==============================] - 4s 3ms/step - loss: 0.5138 - accuracy: 0.5738 - val_loss: 0.5682 - val_accuracy: 0.5500\n",
            "Epoch 189/200\n",
            "1120/1120 [==============================] - 4s 3ms/step - loss: 0.5138 - accuracy: 0.5743 - val_loss: 0.5677 - val_accuracy: 0.5464\n",
            "Epoch 190/200\n",
            "1120/1120 [==============================] - 4s 4ms/step - loss: 0.5139 - accuracy: 0.5746 - val_loss: 0.5671 - val_accuracy: 0.5464\n",
            "Epoch 191/200\n",
            "1120/1120 [==============================] - 4s 3ms/step - loss: 0.5137 - accuracy: 0.5730 - val_loss: 0.5669 - val_accuracy: 0.5471\n",
            "Epoch 192/200\n",
            "1120/1120 [==============================] - 7s 6ms/step - loss: 0.5134 - accuracy: 0.5745 - val_loss: 0.5670 - val_accuracy: 0.5421\n",
            "Epoch 193/200\n",
            "1120/1120 [==============================] - 8s 7ms/step - loss: 0.5135 - accuracy: 0.5759 - val_loss: 0.5669 - val_accuracy: 0.5429\n",
            "Epoch 194/200\n",
            "1120/1120 [==============================] - 7s 6ms/step - loss: 0.5134 - accuracy: 0.5764 - val_loss: 0.5682 - val_accuracy: 0.5507\n",
            "Epoch 195/200\n",
            "1120/1120 [==============================] - 5s 4ms/step - loss: 0.5134 - accuracy: 0.5748 - val_loss: 0.5674 - val_accuracy: 0.5507\n",
            "Epoch 196/200\n",
            "1120/1120 [==============================] - 6s 5ms/step - loss: 0.5131 - accuracy: 0.5750 - val_loss: 0.5681 - val_accuracy: 0.5493\n",
            "Epoch 197/200\n",
            "1120/1120 [==============================] - 4s 4ms/step - loss: 0.5133 - accuracy: 0.5752 - val_loss: 0.5674 - val_accuracy: 0.5500\n",
            "Epoch 198/200\n",
            "1120/1120 [==============================] - 5s 4ms/step - loss: 0.5133 - accuracy: 0.5741 - val_loss: 0.5673 - val_accuracy: 0.5486\n",
            "Epoch 199/200\n",
            "1120/1120 [==============================] - 6s 5ms/step - loss: 0.5132 - accuracy: 0.5738 - val_loss: 0.5683 - val_accuracy: 0.5521\n",
            "Epoch 200/200\n",
            "1120/1120 [==============================] - 5s 5ms/step - loss: 0.5133 - accuracy: 0.5752 - val_loss: 0.5697 - val_accuracy: 0.5507\n"
          ]
        }
      ]
    },
    {
      "cell_type": "code",
      "source": [
        "#Выводим графики\n",
        "\n",
        "# plt.plot(history.history['loss'], \n",
        "#          label='Средняя абсолютная ошибка на обучающем наборе')\n",
        "# plt.plot(history.history['val_loss'], \n",
        "#          label='Средняя абсолютная ошибка на проверочном наборе')\n",
        "# plt.ylabel('Средняя ошибка')\n",
        "# plt.legend()\n",
        "# plt.show()"
      ],
      "metadata": {
        "colab": {
          "base_uri": "https://localhost:8080/",
          "height": 265
        },
        "id": "n4vUbXEHU_vg",
        "outputId": "3b7bb90c-d25c-42ee-f3b5-e2d792d4c5e2"
      },
      "execution_count": 101,
      "outputs": [
        {
          "output_type": "display_data",
          "data": {
            "text/plain": [
              "<Figure size 432x288 with 1 Axes>"
            ],
            "image/png": "[encoded data removed]"
          },
          "metadata": {
            "needs_background": "light"
          }
        }
      ]
    },
    {
      "cell_type": "markdown",
      "source": [
        "# Ещё одну сеть пробуем"
      ],
      "metadata": {
        "id": "aSg_3crDYFi8"
      }
    },
    {
      "cell_type": "code",
      "source": [
        "#Создаём нейронку\n",
        "model_5 = Sequential()\n",
        "model_5.add(BatchNormalization(input_dim=118))\n",
        "model_5.add(Dense(128, activation='relu'))\n",
        "model_5.add(Dense(1000, activation='tanh'))\n",
        "model_5.add(Dense(100, activation='relu'))\n",
        "model_5.add(Dense(3, activation='linear'))"
      ],
      "metadata": {
        "id": "7NRxBTnRYBgh"
      },
      "execution_count": 103,
      "outputs": []
    },
    {
      "cell_type": "code",
      "source": [
        "model_5.compile(optimizer=Adam(learning_rate=1e-5), \n",
        "                loss='mse', \n",
        "                metrics=['accuracy'])"
      ],
      "metadata": {
        "id": "BWgsKVRXYw76"
      },
      "execution_count": 105,
      "outputs": []
    },
    {
      "cell_type": "code",
      "source": [
        "history = model_5.fit(x_train, \n",
        "                      y_train, \n",
        "                      epochs=50,\n",
        "                      batch_size=10,\n",
        "                      validation_data=(x_test, y_test))"
      ],
      "metadata": {
        "colab": {
          "base_uri": "https://localhost:8080/"
        },
        "id": "tH-gRkuiY066",
        "outputId": "5174ad6b-0f87-433e-e7e6-3f4fdd94a6b5"
      },
      "execution_count": 107,
      "outputs": [
        {
          "output_type": "stream",
          "name": "stdout",
          "text": [
            "Epoch 1/50\n",
            "560/560 [==============================] - 2s 4ms/step - loss: 0.5523 - accuracy: 0.6768 - val_loss: 1.3657 - val_accuracy: 0.6593\n",
            "Epoch 2/50\n",
            "560/560 [==============================] - 2s 3ms/step - loss: 0.5433 - accuracy: 0.6854 - val_loss: 1.3705 - val_accuracy: 0.6629\n",
            "Epoch 3/50\n",
            "560/560 [==============================] - 2s 3ms/step - loss: 0.5476 - accuracy: 0.6804 - val_loss: 1.3798 - val_accuracy: 0.6650\n",
            "Epoch 4/50\n",
            "560/560 [==============================] - 2s 3ms/step - loss: 0.5489 - accuracy: 0.6793 - val_loss: 1.3839 - val_accuracy: 0.6614\n",
            "Epoch 5/50\n",
            "560/560 [==============================] - 2s 3ms/step - loss: 0.5503 - accuracy: 0.6837 - val_loss: 1.3838 - val_accuracy: 0.6593\n",
            "Epoch 6/50\n",
            "560/560 [==============================] - 2s 4ms/step - loss: 0.5480 - accuracy: 0.6854 - val_loss: 1.3889 - val_accuracy: 0.6586\n",
            "Epoch 7/50\n",
            "560/560 [==============================] - 2s 4ms/step - loss: 0.5602 - accuracy: 0.6780 - val_loss: 1.4059 - val_accuracy: 0.6543\n",
            "Epoch 8/50\n",
            "560/560 [==============================] - 2s 3ms/step - loss: 0.5540 - accuracy: 0.6832 - val_loss: 1.4001 - val_accuracy: 0.6543\n",
            "Epoch 9/50\n",
            "560/560 [==============================] - 2s 3ms/step - loss: 0.5438 - accuracy: 0.6855 - val_loss: 1.3847 - val_accuracy: 0.6636\n",
            "Epoch 10/50\n",
            "560/560 [==============================] - 2s 3ms/step - loss: 0.5450 - accuracy: 0.6832 - val_loss: 1.3882 - val_accuracy: 0.6571\n",
            "Epoch 11/50\n",
            "560/560 [==============================] - 2s 3ms/step - loss: 0.5491 - accuracy: 0.6893 - val_loss: 1.3915 - val_accuracy: 0.6614\n",
            "Epoch 12/50\n",
            "560/560 [==============================] - 2s 3ms/step - loss: 0.5415 - accuracy: 0.6809 - val_loss: 1.3913 - val_accuracy: 0.6607\n",
            "Epoch 13/50\n",
            "560/560 [==============================] - 2s 4ms/step - loss: 0.5409 - accuracy: 0.6859 - val_loss: 1.4108 - val_accuracy: 0.6586\n",
            "Epoch 14/50\n",
            "560/560 [==============================] - 2s 3ms/step - loss: 0.5425 - accuracy: 0.6770 - val_loss: 1.3949 - val_accuracy: 0.6593\n",
            "Epoch 15/50\n",
            "560/560 [==============================] - 2s 4ms/step - loss: 0.5408 - accuracy: 0.6814 - val_loss: 1.4012 - val_accuracy: 0.6579\n",
            "Epoch 16/50\n",
            "560/560 [==============================] - 2s 3ms/step - loss: 0.5325 - accuracy: 0.6854 - val_loss: 1.4034 - val_accuracy: 0.6621\n",
            "Epoch 17/50\n",
            "560/560 [==============================] - 2s 3ms/step - loss: 0.5410 - accuracy: 0.6868 - val_loss: 1.3916 - val_accuracy: 0.6614\n",
            "Epoch 18/50\n",
            "560/560 [==============================] - 2s 3ms/step - loss: 0.5359 - accuracy: 0.6918 - val_loss: 1.3884 - val_accuracy: 0.6564\n",
            "Epoch 19/50\n",
            "560/560 [==============================] - 2s 3ms/step - loss: 0.5353 - accuracy: 0.6886 - val_loss: 1.3868 - val_accuracy: 0.6629\n",
            "Epoch 20/50\n",
            "560/560 [==============================] - 2s 4ms/step - loss: 0.5373 - accuracy: 0.6841 - val_loss: 1.3615 - val_accuracy: 0.6629\n",
            "Epoch 21/50\n",
            "560/560 [==============================] - 2s 3ms/step - loss: 0.5384 - accuracy: 0.6879 - val_loss: 1.3959 - val_accuracy: 0.6514\n",
            "Epoch 22/50\n",
            "560/560 [==============================] - 2s 3ms/step - loss: 0.5409 - accuracy: 0.6875 - val_loss: 1.4319 - val_accuracy: 0.6557\n",
            "Epoch 23/50\n",
            "560/560 [==============================] - 2s 3ms/step - loss: 0.5347 - accuracy: 0.6862 - val_loss: 1.4044 - val_accuracy: 0.6514\n",
            "Epoch 24/50\n",
            "560/560 [==============================] - 2s 4ms/step - loss: 0.5346 - accuracy: 0.6805 - val_loss: 1.4224 - val_accuracy: 0.6571\n",
            "Epoch 25/50\n",
            "560/560 [==============================] - 2s 4ms/step - loss: 0.5332 - accuracy: 0.6850 - val_loss: 1.4147 - val_accuracy: 0.6529\n",
            "Epoch 26/50\n",
            "560/560 [==============================] - 2s 3ms/step - loss: 0.5426 - accuracy: 0.6850 - val_loss: 1.4091 - val_accuracy: 0.6579\n",
            "Epoch 27/50\n",
            "560/560 [==============================] - 2s 3ms/step - loss: 0.5401 - accuracy: 0.6902 - val_loss: 1.4120 - val_accuracy: 0.6564\n",
            "Epoch 28/50\n",
            "560/560 [==============================] - 2s 4ms/step - loss: 0.5394 - accuracy: 0.6925 - val_loss: 1.4119 - val_accuracy: 0.6543\n",
            "Epoch 29/50\n",
            "560/560 [==============================] - 2s 3ms/step - loss: 0.5335 - accuracy: 0.6807 - val_loss: 1.3998 - val_accuracy: 0.6593\n",
            "Epoch 30/50\n",
            "560/560 [==============================] - 2s 3ms/step - loss: 0.5401 - accuracy: 0.6796 - val_loss: 1.3858 - val_accuracy: 0.6543\n",
            "Epoch 31/50\n",
            "560/560 [==============================] - 2s 4ms/step - loss: 0.5352 - accuracy: 0.6854 - val_loss: 1.4065 - val_accuracy: 0.6579\n",
            "Epoch 32/50\n",
            "560/560 [==============================] - 2s 3ms/step - loss: 0.5262 - accuracy: 0.6891 - val_loss: 1.3656 - val_accuracy: 0.6571\n",
            "Epoch 33/50\n",
            "560/560 [==============================] - 2s 4ms/step - loss: 0.5323 - accuracy: 0.6866 - val_loss: 1.3942 - val_accuracy: 0.6586\n",
            "Epoch 34/50\n",
            "560/560 [==============================] - 3s 5ms/step - loss: 0.5206 - accuracy: 0.6862 - val_loss: 1.4061 - val_accuracy: 0.6586\n",
            "Epoch 35/50\n",
            "560/560 [==============================] - 2s 4ms/step - loss: 0.5306 - accuracy: 0.6827 - val_loss: 1.4058 - val_accuracy: 0.6514\n",
            "Epoch 36/50\n",
            "560/560 [==============================] - 2s 3ms/step - loss: 0.5262 - accuracy: 0.6970 - val_loss: 1.3825 - val_accuracy: 0.6586\n",
            "Epoch 37/50\n",
            "560/560 [==============================] - 2s 3ms/step - loss: 0.5285 - accuracy: 0.6939 - val_loss: 1.4325 - val_accuracy: 0.6586\n",
            "Epoch 38/50\n",
            "560/560 [==============================] - 2s 3ms/step - loss: 0.5244 - accuracy: 0.6929 - val_loss: 1.3965 - val_accuracy: 0.6614\n",
            "Epoch 39/50\n",
            "560/560 [==============================] - 2s 3ms/step - loss: 0.5296 - accuracy: 0.6896 - val_loss: 1.3983 - val_accuracy: 0.6521\n",
            "Epoch 40/50\n",
            "560/560 [==============================] - 2s 4ms/step - loss: 0.5209 - accuracy: 0.6879 - val_loss: 1.3900 - val_accuracy: 0.6557\n",
            "Epoch 41/50\n",
            "560/560 [==============================] - 2s 3ms/step - loss: 0.5295 - accuracy: 0.6834 - val_loss: 1.3828 - val_accuracy: 0.6564\n",
            "Epoch 42/50\n",
            "560/560 [==============================] - 2s 4ms/step - loss: 0.5291 - accuracy: 0.6852 - val_loss: 1.4072 - val_accuracy: 0.6543\n",
            "Epoch 43/50\n",
            "560/560 [==============================] - 2s 3ms/step - loss: 0.5293 - accuracy: 0.6888 - val_loss: 1.3961 - val_accuracy: 0.6579\n",
            "Epoch 44/50\n",
            "560/560 [==============================] - 2s 3ms/step - loss: 0.5313 - accuracy: 0.6843 - val_loss: 1.4249 - val_accuracy: 0.6543\n",
            "Epoch 45/50\n",
            "560/560 [==============================] - 2s 3ms/step - loss: 0.5245 - accuracy: 0.6871 - val_loss: 1.3964 - val_accuracy: 0.6507\n",
            "Epoch 46/50\n",
            "560/560 [==============================] - 2s 4ms/step - loss: 0.5242 - accuracy: 0.6918 - val_loss: 1.4150 - val_accuracy: 0.6571\n",
            "Epoch 47/50\n",
            "560/560 [==============================] - 2s 4ms/step - loss: 0.5244 - accuracy: 0.6891 - val_loss: 1.4355 - val_accuracy: 0.6593\n",
            "Epoch 48/50\n",
            "560/560 [==============================] - 2s 3ms/step - loss: 0.5287 - accuracy: 0.6905 - val_loss: 1.3925 - val_accuracy: 0.6543\n",
            "Epoch 49/50\n",
            "560/560 [==============================] - 2s 4ms/step - loss: 0.5234 - accuracy: 0.6846 - val_loss: 1.4362 - val_accuracy: 0.6643\n",
            "Epoch 50/50\n",
            "560/560 [==============================] - 2s 4ms/step - loss: 0.5235 - accuracy: 0.6939 - val_loss: 1.4109 - val_accuracy: 0.6479\n"
          ]
        }
      ]
    },
    {
      "cell_type": "code",
      "source": [
        "#Выводим графики\n",
        "\n",
        "plt.plot(history.history['loss'], \n",
        "         label='Средняя абсолютная ошибка на обучающем наборе')\n",
        "plt.plot(history.history['val_loss'], \n",
        "         label='Средняя абсолютная ошибка на проверочном наборе')\n",
        "plt.ylabel('Средняя ошибка')\n",
        "plt.legend()\n",
        "plt.show()"
      ],
      "metadata": {
        "colab": {
          "base_uri": "https://localhost:8080/",
          "height": 265
        },
        "id": "ad8psGrFZBgs",
        "outputId": "3d90b078-10b0-4fea-9fdb-f4241b96c4c4"
      },
      "execution_count": 108,
      "outputs": [
        {
          "output_type": "display_data",
          "data": {
            "text/plain": [
              "<Figure size 432x288 with 1 Axes>"
            ],
            "image/png": "[encoded data removed]"
          },
          "metadata": {
            "needs_background": "light"
          }
        }
      ]
    },
    {
      "cell_type": "markdown",
      "source": [
        "# Делаем прогноза на тестовых данных"
      ],
      "metadata": {
        "id": "olTBO0YqW2Ir"
      }
    },
    {
      "cell_type": "code",
      "source": [
        ""
      ],
      "metadata": {
        "id": "2RTzWpYeWGkW"
      },
      "execution_count": null,
      "outputs": []
    }
  ]
}